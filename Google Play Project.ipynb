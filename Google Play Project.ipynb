{
 "cells": [
  {
   "cell_type": "markdown",
   "metadata": {},
   "source": [
    "### Analyzing Google Play Store Data"
   ]
  },
  {
   "cell_type": "markdown",
   "metadata": {},
   "source": [
    "#### Project Done By : Reem Alashhab"
   ]
  },
  {
   "cell_type": "markdown",
   "metadata": {},
   "source": [
    "### Introduction "
   ]
  },
  {
   "cell_type": "markdown",
   "metadata": {},
   "source": [
    "Google Play Store is a huge digital media store as it offers music, books, movies, games, and etc. For the Android mobile developers, it might be sometimes a difficult decision to decide on a successful and profitable application to develop in the market. For this reason, I am going to investigate the data set for Google Play Store (Last Updated : 3/2/2019 ) to answer some important questions. The data set is pulled from Kaggle Website. Kaggle is an online website that acts as a community for data scientists and machine learners. It is owned by Google Company. Kaggle allows users to find and publish data sets through its website online. It also offers data science and machine learning competitions and many other services. \n"
   ]
  },
  {
   "cell_type": "markdown",
   "metadata": {},
   "source": [
    "### Project Phases "
   ]
  },
  {
   "cell_type": "markdown",
   "metadata": {},
   "source": [
    "To complete this project successfully and efficiently, I will go through three data wrangling phases before presenting the final visualizations : \n",
    "\n",
    "* Gathering Data.\n",
    "* Assessing Data.\n",
    "* Cleaning Data."
   ]
  },
  {
   "cell_type": "markdown",
   "metadata": {},
   "source": [
    "### Project Requirements"
   ]
  },
  {
   "cell_type": "markdown",
   "metadata": {},
   "source": [
    "* Installing Jupyter Notebook."
   ]
  },
  {
   "cell_type": "markdown",
   "metadata": {},
   "source": [
    "### Table of Content "
   ]
  },
  {
   "cell_type": "markdown",
   "metadata": {},
   "source": [
    "* Gathering Data.\n",
    "* Assessing Data.\n",
    "* Cleaning Data.\n",
    "* Data Analysis and Visualizations."
   ]
  },
  {
   "cell_type": "markdown",
   "metadata": {},
   "source": [
    "### Data Dictionary"
   ]
  },
  {
   "cell_type": "markdown",
   "metadata": {},
   "source": [
    "1. App:Application name.\n",
    "2. Category: Category the app belongs to.\n",
    "3. Rating: Overall user rating of the app (as when scraped).\n",
    "4. ReviewsNumber: of user reviews for the app (as when scraped).\n",
    "5. Size: Size of the app (as when scraped).\n",
    "6. Installs: Number of user downloads/installs for the app (as when scraped).\n",
    "7. Type: Paid or Free.\n",
    "8. Price: Price of the app (as when scraped).\n",
    "9. Content Rating: Age group the app is targeted at - Children / Mature 21+ / Adult.\n",
    "\n",
    "**Content Rating Categories :**\n",
    "\n",
    "**Everyone**\n",
    "\n",
    "Content is generally suitable for all ages. May contain minimal cartoon, fantasy or mild violence and/or infrequent use of mild language.\n",
    "\n",
    "**Everyone 10+**\n",
    "\n",
    "Content is generally suitable for ages 10 and up. May contain more cartoon, fantasy or mild violence, mild language and/or minimal suggestive themes.\n",
    "\n",
    "**Teen**\n",
    "\n",
    "Content is generally suitable for ages 13 and up. May contain violence, suggestive themes, crude humor, minimal blood, simulated gambling and/or infrequent use of strong language.\n",
    "\n",
    "**Mature 17+**\n",
    "\n",
    "Content is generally suitable for ages 17 and up. May contain intense violence, blood and gore, sexual content and/or strong language.\n",
    "\n",
    "\n",
    "10. Genres : An app can belong to multiple genres (apart from its main category). For eg, a musical family game will belong to Music, Game, Family genres.\n",
    "11. Last UpdatedDate : when the app was last updated on Play Store (as when scraped).\n",
    "12. Current Ver: Current version of the app available on Play Store (as when scraped).\n",
    "13. Android VerMin: required Android version (as when scraped)."
   ]
  },
  {
   "cell_type": "markdown",
   "metadata": {},
   "source": [
    "### Gathering Data \n",
    "\n",
    "Gathering data is the first step in the data wrangling process. It invloves obtaining the data. In this project, I added the data set of Google Play Store automaticly from the website and then added it to the Jupyter Environment because this data set is updated from time to time.\n"
   ]
  },
  {
   "cell_type": "code",
   "execution_count": 5,
   "metadata": {},
   "outputs": [],
   "source": [
    "# importing some python libraries required \n",
    "# through all the data analysis for the selected data set\n",
    "import pandas as pd\n",
    "import csv \n",
    "import matplotlib.pyplot as plt\n",
    "import seaborn as sns\n",
    "sns.set_style('darkgrid')\n",
    "%matplotlib inline "
   ]
  },
  {
   "cell_type": "code",
   "execution_count": 194,
   "metadata": {},
   "outputs": [],
   "source": [
    "# reading the data set file\n",
    "google_store = pd.read_csv('googleplaystore.csv')"
   ]
  },
  {
   "cell_type": "code",
   "execution_count": 195,
   "metadata": {},
   "outputs": [
    {
     "data": {
      "text/html": [
       "<div>\n",
       "<style scoped>\n",
       "    .dataframe tbody tr th:only-of-type {\n",
       "        vertical-align: middle;\n",
       "    }\n",
       "\n",
       "    .dataframe tbody tr th {\n",
       "        vertical-align: top;\n",
       "    }\n",
       "\n",
       "    .dataframe thead th {\n",
       "        text-align: right;\n",
       "    }\n",
       "</style>\n",
       "<table border=\"1\" class=\"dataframe\">\n",
       "  <thead>\n",
       "    <tr style=\"text-align: right;\">\n",
       "      <th></th>\n",
       "      <th>App</th>\n",
       "      <th>Category</th>\n",
       "      <th>Rating</th>\n",
       "      <th>Reviews</th>\n",
       "      <th>Size</th>\n",
       "      <th>Installs</th>\n",
       "      <th>Type</th>\n",
       "      <th>Price</th>\n",
       "      <th>Content Rating</th>\n",
       "      <th>Genres</th>\n",
       "      <th>Last Updated</th>\n",
       "      <th>Current Ver</th>\n",
       "      <th>Android Ver</th>\n",
       "    </tr>\n",
       "  </thead>\n",
       "  <tbody>\n",
       "    <tr>\n",
       "      <th>0</th>\n",
       "      <td>Photo Editor &amp; Candy Camera &amp; Grid &amp; ScrapBook</td>\n",
       "      <td>ART_AND_DESIGN</td>\n",
       "      <td>4.1</td>\n",
       "      <td>159</td>\n",
       "      <td>19M</td>\n",
       "      <td>10,000+</td>\n",
       "      <td>Free</td>\n",
       "      <td>0</td>\n",
       "      <td>Everyone</td>\n",
       "      <td>Art &amp; Design</td>\n",
       "      <td>January 7, 2018</td>\n",
       "      <td>1.0.0</td>\n",
       "      <td>4.0.3 and up</td>\n",
       "    </tr>\n",
       "    <tr>\n",
       "      <th>1</th>\n",
       "      <td>Coloring book moana</td>\n",
       "      <td>ART_AND_DESIGN</td>\n",
       "      <td>3.9</td>\n",
       "      <td>967</td>\n",
       "      <td>14M</td>\n",
       "      <td>500,000+</td>\n",
       "      <td>Free</td>\n",
       "      <td>0</td>\n",
       "      <td>Everyone</td>\n",
       "      <td>Art &amp; Design;Pretend Play</td>\n",
       "      <td>January 15, 2018</td>\n",
       "      <td>2.0.0</td>\n",
       "      <td>4.0.3 and up</td>\n",
       "    </tr>\n",
       "    <tr>\n",
       "      <th>2</th>\n",
       "      <td>U Launcher Lite – FREE Live Cool Themes, Hide ...</td>\n",
       "      <td>ART_AND_DESIGN</td>\n",
       "      <td>4.7</td>\n",
       "      <td>87510</td>\n",
       "      <td>8.7M</td>\n",
       "      <td>5,000,000+</td>\n",
       "      <td>Free</td>\n",
       "      <td>0</td>\n",
       "      <td>Everyone</td>\n",
       "      <td>Art &amp; Design</td>\n",
       "      <td>August 1, 2018</td>\n",
       "      <td>1.2.4</td>\n",
       "      <td>4.0.3 and up</td>\n",
       "    </tr>\n",
       "    <tr>\n",
       "      <th>3</th>\n",
       "      <td>Sketch - Draw &amp; Paint</td>\n",
       "      <td>ART_AND_DESIGN</td>\n",
       "      <td>4.5</td>\n",
       "      <td>215644</td>\n",
       "      <td>25M</td>\n",
       "      <td>50,000,000+</td>\n",
       "      <td>Free</td>\n",
       "      <td>0</td>\n",
       "      <td>Teen</td>\n",
       "      <td>Art &amp; Design</td>\n",
       "      <td>June 8, 2018</td>\n",
       "      <td>Varies with device</td>\n",
       "      <td>4.2 and up</td>\n",
       "    </tr>\n",
       "    <tr>\n",
       "      <th>4</th>\n",
       "      <td>Pixel Draw - Number Art Coloring Book</td>\n",
       "      <td>ART_AND_DESIGN</td>\n",
       "      <td>4.3</td>\n",
       "      <td>967</td>\n",
       "      <td>2.8M</td>\n",
       "      <td>100,000+</td>\n",
       "      <td>Free</td>\n",
       "      <td>0</td>\n",
       "      <td>Everyone</td>\n",
       "      <td>Art &amp; Design;Creativity</td>\n",
       "      <td>June 20, 2018</td>\n",
       "      <td>1.1</td>\n",
       "      <td>4.4 and up</td>\n",
       "    </tr>\n",
       "  </tbody>\n",
       "</table>\n",
       "</div>"
      ],
      "text/plain": [
       "                                                 App        Category  Rating  \\\n",
       "0     Photo Editor & Candy Camera & Grid & ScrapBook  ART_AND_DESIGN     4.1   \n",
       "1                                Coloring book moana  ART_AND_DESIGN     3.9   \n",
       "2  U Launcher Lite – FREE Live Cool Themes, Hide ...  ART_AND_DESIGN     4.7   \n",
       "3                              Sketch - Draw & Paint  ART_AND_DESIGN     4.5   \n",
       "4              Pixel Draw - Number Art Coloring Book  ART_AND_DESIGN     4.3   \n",
       "\n",
       "  Reviews  Size     Installs  Type Price Content Rating  \\\n",
       "0     159   19M      10,000+  Free     0       Everyone   \n",
       "1     967   14M     500,000+  Free     0       Everyone   \n",
       "2   87510  8.7M   5,000,000+  Free     0       Everyone   \n",
       "3  215644   25M  50,000,000+  Free     0           Teen   \n",
       "4     967  2.8M     100,000+  Free     0       Everyone   \n",
       "\n",
       "                      Genres      Last Updated         Current Ver  \\\n",
       "0               Art & Design   January 7, 2018               1.0.0   \n",
       "1  Art & Design;Pretend Play  January 15, 2018               2.0.0   \n",
       "2               Art & Design    August 1, 2018               1.2.4   \n",
       "3               Art & Design      June 8, 2018  Varies with device   \n",
       "4    Art & Design;Creativity     June 20, 2018                 1.1   \n",
       "\n",
       "    Android Ver  \n",
       "0  4.0.3 and up  \n",
       "1  4.0.3 and up  \n",
       "2  4.0.3 and up  \n",
       "3    4.2 and up  \n",
       "4    4.4 and up  "
      ]
     },
     "execution_count": 195,
     "metadata": {},
     "output_type": "execute_result"
    }
   ],
   "source": [
    "# checking to see of the file is imported correclty\n",
    "# displaying the first four rows of the data set\n",
    "google_store.head()"
   ]
  },
  {
   "cell_type": "code",
   "execution_count": 196,
   "metadata": {
    "scrolled": true
   },
   "outputs": [
    {
     "data": {
      "text/html": [
       "<div>\n",
       "<style scoped>\n",
       "    .dataframe tbody tr th:only-of-type {\n",
       "        vertical-align: middle;\n",
       "    }\n",
       "\n",
       "    .dataframe tbody tr th {\n",
       "        vertical-align: top;\n",
       "    }\n",
       "\n",
       "    .dataframe thead th {\n",
       "        text-align: right;\n",
       "    }\n",
       "</style>\n",
       "<table border=\"1\" class=\"dataframe\">\n",
       "  <thead>\n",
       "    <tr style=\"text-align: right;\">\n",
       "      <th></th>\n",
       "      <th>App</th>\n",
       "      <th>Category</th>\n",
       "      <th>Rating</th>\n",
       "      <th>Reviews</th>\n",
       "      <th>Size</th>\n",
       "      <th>Installs</th>\n",
       "      <th>Type</th>\n",
       "      <th>Price</th>\n",
       "      <th>Content Rating</th>\n",
       "      <th>Genres</th>\n",
       "      <th>Last Updated</th>\n",
       "      <th>Current Ver</th>\n",
       "      <th>Android Ver</th>\n",
       "    </tr>\n",
       "  </thead>\n",
       "  <tbody>\n",
       "    <tr>\n",
       "      <th>10836</th>\n",
       "      <td>Sya9a Maroc - FR</td>\n",
       "      <td>FAMILY</td>\n",
       "      <td>4.5</td>\n",
       "      <td>38</td>\n",
       "      <td>53M</td>\n",
       "      <td>5,000+</td>\n",
       "      <td>Free</td>\n",
       "      <td>0</td>\n",
       "      <td>Everyone</td>\n",
       "      <td>Education</td>\n",
       "      <td>July 25, 2017</td>\n",
       "      <td>1.48</td>\n",
       "      <td>4.1 and up</td>\n",
       "    </tr>\n",
       "    <tr>\n",
       "      <th>10837</th>\n",
       "      <td>Fr. Mike Schmitz Audio Teachings</td>\n",
       "      <td>FAMILY</td>\n",
       "      <td>5.0</td>\n",
       "      <td>4</td>\n",
       "      <td>3.6M</td>\n",
       "      <td>100+</td>\n",
       "      <td>Free</td>\n",
       "      <td>0</td>\n",
       "      <td>Everyone</td>\n",
       "      <td>Education</td>\n",
       "      <td>July 6, 2018</td>\n",
       "      <td>1.0</td>\n",
       "      <td>4.1 and up</td>\n",
       "    </tr>\n",
       "    <tr>\n",
       "      <th>10838</th>\n",
       "      <td>Parkinson Exercices FR</td>\n",
       "      <td>MEDICAL</td>\n",
       "      <td>NaN</td>\n",
       "      <td>3</td>\n",
       "      <td>9.5M</td>\n",
       "      <td>1,000+</td>\n",
       "      <td>Free</td>\n",
       "      <td>0</td>\n",
       "      <td>Everyone</td>\n",
       "      <td>Medical</td>\n",
       "      <td>January 20, 2017</td>\n",
       "      <td>1.0</td>\n",
       "      <td>2.2 and up</td>\n",
       "    </tr>\n",
       "    <tr>\n",
       "      <th>10839</th>\n",
       "      <td>The SCP Foundation DB fr nn5n</td>\n",
       "      <td>BOOKS_AND_REFERENCE</td>\n",
       "      <td>4.5</td>\n",
       "      <td>114</td>\n",
       "      <td>Varies with device</td>\n",
       "      <td>1,000+</td>\n",
       "      <td>Free</td>\n",
       "      <td>0</td>\n",
       "      <td>Mature 17+</td>\n",
       "      <td>Books &amp; Reference</td>\n",
       "      <td>January 19, 2015</td>\n",
       "      <td>Varies with device</td>\n",
       "      <td>Varies with device</td>\n",
       "    </tr>\n",
       "    <tr>\n",
       "      <th>10840</th>\n",
       "      <td>iHoroscope - 2018 Daily Horoscope &amp; Astrology</td>\n",
       "      <td>LIFESTYLE</td>\n",
       "      <td>4.5</td>\n",
       "      <td>398307</td>\n",
       "      <td>19M</td>\n",
       "      <td>10,000,000+</td>\n",
       "      <td>Free</td>\n",
       "      <td>0</td>\n",
       "      <td>Everyone</td>\n",
       "      <td>Lifestyle</td>\n",
       "      <td>July 25, 2018</td>\n",
       "      <td>Varies with device</td>\n",
       "      <td>Varies with device</td>\n",
       "    </tr>\n",
       "  </tbody>\n",
       "</table>\n",
       "</div>"
      ],
      "text/plain": [
       "                                                 App             Category  \\\n",
       "10836                               Sya9a Maroc - FR               FAMILY   \n",
       "10837               Fr. Mike Schmitz Audio Teachings               FAMILY   \n",
       "10838                         Parkinson Exercices FR              MEDICAL   \n",
       "10839                  The SCP Foundation DB fr nn5n  BOOKS_AND_REFERENCE   \n",
       "10840  iHoroscope - 2018 Daily Horoscope & Astrology            LIFESTYLE   \n",
       "\n",
       "       Rating Reviews                Size     Installs  Type Price  \\\n",
       "10836     4.5      38                 53M       5,000+  Free     0   \n",
       "10837     5.0       4                3.6M         100+  Free     0   \n",
       "10838     NaN       3                9.5M       1,000+  Free     0   \n",
       "10839     4.5     114  Varies with device       1,000+  Free     0   \n",
       "10840     4.5  398307                 19M  10,000,000+  Free     0   \n",
       "\n",
       "      Content Rating             Genres      Last Updated         Current Ver  \\\n",
       "10836       Everyone          Education     July 25, 2017                1.48   \n",
       "10837       Everyone          Education      July 6, 2018                 1.0   \n",
       "10838       Everyone            Medical  January 20, 2017                 1.0   \n",
       "10839     Mature 17+  Books & Reference  January 19, 2015  Varies with device   \n",
       "10840       Everyone          Lifestyle     July 25, 2018  Varies with device   \n",
       "\n",
       "              Android Ver  \n",
       "10836          4.1 and up  \n",
       "10837          4.1 and up  \n",
       "10838          2.2 and up  \n",
       "10839  Varies with device  \n",
       "10840  Varies with device  "
      ]
     },
     "execution_count": 196,
     "metadata": {},
     "output_type": "execute_result"
    }
   ],
   "source": [
    "# displaying the last four rows of the data set\n",
    "google_store.tail()"
   ]
  },
  {
   "cell_type": "markdown",
   "metadata": {},
   "source": [
    "### Assessing Data \n",
    "\n",
    "After gathering data required for this project from kaggle website, the next step will be assessing data. \n",
    "I will inspect the dataset for two things: data quality issues (i.e. content issues) and lack of tidiness (i.e structural issues) before moving into the cleaning phase."
   ]
  },
  {
   "cell_type": "code",
   "execution_count": 197,
   "metadata": {
    "scrolled": false
   },
   "outputs": [
    {
     "name": "stdout",
     "output_type": "stream",
     "text": [
      "<class 'pandas.core.frame.DataFrame'>\n",
      "RangeIndex: 10841 entries, 0 to 10840\n",
      "Data columns (total 13 columns):\n",
      "App               10841 non-null object\n",
      "Category          10841 non-null object\n",
      "Rating            9367 non-null float64\n",
      "Reviews           10841 non-null object\n",
      "Size              10841 non-null object\n",
      "Installs          10841 non-null object\n",
      "Type              10840 non-null object\n",
      "Price             10841 non-null object\n",
      "Content Rating    10840 non-null object\n",
      "Genres            10841 non-null object\n",
      "Last Updated      10841 non-null object\n",
      "Current Ver       10833 non-null object\n",
      "Android Ver       10838 non-null object\n",
      "dtypes: float64(1), object(12)\n",
      "memory usage: 1.1+ MB\n"
     ]
    }
   ],
   "source": [
    "# checking the data type for each column or variable in the data set\n",
    "google_store.info()"
   ]
  },
  {
   "cell_type": "markdown",
   "metadata": {},
   "source": [
    "#### Observation \n",
    "\n",
    "I can observe that the price for the app is object while it should be float. Also, the Installs column is object while it should be int. In addtion, the Reviews column is object while it should be int."
   ]
  },
  {
   "cell_type": "code",
   "execution_count": 198,
   "metadata": {
    "scrolled": true
   },
   "outputs": [
    {
     "data": {
      "text/html": [
       "<div>\n",
       "<style scoped>\n",
       "    .dataframe tbody tr th:only-of-type {\n",
       "        vertical-align: middle;\n",
       "    }\n",
       "\n",
       "    .dataframe tbody tr th {\n",
       "        vertical-align: top;\n",
       "    }\n",
       "\n",
       "    .dataframe thead th {\n",
       "        text-align: right;\n",
       "    }\n",
       "</style>\n",
       "<table border=\"1\" class=\"dataframe\">\n",
       "  <thead>\n",
       "    <tr style=\"text-align: right;\">\n",
       "      <th></th>\n",
       "      <th>App</th>\n",
       "      <th>Category</th>\n",
       "      <th>Rating</th>\n",
       "      <th>Reviews</th>\n",
       "      <th>Size</th>\n",
       "      <th>Installs</th>\n",
       "      <th>Type</th>\n",
       "      <th>Price</th>\n",
       "      <th>Content Rating</th>\n",
       "      <th>Genres</th>\n",
       "      <th>Last Updated</th>\n",
       "      <th>Current Ver</th>\n",
       "      <th>Android Ver</th>\n",
       "    </tr>\n",
       "  </thead>\n",
       "  <tbody>\n",
       "    <tr>\n",
       "      <th>0</th>\n",
       "      <td>Photo Editor &amp; Candy Camera &amp; Grid &amp; ScrapBook</td>\n",
       "      <td>ART_AND_DESIGN</td>\n",
       "      <td>4.1</td>\n",
       "      <td>159</td>\n",
       "      <td>19M</td>\n",
       "      <td>10,000+</td>\n",
       "      <td>Free</td>\n",
       "      <td>0</td>\n",
       "      <td>Everyone</td>\n",
       "      <td>Art &amp; Design</td>\n",
       "      <td>January 7, 2018</td>\n",
       "      <td>1.0.0</td>\n",
       "      <td>4.0.3 and up</td>\n",
       "    </tr>\n",
       "    <tr>\n",
       "      <th>1</th>\n",
       "      <td>Coloring book moana</td>\n",
       "      <td>ART_AND_DESIGN</td>\n",
       "      <td>3.9</td>\n",
       "      <td>967</td>\n",
       "      <td>14M</td>\n",
       "      <td>500,000+</td>\n",
       "      <td>Free</td>\n",
       "      <td>0</td>\n",
       "      <td>Everyone</td>\n",
       "      <td>Art &amp; Design;Pretend Play</td>\n",
       "      <td>January 15, 2018</td>\n",
       "      <td>2.0.0</td>\n",
       "      <td>4.0.3 and up</td>\n",
       "    </tr>\n",
       "    <tr>\n",
       "      <th>2</th>\n",
       "      <td>U Launcher Lite – FREE Live Cool Themes, Hide ...</td>\n",
       "      <td>ART_AND_DESIGN</td>\n",
       "      <td>4.7</td>\n",
       "      <td>87510</td>\n",
       "      <td>8.7M</td>\n",
       "      <td>5,000,000+</td>\n",
       "      <td>Free</td>\n",
       "      <td>0</td>\n",
       "      <td>Everyone</td>\n",
       "      <td>Art &amp; Design</td>\n",
       "      <td>August 1, 2018</td>\n",
       "      <td>1.2.4</td>\n",
       "      <td>4.0.3 and up</td>\n",
       "    </tr>\n",
       "    <tr>\n",
       "      <th>3</th>\n",
       "      <td>Sketch - Draw &amp; Paint</td>\n",
       "      <td>ART_AND_DESIGN</td>\n",
       "      <td>4.5</td>\n",
       "      <td>215644</td>\n",
       "      <td>25M</td>\n",
       "      <td>50,000,000+</td>\n",
       "      <td>Free</td>\n",
       "      <td>0</td>\n",
       "      <td>Teen</td>\n",
       "      <td>Art &amp; Design</td>\n",
       "      <td>June 8, 2018</td>\n",
       "      <td>Varies with device</td>\n",
       "      <td>4.2 and up</td>\n",
       "    </tr>\n",
       "    <tr>\n",
       "      <th>4</th>\n",
       "      <td>Pixel Draw - Number Art Coloring Book</td>\n",
       "      <td>ART_AND_DESIGN</td>\n",
       "      <td>4.3</td>\n",
       "      <td>967</td>\n",
       "      <td>2.8M</td>\n",
       "      <td>100,000+</td>\n",
       "      <td>Free</td>\n",
       "      <td>0</td>\n",
       "      <td>Everyone</td>\n",
       "      <td>Art &amp; Design;Creativity</td>\n",
       "      <td>June 20, 2018</td>\n",
       "      <td>1.1</td>\n",
       "      <td>4.4 and up</td>\n",
       "    </tr>\n",
       "  </tbody>\n",
       "</table>\n",
       "</div>"
      ],
      "text/plain": [
       "                                                 App        Category  Rating  \\\n",
       "0     Photo Editor & Candy Camera & Grid & ScrapBook  ART_AND_DESIGN     4.1   \n",
       "1                                Coloring book moana  ART_AND_DESIGN     3.9   \n",
       "2  U Launcher Lite – FREE Live Cool Themes, Hide ...  ART_AND_DESIGN     4.7   \n",
       "3                              Sketch - Draw & Paint  ART_AND_DESIGN     4.5   \n",
       "4              Pixel Draw - Number Art Coloring Book  ART_AND_DESIGN     4.3   \n",
       "\n",
       "  Reviews  Size     Installs  Type Price Content Rating  \\\n",
       "0     159   19M      10,000+  Free     0       Everyone   \n",
       "1     967   14M     500,000+  Free     0       Everyone   \n",
       "2   87510  8.7M   5,000,000+  Free     0       Everyone   \n",
       "3  215644   25M  50,000,000+  Free     0           Teen   \n",
       "4     967  2.8M     100,000+  Free     0       Everyone   \n",
       "\n",
       "                      Genres      Last Updated         Current Ver  \\\n",
       "0               Art & Design   January 7, 2018               1.0.0   \n",
       "1  Art & Design;Pretend Play  January 15, 2018               2.0.0   \n",
       "2               Art & Design    August 1, 2018               1.2.4   \n",
       "3               Art & Design      June 8, 2018  Varies with device   \n",
       "4    Art & Design;Creativity     June 20, 2018                 1.1   \n",
       "\n",
       "    Android Ver  \n",
       "0  4.0.3 and up  \n",
       "1  4.0.3 and up  \n",
       "2  4.0.3 and up  \n",
       "3    4.2 and up  \n",
       "4    4.4 and up  "
      ]
     },
     "execution_count": 198,
     "metadata": {},
     "output_type": "execute_result"
    }
   ],
   "source": [
    "# displaying the first four rows of the data set\n",
    "google_store.head()"
   ]
  },
  {
   "cell_type": "code",
   "execution_count": 199,
   "metadata": {
    "scrolled": true
   },
   "outputs": [
    {
     "data": {
      "text/html": [
       "<div>\n",
       "<style scoped>\n",
       "    .dataframe tbody tr th:only-of-type {\n",
       "        vertical-align: middle;\n",
       "    }\n",
       "\n",
       "    .dataframe tbody tr th {\n",
       "        vertical-align: top;\n",
       "    }\n",
       "\n",
       "    .dataframe thead th {\n",
       "        text-align: right;\n",
       "    }\n",
       "</style>\n",
       "<table border=\"1\" class=\"dataframe\">\n",
       "  <thead>\n",
       "    <tr style=\"text-align: right;\">\n",
       "      <th></th>\n",
       "      <th>App</th>\n",
       "      <th>Category</th>\n",
       "      <th>Rating</th>\n",
       "      <th>Reviews</th>\n",
       "      <th>Size</th>\n",
       "      <th>Installs</th>\n",
       "      <th>Type</th>\n",
       "      <th>Price</th>\n",
       "      <th>Content Rating</th>\n",
       "      <th>Genres</th>\n",
       "      <th>Last Updated</th>\n",
       "      <th>Current Ver</th>\n",
       "      <th>Android Ver</th>\n",
       "    </tr>\n",
       "  </thead>\n",
       "  <tbody>\n",
       "    <tr>\n",
       "      <th>10836</th>\n",
       "      <td>Sya9a Maroc - FR</td>\n",
       "      <td>FAMILY</td>\n",
       "      <td>4.5</td>\n",
       "      <td>38</td>\n",
       "      <td>53M</td>\n",
       "      <td>5,000+</td>\n",
       "      <td>Free</td>\n",
       "      <td>0</td>\n",
       "      <td>Everyone</td>\n",
       "      <td>Education</td>\n",
       "      <td>July 25, 2017</td>\n",
       "      <td>1.48</td>\n",
       "      <td>4.1 and up</td>\n",
       "    </tr>\n",
       "    <tr>\n",
       "      <th>10837</th>\n",
       "      <td>Fr. Mike Schmitz Audio Teachings</td>\n",
       "      <td>FAMILY</td>\n",
       "      <td>5.0</td>\n",
       "      <td>4</td>\n",
       "      <td>3.6M</td>\n",
       "      <td>100+</td>\n",
       "      <td>Free</td>\n",
       "      <td>0</td>\n",
       "      <td>Everyone</td>\n",
       "      <td>Education</td>\n",
       "      <td>July 6, 2018</td>\n",
       "      <td>1.0</td>\n",
       "      <td>4.1 and up</td>\n",
       "    </tr>\n",
       "    <tr>\n",
       "      <th>10838</th>\n",
       "      <td>Parkinson Exercices FR</td>\n",
       "      <td>MEDICAL</td>\n",
       "      <td>NaN</td>\n",
       "      <td>3</td>\n",
       "      <td>9.5M</td>\n",
       "      <td>1,000+</td>\n",
       "      <td>Free</td>\n",
       "      <td>0</td>\n",
       "      <td>Everyone</td>\n",
       "      <td>Medical</td>\n",
       "      <td>January 20, 2017</td>\n",
       "      <td>1.0</td>\n",
       "      <td>2.2 and up</td>\n",
       "    </tr>\n",
       "    <tr>\n",
       "      <th>10839</th>\n",
       "      <td>The SCP Foundation DB fr nn5n</td>\n",
       "      <td>BOOKS_AND_REFERENCE</td>\n",
       "      <td>4.5</td>\n",
       "      <td>114</td>\n",
       "      <td>Varies with device</td>\n",
       "      <td>1,000+</td>\n",
       "      <td>Free</td>\n",
       "      <td>0</td>\n",
       "      <td>Mature 17+</td>\n",
       "      <td>Books &amp; Reference</td>\n",
       "      <td>January 19, 2015</td>\n",
       "      <td>Varies with device</td>\n",
       "      <td>Varies with device</td>\n",
       "    </tr>\n",
       "    <tr>\n",
       "      <th>10840</th>\n",
       "      <td>iHoroscope - 2018 Daily Horoscope &amp; Astrology</td>\n",
       "      <td>LIFESTYLE</td>\n",
       "      <td>4.5</td>\n",
       "      <td>398307</td>\n",
       "      <td>19M</td>\n",
       "      <td>10,000,000+</td>\n",
       "      <td>Free</td>\n",
       "      <td>0</td>\n",
       "      <td>Everyone</td>\n",
       "      <td>Lifestyle</td>\n",
       "      <td>July 25, 2018</td>\n",
       "      <td>Varies with device</td>\n",
       "      <td>Varies with device</td>\n",
       "    </tr>\n",
       "  </tbody>\n",
       "</table>\n",
       "</div>"
      ],
      "text/plain": [
       "                                                 App             Category  \\\n",
       "10836                               Sya9a Maroc - FR               FAMILY   \n",
       "10837               Fr. Mike Schmitz Audio Teachings               FAMILY   \n",
       "10838                         Parkinson Exercices FR              MEDICAL   \n",
       "10839                  The SCP Foundation DB fr nn5n  BOOKS_AND_REFERENCE   \n",
       "10840  iHoroscope - 2018 Daily Horoscope & Astrology            LIFESTYLE   \n",
       "\n",
       "       Rating Reviews                Size     Installs  Type Price  \\\n",
       "10836     4.5      38                 53M       5,000+  Free     0   \n",
       "10837     5.0       4                3.6M         100+  Free     0   \n",
       "10838     NaN       3                9.5M       1,000+  Free     0   \n",
       "10839     4.5     114  Varies with device       1,000+  Free     0   \n",
       "10840     4.5  398307                 19M  10,000,000+  Free     0   \n",
       "\n",
       "      Content Rating             Genres      Last Updated         Current Ver  \\\n",
       "10836       Everyone          Education     July 25, 2017                1.48   \n",
       "10837       Everyone          Education      July 6, 2018                 1.0   \n",
       "10838       Everyone            Medical  January 20, 2017                 1.0   \n",
       "10839     Mature 17+  Books & Reference  January 19, 2015  Varies with device   \n",
       "10840       Everyone          Lifestyle     July 25, 2018  Varies with device   \n",
       "\n",
       "              Android Ver  \n",
       "10836          4.1 and up  \n",
       "10837          4.1 and up  \n",
       "10838          2.2 and up  \n",
       "10839  Varies with device  \n",
       "10840  Varies with device  "
      ]
     },
     "execution_count": 199,
     "metadata": {},
     "output_type": "execute_result"
    }
   ],
   "source": [
    "# displaying the last four rows of the data set\n",
    "google_store.tail()"
   ]
  },
  {
   "cell_type": "markdown",
   "metadata": {},
   "source": [
    "#### Observation \n",
    "\n",
    "I can observe that the category column values are capitalized and some contains underscores. These two problems need to be fixed to have a more clear data to visualize. Also, the two columns of Last Updated and Current Ver need to be dropped as I will not need them in my analysis. In addition, the Genres column sometimes contains several values in one row, so I need to split these values to more than one row to count them in the final visualization. The Installs columns has a plus(+) sign besides each number and a comma; they need to be removed , so I can apply mathmatical operations on it. Also, in the price column, I need to remove the dollar sign , so I can apply mathamtical operations on it. "
   ]
  },
  {
   "cell_type": "code",
   "execution_count": 200,
   "metadata": {
    "scrolled": false
   },
   "outputs": [
    {
     "data": {
      "text/html": [
       "<div>\n",
       "<style scoped>\n",
       "    .dataframe tbody tr th:only-of-type {\n",
       "        vertical-align: middle;\n",
       "    }\n",
       "\n",
       "    .dataframe tbody tr th {\n",
       "        vertical-align: top;\n",
       "    }\n",
       "\n",
       "    .dataframe thead th {\n",
       "        text-align: right;\n",
       "    }\n",
       "</style>\n",
       "<table border=\"1\" class=\"dataframe\">\n",
       "  <thead>\n",
       "    <tr style=\"text-align: right;\">\n",
       "      <th></th>\n",
       "      <th>Rating</th>\n",
       "    </tr>\n",
       "  </thead>\n",
       "  <tbody>\n",
       "    <tr>\n",
       "      <th>count</th>\n",
       "      <td>9367.000000</td>\n",
       "    </tr>\n",
       "    <tr>\n",
       "      <th>mean</th>\n",
       "      <td>4.193338</td>\n",
       "    </tr>\n",
       "    <tr>\n",
       "      <th>std</th>\n",
       "      <td>0.537431</td>\n",
       "    </tr>\n",
       "    <tr>\n",
       "      <th>min</th>\n",
       "      <td>1.000000</td>\n",
       "    </tr>\n",
       "    <tr>\n",
       "      <th>25%</th>\n",
       "      <td>4.000000</td>\n",
       "    </tr>\n",
       "    <tr>\n",
       "      <th>50%</th>\n",
       "      <td>4.300000</td>\n",
       "    </tr>\n",
       "    <tr>\n",
       "      <th>75%</th>\n",
       "      <td>4.500000</td>\n",
       "    </tr>\n",
       "    <tr>\n",
       "      <th>max</th>\n",
       "      <td>19.000000</td>\n",
       "    </tr>\n",
       "  </tbody>\n",
       "</table>\n",
       "</div>"
      ],
      "text/plain": [
       "            Rating\n",
       "count  9367.000000\n",
       "mean      4.193338\n",
       "std       0.537431\n",
       "min       1.000000\n",
       "25%       4.000000\n",
       "50%       4.300000\n",
       "75%       4.500000\n",
       "max      19.000000"
      ]
     },
     "execution_count": 200,
     "metadata": {},
     "output_type": "execute_result"
    }
   ],
   "source": [
    "# checking the google_store data set\n",
    "google_store.describe()"
   ]
  },
  {
   "cell_type": "markdown",
   "metadata": {},
   "source": [
    "#### Observation \n",
    "\n",
    "It appears that one of the rows has a rating value of 19 which is an extreme to other values in this column. I will check it further using a query."
   ]
  },
  {
   "cell_type": "code",
   "execution_count": 201,
   "metadata": {},
   "outputs": [
    {
     "data": {
      "text/html": [
       "<div>\n",
       "<style scoped>\n",
       "    .dataframe tbody tr th:only-of-type {\n",
       "        vertical-align: middle;\n",
       "    }\n",
       "\n",
       "    .dataframe tbody tr th {\n",
       "        vertical-align: top;\n",
       "    }\n",
       "\n",
       "    .dataframe thead th {\n",
       "        text-align: right;\n",
       "    }\n",
       "</style>\n",
       "<table border=\"1\" class=\"dataframe\">\n",
       "  <thead>\n",
       "    <tr style=\"text-align: right;\">\n",
       "      <th></th>\n",
       "      <th>App</th>\n",
       "      <th>Category</th>\n",
       "      <th>Rating</th>\n",
       "      <th>Reviews</th>\n",
       "      <th>Size</th>\n",
       "      <th>Installs</th>\n",
       "      <th>Type</th>\n",
       "      <th>Price</th>\n",
       "      <th>Content Rating</th>\n",
       "      <th>Genres</th>\n",
       "      <th>Last Updated</th>\n",
       "      <th>Current Ver</th>\n",
       "      <th>Android Ver</th>\n",
       "    </tr>\n",
       "  </thead>\n",
       "  <tbody>\n",
       "    <tr>\n",
       "      <th>10472</th>\n",
       "      <td>Life Made WI-Fi Touchscreen Photo Frame</td>\n",
       "      <td>1.9</td>\n",
       "      <td>19.0</td>\n",
       "      <td>3.0M</td>\n",
       "      <td>1,000+</td>\n",
       "      <td>Free</td>\n",
       "      <td>0</td>\n",
       "      <td>Everyone</td>\n",
       "      <td>NaN</td>\n",
       "      <td>February 11, 2018</td>\n",
       "      <td>1.0.19</td>\n",
       "      <td>4.0 and up</td>\n",
       "      <td>NaN</td>\n",
       "    </tr>\n",
       "  </tbody>\n",
       "</table>\n",
       "</div>"
      ],
      "text/plain": [
       "                                           App Category  Rating Reviews  \\\n",
       "10472  Life Made WI-Fi Touchscreen Photo Frame      1.9    19.0    3.0M   \n",
       "\n",
       "         Size Installs Type     Price Content Rating             Genres  \\\n",
       "10472  1,000+     Free    0  Everyone            NaN  February 11, 2018   \n",
       "\n",
       "      Last Updated Current Ver Android Ver  \n",
       "10472       1.0.19  4.0 and up         NaN  "
      ]
     },
     "execution_count": 201,
     "metadata": {},
     "output_type": "execute_result"
    }
   ],
   "source": [
    "# using query to find the row with the rating value of 19\n",
    "google_store.query('Rating == 19.0')"
   ]
  },
  {
   "cell_type": "markdown",
   "metadata": {},
   "source": [
    "#### Observation \n",
    "\n",
    "It appears that this row was wrongly extracted as the data is misplaced under each column, so it needs to be dropped as it can't be fixed. "
   ]
  },
  {
   "cell_type": "code",
   "execution_count": 202,
   "metadata": {
    "scrolled": true
   },
   "outputs": [
    {
     "data": {
      "text/html": [
       "<div>\n",
       "<style scoped>\n",
       "    .dataframe tbody tr th:only-of-type {\n",
       "        vertical-align: middle;\n",
       "    }\n",
       "\n",
       "    .dataframe tbody tr th {\n",
       "        vertical-align: top;\n",
       "    }\n",
       "\n",
       "    .dataframe thead th {\n",
       "        text-align: right;\n",
       "    }\n",
       "</style>\n",
       "<table border=\"1\" class=\"dataframe\">\n",
       "  <thead>\n",
       "    <tr style=\"text-align: right;\">\n",
       "      <th></th>\n",
       "      <th>App</th>\n",
       "      <th>Category</th>\n",
       "      <th>Rating</th>\n",
       "      <th>Reviews</th>\n",
       "      <th>Size</th>\n",
       "      <th>Installs</th>\n",
       "      <th>Type</th>\n",
       "      <th>Price</th>\n",
       "      <th>Content Rating</th>\n",
       "      <th>Genres</th>\n",
       "      <th>Last Updated</th>\n",
       "      <th>Current Ver</th>\n",
       "      <th>Android Ver</th>\n",
       "    </tr>\n",
       "  </thead>\n",
       "  <tbody>\n",
       "    <tr>\n",
       "      <th>229</th>\n",
       "      <td>Quick PDF Scanner + OCR FREE</td>\n",
       "      <td>BUSINESS</td>\n",
       "      <td>4.2</td>\n",
       "      <td>80805</td>\n",
       "      <td>Varies with device</td>\n",
       "      <td>5,000,000+</td>\n",
       "      <td>Free</td>\n",
       "      <td>0</td>\n",
       "      <td>Everyone</td>\n",
       "      <td>Business</td>\n",
       "      <td>February 26, 2018</td>\n",
       "      <td>Varies with device</td>\n",
       "      <td>4.0.3 and up</td>\n",
       "    </tr>\n",
       "    <tr>\n",
       "      <th>236</th>\n",
       "      <td>Box</td>\n",
       "      <td>BUSINESS</td>\n",
       "      <td>4.2</td>\n",
       "      <td>159872</td>\n",
       "      <td>Varies with device</td>\n",
       "      <td>10,000,000+</td>\n",
       "      <td>Free</td>\n",
       "      <td>0</td>\n",
       "      <td>Everyone</td>\n",
       "      <td>Business</td>\n",
       "      <td>July 31, 2018</td>\n",
       "      <td>Varies with device</td>\n",
       "      <td>Varies with device</td>\n",
       "    </tr>\n",
       "    <tr>\n",
       "      <th>239</th>\n",
       "      <td>Google My Business</td>\n",
       "      <td>BUSINESS</td>\n",
       "      <td>4.4</td>\n",
       "      <td>70991</td>\n",
       "      <td>Varies with device</td>\n",
       "      <td>5,000,000+</td>\n",
       "      <td>Free</td>\n",
       "      <td>0</td>\n",
       "      <td>Everyone</td>\n",
       "      <td>Business</td>\n",
       "      <td>July 24, 2018</td>\n",
       "      <td>2.19.0.204537701</td>\n",
       "      <td>4.4 and up</td>\n",
       "    </tr>\n",
       "    <tr>\n",
       "      <th>256</th>\n",
       "      <td>ZOOM Cloud Meetings</td>\n",
       "      <td>BUSINESS</td>\n",
       "      <td>4.4</td>\n",
       "      <td>31614</td>\n",
       "      <td>37M</td>\n",
       "      <td>10,000,000+</td>\n",
       "      <td>Free</td>\n",
       "      <td>0</td>\n",
       "      <td>Everyone</td>\n",
       "      <td>Business</td>\n",
       "      <td>July 20, 2018</td>\n",
       "      <td>4.1.28165.0716</td>\n",
       "      <td>4.0 and up</td>\n",
       "    </tr>\n",
       "    <tr>\n",
       "      <th>261</th>\n",
       "      <td>join.me - Simple Meetings</td>\n",
       "      <td>BUSINESS</td>\n",
       "      <td>4.0</td>\n",
       "      <td>6989</td>\n",
       "      <td>Varies with device</td>\n",
       "      <td>1,000,000+</td>\n",
       "      <td>Free</td>\n",
       "      <td>0</td>\n",
       "      <td>Everyone</td>\n",
       "      <td>Business</td>\n",
       "      <td>July 16, 2018</td>\n",
       "      <td>4.3.0.508</td>\n",
       "      <td>4.4 and up</td>\n",
       "    </tr>\n",
       "    <tr>\n",
       "      <th>265</th>\n",
       "      <td>Box</td>\n",
       "      <td>BUSINESS</td>\n",
       "      <td>4.2</td>\n",
       "      <td>159872</td>\n",
       "      <td>Varies with device</td>\n",
       "      <td>10,000,000+</td>\n",
       "      <td>Free</td>\n",
       "      <td>0</td>\n",
       "      <td>Everyone</td>\n",
       "      <td>Business</td>\n",
       "      <td>July 31, 2018</td>\n",
       "      <td>Varies with device</td>\n",
       "      <td>Varies with device</td>\n",
       "    </tr>\n",
       "    <tr>\n",
       "      <th>266</th>\n",
       "      <td>Zenefits</td>\n",
       "      <td>BUSINESS</td>\n",
       "      <td>4.2</td>\n",
       "      <td>296</td>\n",
       "      <td>14M</td>\n",
       "      <td>50,000+</td>\n",
       "      <td>Free</td>\n",
       "      <td>0</td>\n",
       "      <td>Everyone</td>\n",
       "      <td>Business</td>\n",
       "      <td>June 15, 2018</td>\n",
       "      <td>3.2.1</td>\n",
       "      <td>4.1 and up</td>\n",
       "    </tr>\n",
       "    <tr>\n",
       "      <th>267</th>\n",
       "      <td>Google Ads</td>\n",
       "      <td>BUSINESS</td>\n",
       "      <td>4.3</td>\n",
       "      <td>29313</td>\n",
       "      <td>20M</td>\n",
       "      <td>5,000,000+</td>\n",
       "      <td>Free</td>\n",
       "      <td>0</td>\n",
       "      <td>Everyone</td>\n",
       "      <td>Business</td>\n",
       "      <td>July 30, 2018</td>\n",
       "      <td>1.12.0</td>\n",
       "      <td>4.0.3 and up</td>\n",
       "    </tr>\n",
       "    <tr>\n",
       "      <th>268</th>\n",
       "      <td>Google My Business</td>\n",
       "      <td>BUSINESS</td>\n",
       "      <td>4.4</td>\n",
       "      <td>70991</td>\n",
       "      <td>Varies with device</td>\n",
       "      <td>5,000,000+</td>\n",
       "      <td>Free</td>\n",
       "      <td>0</td>\n",
       "      <td>Everyone</td>\n",
       "      <td>Business</td>\n",
       "      <td>July 24, 2018</td>\n",
       "      <td>2.19.0.204537701</td>\n",
       "      <td>4.4 and up</td>\n",
       "    </tr>\n",
       "    <tr>\n",
       "      <th>269</th>\n",
       "      <td>Slack</td>\n",
       "      <td>BUSINESS</td>\n",
       "      <td>4.4</td>\n",
       "      <td>51507</td>\n",
       "      <td>Varies with device</td>\n",
       "      <td>5,000,000+</td>\n",
       "      <td>Free</td>\n",
       "      <td>0</td>\n",
       "      <td>Everyone</td>\n",
       "      <td>Business</td>\n",
       "      <td>August 2, 2018</td>\n",
       "      <td>Varies with device</td>\n",
       "      <td>Varies with device</td>\n",
       "    </tr>\n",
       "    <tr>\n",
       "      <th>270</th>\n",
       "      <td>FreshBooks Classic</td>\n",
       "      <td>BUSINESS</td>\n",
       "      <td>4.1</td>\n",
       "      <td>1802</td>\n",
       "      <td>26M</td>\n",
       "      <td>100,000+</td>\n",
       "      <td>Free</td>\n",
       "      <td>0</td>\n",
       "      <td>Everyone</td>\n",
       "      <td>Business</td>\n",
       "      <td>April 18, 2018</td>\n",
       "      <td>1.7.14</td>\n",
       "      <td>4.2 and up</td>\n",
       "    </tr>\n",
       "    <tr>\n",
       "      <th>271</th>\n",
       "      <td>Insightly CRM</td>\n",
       "      <td>BUSINESS</td>\n",
       "      <td>3.8</td>\n",
       "      <td>1383</td>\n",
       "      <td>51M</td>\n",
       "      <td>100,000+</td>\n",
       "      <td>Free</td>\n",
       "      <td>0</td>\n",
       "      <td>Everyone</td>\n",
       "      <td>Business</td>\n",
       "      <td>July 12, 2018</td>\n",
       "      <td>3.24.1</td>\n",
       "      <td>5.0 and up</td>\n",
       "    </tr>\n",
       "    <tr>\n",
       "      <th>272</th>\n",
       "      <td>QuickBooks Accounting: Invoicing &amp; Expenses</td>\n",
       "      <td>BUSINESS</td>\n",
       "      <td>4.3</td>\n",
       "      <td>23175</td>\n",
       "      <td>41M</td>\n",
       "      <td>1,000,000+</td>\n",
       "      <td>Free</td>\n",
       "      <td>0</td>\n",
       "      <td>Everyone</td>\n",
       "      <td>Business</td>\n",
       "      <td>July 13, 2018</td>\n",
       "      <td>18.7</td>\n",
       "      <td>4.1 and up</td>\n",
       "    </tr>\n",
       "    <tr>\n",
       "      <th>273</th>\n",
       "      <td>HipChat - Chat Built for Teams</td>\n",
       "      <td>BUSINESS</td>\n",
       "      <td>3.8</td>\n",
       "      <td>5868</td>\n",
       "      <td>20M</td>\n",
       "      <td>500,000+</td>\n",
       "      <td>Free</td>\n",
       "      <td>0</td>\n",
       "      <td>Everyone</td>\n",
       "      <td>Business</td>\n",
       "      <td>July 3, 2018</td>\n",
       "      <td>3.19.005</td>\n",
       "      <td>4.1 and up</td>\n",
       "    </tr>\n",
       "    <tr>\n",
       "      <th>274</th>\n",
       "      <td>Xero Accounting Software</td>\n",
       "      <td>BUSINESS</td>\n",
       "      <td>3.5</td>\n",
       "      <td>2111</td>\n",
       "      <td>Varies with device</td>\n",
       "      <td>100,000+</td>\n",
       "      <td>Free</td>\n",
       "      <td>0</td>\n",
       "      <td>Everyone</td>\n",
       "      <td>Business</td>\n",
       "      <td>July 30, 2018</td>\n",
       "      <td>Varies with device</td>\n",
       "      <td>Varies with device</td>\n",
       "    </tr>\n",
       "    <tr>\n",
       "      <th>275</th>\n",
       "      <td>MailChimp - Email, Marketing Automation</td>\n",
       "      <td>BUSINESS</td>\n",
       "      <td>4.1</td>\n",
       "      <td>5448</td>\n",
       "      <td>12M</td>\n",
       "      <td>500,000+</td>\n",
       "      <td>Free</td>\n",
       "      <td>0</td>\n",
       "      <td>Everyone</td>\n",
       "      <td>Business</td>\n",
       "      <td>July 25, 2018</td>\n",
       "      <td>4.9.1</td>\n",
       "      <td>5.0 and up</td>\n",
       "    </tr>\n",
       "    <tr>\n",
       "      <th>276</th>\n",
       "      <td>Crew - Free Messaging and Scheduling</td>\n",
       "      <td>BUSINESS</td>\n",
       "      <td>4.6</td>\n",
       "      <td>4159</td>\n",
       "      <td>48M</td>\n",
       "      <td>500,000+</td>\n",
       "      <td>Free</td>\n",
       "      <td>0</td>\n",
       "      <td>Everyone</td>\n",
       "      <td>Business</td>\n",
       "      <td>July 20, 2018</td>\n",
       "      <td>6.1.2</td>\n",
       "      <td>4.0.3 and up</td>\n",
       "    </tr>\n",
       "    <tr>\n",
       "      <th>277</th>\n",
       "      <td>Asana: organize team projects</td>\n",
       "      <td>BUSINESS</td>\n",
       "      <td>4.3</td>\n",
       "      <td>20815</td>\n",
       "      <td>10M</td>\n",
       "      <td>1,000,000+</td>\n",
       "      <td>Free</td>\n",
       "      <td>0</td>\n",
       "      <td>Everyone</td>\n",
       "      <td>Business</td>\n",
       "      <td>July 26, 2018</td>\n",
       "      <td>6.4.4</td>\n",
       "      <td>5.0 and up</td>\n",
       "    </tr>\n",
       "    <tr>\n",
       "      <th>278</th>\n",
       "      <td>Google Analytics</td>\n",
       "      <td>BUSINESS</td>\n",
       "      <td>4.5</td>\n",
       "      <td>78662</td>\n",
       "      <td>22M</td>\n",
       "      <td>1,000,000+</td>\n",
       "      <td>Free</td>\n",
       "      <td>0</td>\n",
       "      <td>Everyone</td>\n",
       "      <td>Business</td>\n",
       "      <td>February 13, 2018</td>\n",
       "      <td>3.7.5</td>\n",
       "      <td>4.4 and up</td>\n",
       "    </tr>\n",
       "    <tr>\n",
       "      <th>279</th>\n",
       "      <td>AdWords Express</td>\n",
       "      <td>BUSINESS</td>\n",
       "      <td>4.1</td>\n",
       "      <td>7149</td>\n",
       "      <td>11M</td>\n",
       "      <td>1,000,000+</td>\n",
       "      <td>Free</td>\n",
       "      <td>0</td>\n",
       "      <td>Everyone</td>\n",
       "      <td>Business</td>\n",
       "      <td>July 31, 2018</td>\n",
       "      <td>2.6.158</td>\n",
       "      <td>4.0 and up</td>\n",
       "    </tr>\n",
       "    <tr>\n",
       "      <th>280</th>\n",
       "      <td>Accounting App - Zoho Books</td>\n",
       "      <td>BUSINESS</td>\n",
       "      <td>4.5</td>\n",
       "      <td>3079</td>\n",
       "      <td>8.5M</td>\n",
       "      <td>100,000+</td>\n",
       "      <td>Free</td>\n",
       "      <td>0</td>\n",
       "      <td>Everyone</td>\n",
       "      <td>Business</td>\n",
       "      <td>August 2, 2018</td>\n",
       "      <td>5.20.7</td>\n",
       "      <td>4.1 and up</td>\n",
       "    </tr>\n",
       "    <tr>\n",
       "      <th>281</th>\n",
       "      <td>Invoice &amp; Time Tracking - Zoho</td>\n",
       "      <td>BUSINESS</td>\n",
       "      <td>4.6</td>\n",
       "      <td>5800</td>\n",
       "      <td>8.6M</td>\n",
       "      <td>100,000+</td>\n",
       "      <td>Free</td>\n",
       "      <td>0</td>\n",
       "      <td>Everyone</td>\n",
       "      <td>Business</td>\n",
       "      <td>August 2, 2018</td>\n",
       "      <td>5.20.7</td>\n",
       "      <td>4.1 and up</td>\n",
       "    </tr>\n",
       "    <tr>\n",
       "      <th>282</th>\n",
       "      <td>join.me - Simple Meetings</td>\n",
       "      <td>BUSINESS</td>\n",
       "      <td>4.0</td>\n",
       "      <td>6989</td>\n",
       "      <td>Varies with device</td>\n",
       "      <td>1,000,000+</td>\n",
       "      <td>Free</td>\n",
       "      <td>0</td>\n",
       "      <td>Everyone</td>\n",
       "      <td>Business</td>\n",
       "      <td>July 16, 2018</td>\n",
       "      <td>4.3.0.508</td>\n",
       "      <td>4.4 and up</td>\n",
       "    </tr>\n",
       "    <tr>\n",
       "      <th>283</th>\n",
       "      <td>Invoice 2go — Professional Invoices and Estimates</td>\n",
       "      <td>BUSINESS</td>\n",
       "      <td>4.2</td>\n",
       "      <td>16422</td>\n",
       "      <td>28M</td>\n",
       "      <td>1,000,000+</td>\n",
       "      <td>Free</td>\n",
       "      <td>0</td>\n",
       "      <td>Everyone</td>\n",
       "      <td>Business</td>\n",
       "      <td>August 1, 2018</td>\n",
       "      <td>10.46.2</td>\n",
       "      <td>4.1 and up</td>\n",
       "    </tr>\n",
       "    <tr>\n",
       "      <th>284</th>\n",
       "      <td>SignEasy | Sign and Fill PDF and other Documents</td>\n",
       "      <td>BUSINESS</td>\n",
       "      <td>4.3</td>\n",
       "      <td>8978</td>\n",
       "      <td>Varies with device</td>\n",
       "      <td>1,000,000+</td>\n",
       "      <td>Free</td>\n",
       "      <td>0</td>\n",
       "      <td>Everyone</td>\n",
       "      <td>Business</td>\n",
       "      <td>July 25, 2018</td>\n",
       "      <td>Varies with device</td>\n",
       "      <td>Varies with device</td>\n",
       "    </tr>\n",
       "    <tr>\n",
       "      <th>285</th>\n",
       "      <td>Quick PDF Scanner + OCR FREE</td>\n",
       "      <td>BUSINESS</td>\n",
       "      <td>4.2</td>\n",
       "      <td>80804</td>\n",
       "      <td>Varies with device</td>\n",
       "      <td>5,000,000+</td>\n",
       "      <td>Free</td>\n",
       "      <td>0</td>\n",
       "      <td>Everyone</td>\n",
       "      <td>Business</td>\n",
       "      <td>February 26, 2018</td>\n",
       "      <td>Varies with device</td>\n",
       "      <td>4.0.3 and up</td>\n",
       "    </tr>\n",
       "    <tr>\n",
       "      <th>286</th>\n",
       "      <td>Genius Scan - PDF Scanner</td>\n",
       "      <td>BUSINESS</td>\n",
       "      <td>4.4</td>\n",
       "      <td>42492</td>\n",
       "      <td>Varies with device</td>\n",
       "      <td>1,000,000+</td>\n",
       "      <td>Free</td>\n",
       "      <td>0</td>\n",
       "      <td>Everyone</td>\n",
       "      <td>Business</td>\n",
       "      <td>July 11, 2018</td>\n",
       "      <td>Varies with device</td>\n",
       "      <td>Varies with device</td>\n",
       "    </tr>\n",
       "    <tr>\n",
       "      <th>287</th>\n",
       "      <td>Tiny Scanner - PDF Scanner App</td>\n",
       "      <td>BUSINESS</td>\n",
       "      <td>4.7</td>\n",
       "      <td>286897</td>\n",
       "      <td>39M</td>\n",
       "      <td>10,000,000+</td>\n",
       "      <td>Free</td>\n",
       "      <td>0</td>\n",
       "      <td>Everyone</td>\n",
       "      <td>Business</td>\n",
       "      <td>May 30, 2017</td>\n",
       "      <td>1.2.6</td>\n",
       "      <td>3.0 and up</td>\n",
       "    </tr>\n",
       "    <tr>\n",
       "      <th>288</th>\n",
       "      <td>Fast Scanner : Free PDF Scan</td>\n",
       "      <td>BUSINESS</td>\n",
       "      <td>4.5</td>\n",
       "      <td>103755</td>\n",
       "      <td>14M</td>\n",
       "      <td>10,000,000+</td>\n",
       "      <td>Free</td>\n",
       "      <td>0</td>\n",
       "      <td>Everyone</td>\n",
       "      <td>Business</td>\n",
       "      <td>July 11, 2018</td>\n",
       "      <td>3.9.2</td>\n",
       "      <td>4.1 and up</td>\n",
       "    </tr>\n",
       "    <tr>\n",
       "      <th>289</th>\n",
       "      <td>Mobile Doc Scanner (MDScan) Lite</td>\n",
       "      <td>BUSINESS</td>\n",
       "      <td>4.2</td>\n",
       "      <td>46505</td>\n",
       "      <td>19M</td>\n",
       "      <td>1,000,000+</td>\n",
       "      <td>Free</td>\n",
       "      <td>0</td>\n",
       "      <td>Everyone</td>\n",
       "      <td>Business</td>\n",
       "      <td>August 2, 2018</td>\n",
       "      <td>3.4.49</td>\n",
       "      <td>4.1 and up</td>\n",
       "    </tr>\n",
       "    <tr>\n",
       "      <th>...</th>\n",
       "      <td>...</td>\n",
       "      <td>...</td>\n",
       "      <td>...</td>\n",
       "      <td>...</td>\n",
       "      <td>...</td>\n",
       "      <td>...</td>\n",
       "      <td>...</td>\n",
       "      <td>...</td>\n",
       "      <td>...</td>\n",
       "      <td>...</td>\n",
       "      <td>...</td>\n",
       "      <td>...</td>\n",
       "      <td>...</td>\n",
       "    </tr>\n",
       "    <tr>\n",
       "      <th>9854</th>\n",
       "      <td>Nike Training Club - Workouts &amp; Fitness Plans</td>\n",
       "      <td>HEALTH_AND_FITNESS</td>\n",
       "      <td>4.6</td>\n",
       "      <td>251618</td>\n",
       "      <td>93M</td>\n",
       "      <td>10,000,000+</td>\n",
       "      <td>Free</td>\n",
       "      <td>0</td>\n",
       "      <td>Everyone</td>\n",
       "      <td>Health &amp; Fitness</td>\n",
       "      <td>July 18, 2018</td>\n",
       "      <td>5.14.0</td>\n",
       "      <td>5.0 and up</td>\n",
       "    </tr>\n",
       "    <tr>\n",
       "      <th>9856</th>\n",
       "      <td>Hangouts Dialer - Call Phones</td>\n",
       "      <td>COMMUNICATION</td>\n",
       "      <td>4.0</td>\n",
       "      <td>122512</td>\n",
       "      <td>79k</td>\n",
       "      <td>10,000,000+</td>\n",
       "      <td>Free</td>\n",
       "      <td>0</td>\n",
       "      <td>Everyone</td>\n",
       "      <td>Communication</td>\n",
       "      <td>September 2, 2015</td>\n",
       "      <td>0.1.100944346</td>\n",
       "      <td>4.0.3 and up</td>\n",
       "    </tr>\n",
       "    <tr>\n",
       "      <th>9859</th>\n",
       "      <td>Offline Maps &amp; Navigation</td>\n",
       "      <td>TRAVEL_AND_LOCAL</td>\n",
       "      <td>4.7</td>\n",
       "      <td>193364</td>\n",
       "      <td>33M</td>\n",
       "      <td>5,000,000+</td>\n",
       "      <td>Free</td>\n",
       "      <td>0</td>\n",
       "      <td>Everyone</td>\n",
       "      <td>Travel &amp; Local</td>\n",
       "      <td>June 7, 2018</td>\n",
       "      <td>17.4.1</td>\n",
       "      <td>4.0.3 and up</td>\n",
       "    </tr>\n",
       "    <tr>\n",
       "      <th>9936</th>\n",
       "      <td>Strawberry Shortcake Ice Cream Island</td>\n",
       "      <td>FAMILY</td>\n",
       "      <td>4.2</td>\n",
       "      <td>32200</td>\n",
       "      <td>15M</td>\n",
       "      <td>5,000,000+</td>\n",
       "      <td>Free</td>\n",
       "      <td>0</td>\n",
       "      <td>Everyone</td>\n",
       "      <td>Casual;Pretend Play</td>\n",
       "      <td>November 6, 2017</td>\n",
       "      <td>1.2</td>\n",
       "      <td>4.1 and up</td>\n",
       "    </tr>\n",
       "    <tr>\n",
       "      <th>9975</th>\n",
       "      <td>Home Workout - No Equipment</td>\n",
       "      <td>HEALTH_AND_FITNESS</td>\n",
       "      <td>4.8</td>\n",
       "      <td>432160</td>\n",
       "      <td>15M</td>\n",
       "      <td>10,000,000+</td>\n",
       "      <td>Free</td>\n",
       "      <td>0</td>\n",
       "      <td>Everyone</td>\n",
       "      <td>Health &amp; Fitness</td>\n",
       "      <td>June 28, 2018</td>\n",
       "      <td>Varies with device</td>\n",
       "      <td>Varies with device</td>\n",
       "    </tr>\n",
       "    <tr>\n",
       "      <th>9982</th>\n",
       "      <td>Home Security Camera WardenCam - reuse old phones</td>\n",
       "      <td>HOUSE_AND_HOME</td>\n",
       "      <td>4.3</td>\n",
       "      <td>43847</td>\n",
       "      <td>Varies with device</td>\n",
       "      <td>1,000,000+</td>\n",
       "      <td>Free</td>\n",
       "      <td>0</td>\n",
       "      <td>Everyone</td>\n",
       "      <td>House &amp; Home</td>\n",
       "      <td>July 6, 2018</td>\n",
       "      <td>Varies with device</td>\n",
       "      <td>Varies with device</td>\n",
       "    </tr>\n",
       "    <tr>\n",
       "      <th>10018</th>\n",
       "      <td>Food Network</td>\n",
       "      <td>FAMILY</td>\n",
       "      <td>4.1</td>\n",
       "      <td>7823</td>\n",
       "      <td>Varies with device</td>\n",
       "      <td>500,000+</td>\n",
       "      <td>Free</td>\n",
       "      <td>0</td>\n",
       "      <td>Teen</td>\n",
       "      <td>Entertainment</td>\n",
       "      <td>July 27, 2018</td>\n",
       "      <td>Varies with device</td>\n",
       "      <td>Varies with device</td>\n",
       "    </tr>\n",
       "    <tr>\n",
       "      <th>10026</th>\n",
       "      <td>Web Browser for Android</td>\n",
       "      <td>COMMUNICATION</td>\n",
       "      <td>4.1</td>\n",
       "      <td>55110</td>\n",
       "      <td>4.3M</td>\n",
       "      <td>1,000,000+</td>\n",
       "      <td>Free</td>\n",
       "      <td>0</td>\n",
       "      <td>Everyone</td>\n",
       "      <td>Communication</td>\n",
       "      <td>June 20, 2018</td>\n",
       "      <td>2.2</td>\n",
       "      <td>4.0 and up</td>\n",
       "    </tr>\n",
       "    <tr>\n",
       "      <th>10049</th>\n",
       "      <td>Airway Ex - Intubate. Anesthetize. Train.</td>\n",
       "      <td>MEDICAL</td>\n",
       "      <td>4.3</td>\n",
       "      <td>123</td>\n",
       "      <td>86M</td>\n",
       "      <td>10,000+</td>\n",
       "      <td>Free</td>\n",
       "      <td>0</td>\n",
       "      <td>Everyone</td>\n",
       "      <td>Medical</td>\n",
       "      <td>June 1, 2018</td>\n",
       "      <td>0.6.88</td>\n",
       "      <td>5.0 and up</td>\n",
       "    </tr>\n",
       "    <tr>\n",
       "      <th>10118</th>\n",
       "      <td>FilterGrid - Cam&amp;Photo Editor</td>\n",
       "      <td>PHOTOGRAPHY</td>\n",
       "      <td>4.6</td>\n",
       "      <td>126338</td>\n",
       "      <td>9.6M</td>\n",
       "      <td>1,000,000+</td>\n",
       "      <td>Free</td>\n",
       "      <td>0</td>\n",
       "      <td>Everyone</td>\n",
       "      <td>Photography</td>\n",
       "      <td>March 15, 2017</td>\n",
       "      <td>2.0.5</td>\n",
       "      <td>4.0 and up</td>\n",
       "    </tr>\n",
       "    <tr>\n",
       "      <th>10170</th>\n",
       "      <td>Messages, Text and Video Chat for Messenger</td>\n",
       "      <td>SOCIAL</td>\n",
       "      <td>4.4</td>\n",
       "      <td>49580</td>\n",
       "      <td>4.0M</td>\n",
       "      <td>10,000,000+</td>\n",
       "      <td>Free</td>\n",
       "      <td>0</td>\n",
       "      <td>Everyone</td>\n",
       "      <td>Social</td>\n",
       "      <td>June 4, 2018</td>\n",
       "      <td>1.24</td>\n",
       "      <td>4.1 and up</td>\n",
       "    </tr>\n",
       "    <tr>\n",
       "      <th>10171</th>\n",
       "      <td>All Social Networks</td>\n",
       "      <td>SOCIAL</td>\n",
       "      <td>4.2</td>\n",
       "      <td>22650</td>\n",
       "      <td>1.5M</td>\n",
       "      <td>1,000,000+</td>\n",
       "      <td>Free</td>\n",
       "      <td>0</td>\n",
       "      <td>Everyone</td>\n",
       "      <td>Social</td>\n",
       "      <td>May 21, 2018</td>\n",
       "      <td>2.4.12</td>\n",
       "      <td>4.0 and up</td>\n",
       "    </tr>\n",
       "    <tr>\n",
       "      <th>10178</th>\n",
       "      <td>Premier League - Official App</td>\n",
       "      <td>SPORTS</td>\n",
       "      <td>4.3</td>\n",
       "      <td>63782</td>\n",
       "      <td>24M</td>\n",
       "      <td>5,000,000+</td>\n",
       "      <td>Free</td>\n",
       "      <td>0</td>\n",
       "      <td>Everyone</td>\n",
       "      <td>Sports</td>\n",
       "      <td>August 7, 2018</td>\n",
       "      <td>1.1.5</td>\n",
       "      <td>4.1 and up</td>\n",
       "    </tr>\n",
       "    <tr>\n",
       "      <th>10186</th>\n",
       "      <td>Farm Heroes Saga</td>\n",
       "      <td>FAMILY</td>\n",
       "      <td>4.4</td>\n",
       "      <td>7615646</td>\n",
       "      <td>71M</td>\n",
       "      <td>100,000,000+</td>\n",
       "      <td>Free</td>\n",
       "      <td>0</td>\n",
       "      <td>Everyone</td>\n",
       "      <td>Casual</td>\n",
       "      <td>August 7, 2018</td>\n",
       "      <td>5.2.6</td>\n",
       "      <td>2.3 and up</td>\n",
       "    </tr>\n",
       "    <tr>\n",
       "      <th>10188</th>\n",
       "      <td>ESPN Fantasy Sports</td>\n",
       "      <td>SPORTS</td>\n",
       "      <td>4.0</td>\n",
       "      <td>176487</td>\n",
       "      <td>10M</td>\n",
       "      <td>5,000,000+</td>\n",
       "      <td>Free</td>\n",
       "      <td>0</td>\n",
       "      <td>Everyone</td>\n",
       "      <td>Sports</td>\n",
       "      <td>November 21, 2017</td>\n",
       "      <td>5.3.0</td>\n",
       "      <td>4.4 and up</td>\n",
       "    </tr>\n",
       "    <tr>\n",
       "      <th>10190</th>\n",
       "      <td>Fallout Shelter</td>\n",
       "      <td>FAMILY</td>\n",
       "      <td>4.6</td>\n",
       "      <td>2721923</td>\n",
       "      <td>25M</td>\n",
       "      <td>10,000,000+</td>\n",
       "      <td>Free</td>\n",
       "      <td>0</td>\n",
       "      <td>Teen</td>\n",
       "      <td>Simulation</td>\n",
       "      <td>June 11, 2018</td>\n",
       "      <td>1.13.12</td>\n",
       "      <td>4.1 and up</td>\n",
       "    </tr>\n",
       "    <tr>\n",
       "      <th>10200</th>\n",
       "      <td>Facebook Pages Manager</td>\n",
       "      <td>BUSINESS</td>\n",
       "      <td>4.0</td>\n",
       "      <td>1279800</td>\n",
       "      <td>Varies with device</td>\n",
       "      <td>50,000,000+</td>\n",
       "      <td>Free</td>\n",
       "      <td>0</td>\n",
       "      <td>Everyone</td>\n",
       "      <td>Business</td>\n",
       "      <td>August 6, 2018</td>\n",
       "      <td>Varies with device</td>\n",
       "      <td>Varies with device</td>\n",
       "    </tr>\n",
       "    <tr>\n",
       "      <th>10203</th>\n",
       "      <td>Facebook Ads Manager</td>\n",
       "      <td>BUSINESS</td>\n",
       "      <td>4.1</td>\n",
       "      <td>19051</td>\n",
       "      <td>Varies with device</td>\n",
       "      <td>1,000,000+</td>\n",
       "      <td>Free</td>\n",
       "      <td>0</td>\n",
       "      <td>Everyone</td>\n",
       "      <td>Business</td>\n",
       "      <td>August 1, 2018</td>\n",
       "      <td>99.0.0.35.75</td>\n",
       "      <td>4.1 and up</td>\n",
       "    </tr>\n",
       "    <tr>\n",
       "      <th>10213</th>\n",
       "      <td>Who Viewed My Facebook Profile - Stalkers Visi...</td>\n",
       "      <td>SOCIAL</td>\n",
       "      <td>4.6</td>\n",
       "      <td>273244</td>\n",
       "      <td>9.9M</td>\n",
       "      <td>5,000,000+</td>\n",
       "      <td>Free</td>\n",
       "      <td>0</td>\n",
       "      <td>Everyone</td>\n",
       "      <td>Social</td>\n",
       "      <td>June 24, 2018</td>\n",
       "      <td>4.1.1</td>\n",
       "      <td>4.0.3 and up</td>\n",
       "    </tr>\n",
       "    <tr>\n",
       "      <th>10269</th>\n",
       "      <td>The 5th Stand</td>\n",
       "      <td>SPORTS</td>\n",
       "      <td>4.8</td>\n",
       "      <td>1697</td>\n",
       "      <td>17M</td>\n",
       "      <td>100,000+</td>\n",
       "      <td>Free</td>\n",
       "      <td>0</td>\n",
       "      <td>Everyone</td>\n",
       "      <td>Sports</td>\n",
       "      <td>July 31, 2018</td>\n",
       "      <td>1.2.677</td>\n",
       "      <td>4.4 and up</td>\n",
       "    </tr>\n",
       "    <tr>\n",
       "      <th>10327</th>\n",
       "      <td>Garena Free Fire</td>\n",
       "      <td>GAME</td>\n",
       "      <td>4.5</td>\n",
       "      <td>5534114</td>\n",
       "      <td>53M</td>\n",
       "      <td>100,000,000+</td>\n",
       "      <td>Free</td>\n",
       "      <td>0</td>\n",
       "      <td>Teen</td>\n",
       "      <td>Action</td>\n",
       "      <td>August 3, 2018</td>\n",
       "      <td>1.21.0</td>\n",
       "      <td>4.0.3 and up</td>\n",
       "    </tr>\n",
       "    <tr>\n",
       "      <th>10473</th>\n",
       "      <td>osmino Wi-Fi: free WiFi</td>\n",
       "      <td>TOOLS</td>\n",
       "      <td>4.2</td>\n",
       "      <td>134203</td>\n",
       "      <td>4.1M</td>\n",
       "      <td>10,000,000+</td>\n",
       "      <td>Free</td>\n",
       "      <td>0</td>\n",
       "      <td>Everyone</td>\n",
       "      <td>Tools</td>\n",
       "      <td>August 7, 2018</td>\n",
       "      <td>6.06.14</td>\n",
       "      <td>4.4 and up</td>\n",
       "    </tr>\n",
       "    <tr>\n",
       "      <th>10502</th>\n",
       "      <td>Fun Kid Racing - Motocross</td>\n",
       "      <td>FAMILY</td>\n",
       "      <td>4.1</td>\n",
       "      <td>59768</td>\n",
       "      <td>Varies with device</td>\n",
       "      <td>10,000,000+</td>\n",
       "      <td>Free</td>\n",
       "      <td>0</td>\n",
       "      <td>Everyone</td>\n",
       "      <td>Racing;Action &amp; Adventure</td>\n",
       "      <td>August 7, 2018</td>\n",
       "      <td>3.53</td>\n",
       "      <td>4.2 and up</td>\n",
       "    </tr>\n",
       "    <tr>\n",
       "      <th>10646</th>\n",
       "      <td>Podcast App: Free &amp; Offline Podcasts by Player FM</td>\n",
       "      <td>NEWS_AND_MAGAZINES</td>\n",
       "      <td>4.6</td>\n",
       "      <td>66407</td>\n",
       "      <td>19M</td>\n",
       "      <td>1,000,000+</td>\n",
       "      <td>Free</td>\n",
       "      <td>0</td>\n",
       "      <td>Teen</td>\n",
       "      <td>News &amp; Magazines</td>\n",
       "      <td>July 25, 2018</td>\n",
       "      <td>4.1.0.72</td>\n",
       "      <td>4.0 and up</td>\n",
       "    </tr>\n",
       "    <tr>\n",
       "      <th>10647</th>\n",
       "      <td>Motorola FM Radio</td>\n",
       "      <td>VIDEO_PLAYERS</td>\n",
       "      <td>3.9</td>\n",
       "      <td>54815</td>\n",
       "      <td>Varies with device</td>\n",
       "      <td>100,000,000+</td>\n",
       "      <td>Free</td>\n",
       "      <td>0</td>\n",
       "      <td>Everyone</td>\n",
       "      <td>Video Players &amp; Editors</td>\n",
       "      <td>May 2, 2018</td>\n",
       "      <td>Varies with device</td>\n",
       "      <td>Varies with device</td>\n",
       "    </tr>\n",
       "    <tr>\n",
       "      <th>10715</th>\n",
       "      <td>FarmersOnly Dating</td>\n",
       "      <td>DATING</td>\n",
       "      <td>3.0</td>\n",
       "      <td>1145</td>\n",
       "      <td>1.4M</td>\n",
       "      <td>100,000+</td>\n",
       "      <td>Free</td>\n",
       "      <td>0</td>\n",
       "      <td>Mature 17+</td>\n",
       "      <td>Dating</td>\n",
       "      <td>February 25, 2016</td>\n",
       "      <td>2.2</td>\n",
       "      <td>4.0 and up</td>\n",
       "    </tr>\n",
       "    <tr>\n",
       "      <th>10720</th>\n",
       "      <td>Firefox Focus: The privacy browser</td>\n",
       "      <td>COMMUNICATION</td>\n",
       "      <td>4.4</td>\n",
       "      <td>36981</td>\n",
       "      <td>4.0M</td>\n",
       "      <td>1,000,000+</td>\n",
       "      <td>Free</td>\n",
       "      <td>0</td>\n",
       "      <td>Everyone</td>\n",
       "      <td>Communication</td>\n",
       "      <td>July 6, 2018</td>\n",
       "      <td>5.2</td>\n",
       "      <td>5.0 and up</td>\n",
       "    </tr>\n",
       "    <tr>\n",
       "      <th>10730</th>\n",
       "      <td>FP Notebook</td>\n",
       "      <td>MEDICAL</td>\n",
       "      <td>4.5</td>\n",
       "      <td>410</td>\n",
       "      <td>60M</td>\n",
       "      <td>50,000+</td>\n",
       "      <td>Free</td>\n",
       "      <td>0</td>\n",
       "      <td>Everyone</td>\n",
       "      <td>Medical</td>\n",
       "      <td>March 24, 2018</td>\n",
       "      <td>2.1.0.372</td>\n",
       "      <td>4.4 and up</td>\n",
       "    </tr>\n",
       "    <tr>\n",
       "      <th>10753</th>\n",
       "      <td>Slickdeals: Coupons &amp; Shopping</td>\n",
       "      <td>SHOPPING</td>\n",
       "      <td>4.5</td>\n",
       "      <td>33599</td>\n",
       "      <td>12M</td>\n",
       "      <td>1,000,000+</td>\n",
       "      <td>Free</td>\n",
       "      <td>0</td>\n",
       "      <td>Everyone</td>\n",
       "      <td>Shopping</td>\n",
       "      <td>July 30, 2018</td>\n",
       "      <td>3.9</td>\n",
       "      <td>4.4 and up</td>\n",
       "    </tr>\n",
       "    <tr>\n",
       "      <th>10768</th>\n",
       "      <td>AAFP</td>\n",
       "      <td>MEDICAL</td>\n",
       "      <td>3.8</td>\n",
       "      <td>63</td>\n",
       "      <td>24M</td>\n",
       "      <td>10,000+</td>\n",
       "      <td>Free</td>\n",
       "      <td>0</td>\n",
       "      <td>Everyone</td>\n",
       "      <td>Medical</td>\n",
       "      <td>June 22, 2018</td>\n",
       "      <td>2.3.1</td>\n",
       "      <td>5.0 and up</td>\n",
       "    </tr>\n",
       "  </tbody>\n",
       "</table>\n",
       "<p>1181 rows × 13 columns</p>\n",
       "</div>"
      ],
      "text/plain": [
       "                                                     App            Category  \\\n",
       "229                         Quick PDF Scanner + OCR FREE            BUSINESS   \n",
       "236                                                  Box            BUSINESS   \n",
       "239                                   Google My Business            BUSINESS   \n",
       "256                                  ZOOM Cloud Meetings            BUSINESS   \n",
       "261                            join.me - Simple Meetings            BUSINESS   \n",
       "265                                                  Box            BUSINESS   \n",
       "266                                             Zenefits            BUSINESS   \n",
       "267                                           Google Ads            BUSINESS   \n",
       "268                                   Google My Business            BUSINESS   \n",
       "269                                                Slack            BUSINESS   \n",
       "270                                   FreshBooks Classic            BUSINESS   \n",
       "271                                        Insightly CRM            BUSINESS   \n",
       "272          QuickBooks Accounting: Invoicing & Expenses            BUSINESS   \n",
       "273                       HipChat - Chat Built for Teams            BUSINESS   \n",
       "274                             Xero Accounting Software            BUSINESS   \n",
       "275              MailChimp - Email, Marketing Automation            BUSINESS   \n",
       "276                 Crew - Free Messaging and Scheduling            BUSINESS   \n",
       "277                        Asana: organize team projects            BUSINESS   \n",
       "278                                     Google Analytics            BUSINESS   \n",
       "279                                      AdWords Express            BUSINESS   \n",
       "280                          Accounting App - Zoho Books            BUSINESS   \n",
       "281                       Invoice & Time Tracking - Zoho            BUSINESS   \n",
       "282                            join.me - Simple Meetings            BUSINESS   \n",
       "283    Invoice 2go — Professional Invoices and Estimates            BUSINESS   \n",
       "284     SignEasy | Sign and Fill PDF and other Documents            BUSINESS   \n",
       "285                         Quick PDF Scanner + OCR FREE            BUSINESS   \n",
       "286                            Genius Scan - PDF Scanner            BUSINESS   \n",
       "287                       Tiny Scanner - PDF Scanner App            BUSINESS   \n",
       "288                         Fast Scanner : Free PDF Scan            BUSINESS   \n",
       "289                     Mobile Doc Scanner (MDScan) Lite            BUSINESS   \n",
       "...                                                  ...                 ...   \n",
       "9854       Nike Training Club - Workouts & Fitness Plans  HEALTH_AND_FITNESS   \n",
       "9856                       Hangouts Dialer - Call Phones       COMMUNICATION   \n",
       "9859                           Offline Maps & Navigation    TRAVEL_AND_LOCAL   \n",
       "9936               Strawberry Shortcake Ice Cream Island              FAMILY   \n",
       "9975                         Home Workout - No Equipment  HEALTH_AND_FITNESS   \n",
       "9982   Home Security Camera WardenCam - reuse old phones      HOUSE_AND_HOME   \n",
       "10018                                       Food Network              FAMILY   \n",
       "10026                            Web Browser for Android       COMMUNICATION   \n",
       "10049          Airway Ex - Intubate. Anesthetize. Train.             MEDICAL   \n",
       "10118                      FilterGrid - Cam&Photo Editor         PHOTOGRAPHY   \n",
       "10170        Messages, Text and Video Chat for Messenger              SOCIAL   \n",
       "10171                                All Social Networks              SOCIAL   \n",
       "10178                      Premier League - Official App              SPORTS   \n",
       "10186                                   Farm Heroes Saga              FAMILY   \n",
       "10188                                ESPN Fantasy Sports              SPORTS   \n",
       "10190                                    Fallout Shelter              FAMILY   \n",
       "10200                             Facebook Pages Manager            BUSINESS   \n",
       "10203                               Facebook Ads Manager            BUSINESS   \n",
       "10213  Who Viewed My Facebook Profile - Stalkers Visi...              SOCIAL   \n",
       "10269                                      The 5th Stand              SPORTS   \n",
       "10327                                   Garena Free Fire                GAME   \n",
       "10473                            osmino Wi-Fi: free WiFi               TOOLS   \n",
       "10502                         Fun Kid Racing - Motocross              FAMILY   \n",
       "10646  Podcast App: Free & Offline Podcasts by Player FM  NEWS_AND_MAGAZINES   \n",
       "10647                                  Motorola FM Radio       VIDEO_PLAYERS   \n",
       "10715                                 FarmersOnly Dating              DATING   \n",
       "10720                 Firefox Focus: The privacy browser       COMMUNICATION   \n",
       "10730                                        FP Notebook             MEDICAL   \n",
       "10753                     Slickdeals: Coupons & Shopping            SHOPPING   \n",
       "10768                                               AAFP             MEDICAL   \n",
       "\n",
       "       Rating  Reviews                Size      Installs  Type Price  \\\n",
       "229       4.2    80805  Varies with device    5,000,000+  Free     0   \n",
       "236       4.2   159872  Varies with device   10,000,000+  Free     0   \n",
       "239       4.4    70991  Varies with device    5,000,000+  Free     0   \n",
       "256       4.4    31614                 37M   10,000,000+  Free     0   \n",
       "261       4.0     6989  Varies with device    1,000,000+  Free     0   \n",
       "265       4.2   159872  Varies with device   10,000,000+  Free     0   \n",
       "266       4.2      296                 14M       50,000+  Free     0   \n",
       "267       4.3    29313                 20M    5,000,000+  Free     0   \n",
       "268       4.4    70991  Varies with device    5,000,000+  Free     0   \n",
       "269       4.4    51507  Varies with device    5,000,000+  Free     0   \n",
       "270       4.1     1802                 26M      100,000+  Free     0   \n",
       "271       3.8     1383                 51M      100,000+  Free     0   \n",
       "272       4.3    23175                 41M    1,000,000+  Free     0   \n",
       "273       3.8     5868                 20M      500,000+  Free     0   \n",
       "274       3.5     2111  Varies with device      100,000+  Free     0   \n",
       "275       4.1     5448                 12M      500,000+  Free     0   \n",
       "276       4.6     4159                 48M      500,000+  Free     0   \n",
       "277       4.3    20815                 10M    1,000,000+  Free     0   \n",
       "278       4.5    78662                 22M    1,000,000+  Free     0   \n",
       "279       4.1     7149                 11M    1,000,000+  Free     0   \n",
       "280       4.5     3079                8.5M      100,000+  Free     0   \n",
       "281       4.6     5800                8.6M      100,000+  Free     0   \n",
       "282       4.0     6989  Varies with device    1,000,000+  Free     0   \n",
       "283       4.2    16422                 28M    1,000,000+  Free     0   \n",
       "284       4.3     8978  Varies with device    1,000,000+  Free     0   \n",
       "285       4.2    80804  Varies with device    5,000,000+  Free     0   \n",
       "286       4.4    42492  Varies with device    1,000,000+  Free     0   \n",
       "287       4.7   286897                 39M   10,000,000+  Free     0   \n",
       "288       4.5   103755                 14M   10,000,000+  Free     0   \n",
       "289       4.2    46505                 19M    1,000,000+  Free     0   \n",
       "...       ...      ...                 ...           ...   ...   ...   \n",
       "9854      4.6   251618                 93M   10,000,000+  Free     0   \n",
       "9856      4.0   122512                 79k   10,000,000+  Free     0   \n",
       "9859      4.7   193364                 33M    5,000,000+  Free     0   \n",
       "9936      4.2    32200                 15M    5,000,000+  Free     0   \n",
       "9975      4.8   432160                 15M   10,000,000+  Free     0   \n",
       "9982      4.3    43847  Varies with device    1,000,000+  Free     0   \n",
       "10018     4.1     7823  Varies with device      500,000+  Free     0   \n",
       "10026     4.1    55110                4.3M    1,000,000+  Free     0   \n",
       "10049     4.3      123                 86M       10,000+  Free     0   \n",
       "10118     4.6   126338                9.6M    1,000,000+  Free     0   \n",
       "10170     4.4    49580                4.0M   10,000,000+  Free     0   \n",
       "10171     4.2    22650                1.5M    1,000,000+  Free     0   \n",
       "10178     4.3    63782                 24M    5,000,000+  Free     0   \n",
       "10186     4.4  7615646                 71M  100,000,000+  Free     0   \n",
       "10188     4.0   176487                 10M    5,000,000+  Free     0   \n",
       "10190     4.6  2721923                 25M   10,000,000+  Free     0   \n",
       "10200     4.0  1279800  Varies with device   50,000,000+  Free     0   \n",
       "10203     4.1    19051  Varies with device    1,000,000+  Free     0   \n",
       "10213     4.6   273244                9.9M    5,000,000+  Free     0   \n",
       "10269     4.8     1697                 17M      100,000+  Free     0   \n",
       "10327     4.5  5534114                 53M  100,000,000+  Free     0   \n",
       "10473     4.2   134203                4.1M   10,000,000+  Free     0   \n",
       "10502     4.1    59768  Varies with device   10,000,000+  Free     0   \n",
       "10646     4.6    66407                 19M    1,000,000+  Free     0   \n",
       "10647     3.9    54815  Varies with device  100,000,000+  Free     0   \n",
       "10715     3.0     1145                1.4M      100,000+  Free     0   \n",
       "10720     4.4    36981                4.0M    1,000,000+  Free     0   \n",
       "10730     4.5      410                 60M       50,000+  Free     0   \n",
       "10753     4.5    33599                 12M    1,000,000+  Free     0   \n",
       "10768     3.8       63                 24M       10,000+  Free     0   \n",
       "\n",
       "      Content Rating                     Genres       Last Updated  \\\n",
       "229         Everyone                   Business  February 26, 2018   \n",
       "236         Everyone                   Business      July 31, 2018   \n",
       "239         Everyone                   Business      July 24, 2018   \n",
       "256         Everyone                   Business      July 20, 2018   \n",
       "261         Everyone                   Business      July 16, 2018   \n",
       "265         Everyone                   Business      July 31, 2018   \n",
       "266         Everyone                   Business      June 15, 2018   \n",
       "267         Everyone                   Business      July 30, 2018   \n",
       "268         Everyone                   Business      July 24, 2018   \n",
       "269         Everyone                   Business     August 2, 2018   \n",
       "270         Everyone                   Business     April 18, 2018   \n",
       "271         Everyone                   Business      July 12, 2018   \n",
       "272         Everyone                   Business      July 13, 2018   \n",
       "273         Everyone                   Business       July 3, 2018   \n",
       "274         Everyone                   Business      July 30, 2018   \n",
       "275         Everyone                   Business      July 25, 2018   \n",
       "276         Everyone                   Business      July 20, 2018   \n",
       "277         Everyone                   Business      July 26, 2018   \n",
       "278         Everyone                   Business  February 13, 2018   \n",
       "279         Everyone                   Business      July 31, 2018   \n",
       "280         Everyone                   Business     August 2, 2018   \n",
       "281         Everyone                   Business     August 2, 2018   \n",
       "282         Everyone                   Business      July 16, 2018   \n",
       "283         Everyone                   Business     August 1, 2018   \n",
       "284         Everyone                   Business      July 25, 2018   \n",
       "285         Everyone                   Business  February 26, 2018   \n",
       "286         Everyone                   Business      July 11, 2018   \n",
       "287         Everyone                   Business       May 30, 2017   \n",
       "288         Everyone                   Business      July 11, 2018   \n",
       "289         Everyone                   Business     August 2, 2018   \n",
       "...              ...                        ...                ...   \n",
       "9854        Everyone           Health & Fitness      July 18, 2018   \n",
       "9856        Everyone              Communication  September 2, 2015   \n",
       "9859        Everyone             Travel & Local       June 7, 2018   \n",
       "9936        Everyone        Casual;Pretend Play   November 6, 2017   \n",
       "9975        Everyone           Health & Fitness      June 28, 2018   \n",
       "9982        Everyone               House & Home       July 6, 2018   \n",
       "10018           Teen              Entertainment      July 27, 2018   \n",
       "10026       Everyone              Communication      June 20, 2018   \n",
       "10049       Everyone                    Medical       June 1, 2018   \n",
       "10118       Everyone                Photography     March 15, 2017   \n",
       "10170       Everyone                     Social       June 4, 2018   \n",
       "10171       Everyone                     Social       May 21, 2018   \n",
       "10178       Everyone                     Sports     August 7, 2018   \n",
       "10186       Everyone                     Casual     August 7, 2018   \n",
       "10188       Everyone                     Sports  November 21, 2017   \n",
       "10190           Teen                 Simulation      June 11, 2018   \n",
       "10200       Everyone                   Business     August 6, 2018   \n",
       "10203       Everyone                   Business     August 1, 2018   \n",
       "10213       Everyone                     Social      June 24, 2018   \n",
       "10269       Everyone                     Sports      July 31, 2018   \n",
       "10327           Teen                     Action     August 3, 2018   \n",
       "10473       Everyone                      Tools     August 7, 2018   \n",
       "10502       Everyone  Racing;Action & Adventure     August 7, 2018   \n",
       "10646           Teen           News & Magazines      July 25, 2018   \n",
       "10647       Everyone    Video Players & Editors        May 2, 2018   \n",
       "10715     Mature 17+                     Dating  February 25, 2016   \n",
       "10720       Everyone              Communication       July 6, 2018   \n",
       "10730       Everyone                    Medical     March 24, 2018   \n",
       "10753       Everyone                   Shopping      July 30, 2018   \n",
       "10768       Everyone                    Medical      June 22, 2018   \n",
       "\n",
       "              Current Ver         Android Ver  \n",
       "229    Varies with device        4.0.3 and up  \n",
       "236    Varies with device  Varies with device  \n",
       "239      2.19.0.204537701          4.4 and up  \n",
       "256        4.1.28165.0716          4.0 and up  \n",
       "261             4.3.0.508          4.4 and up  \n",
       "265    Varies with device  Varies with device  \n",
       "266                 3.2.1          4.1 and up  \n",
       "267                1.12.0        4.0.3 and up  \n",
       "268      2.19.0.204537701          4.4 and up  \n",
       "269    Varies with device  Varies with device  \n",
       "270                1.7.14          4.2 and up  \n",
       "271                3.24.1          5.0 and up  \n",
       "272                  18.7          4.1 and up  \n",
       "273              3.19.005          4.1 and up  \n",
       "274    Varies with device  Varies with device  \n",
       "275                 4.9.1          5.0 and up  \n",
       "276                 6.1.2        4.0.3 and up  \n",
       "277                 6.4.4          5.0 and up  \n",
       "278                 3.7.5          4.4 and up  \n",
       "279               2.6.158          4.0 and up  \n",
       "280                5.20.7          4.1 and up  \n",
       "281                5.20.7          4.1 and up  \n",
       "282             4.3.0.508          4.4 and up  \n",
       "283               10.46.2          4.1 and up  \n",
       "284    Varies with device  Varies with device  \n",
       "285    Varies with device        4.0.3 and up  \n",
       "286    Varies with device  Varies with device  \n",
       "287                 1.2.6          3.0 and up  \n",
       "288                 3.9.2          4.1 and up  \n",
       "289                3.4.49          4.1 and up  \n",
       "...                   ...                 ...  \n",
       "9854               5.14.0          5.0 and up  \n",
       "9856        0.1.100944346        4.0.3 and up  \n",
       "9859               17.4.1        4.0.3 and up  \n",
       "9936                  1.2          4.1 and up  \n",
       "9975   Varies with device  Varies with device  \n",
       "9982   Varies with device  Varies with device  \n",
       "10018  Varies with device  Varies with device  \n",
       "10026                 2.2          4.0 and up  \n",
       "10049              0.6.88          5.0 and up  \n",
       "10118               2.0.5          4.0 and up  \n",
       "10170                1.24          4.1 and up  \n",
       "10171              2.4.12          4.0 and up  \n",
       "10178               1.1.5          4.1 and up  \n",
       "10186               5.2.6          2.3 and up  \n",
       "10188               5.3.0          4.4 and up  \n",
       "10190             1.13.12          4.1 and up  \n",
       "10200  Varies with device  Varies with device  \n",
       "10203        99.0.0.35.75          4.1 and up  \n",
       "10213               4.1.1        4.0.3 and up  \n",
       "10269             1.2.677          4.4 and up  \n",
       "10327              1.21.0        4.0.3 and up  \n",
       "10473             6.06.14          4.4 and up  \n",
       "10502                3.53          4.2 and up  \n",
       "10646            4.1.0.72          4.0 and up  \n",
       "10647  Varies with device  Varies with device  \n",
       "10715                 2.2          4.0 and up  \n",
       "10720                 5.2          5.0 and up  \n",
       "10730           2.1.0.372          4.4 and up  \n",
       "10753                 3.9          4.4 and up  \n",
       "10768               2.3.1          5.0 and up  \n",
       "\n",
       "[1181 rows x 13 columns]"
      ]
     },
     "execution_count": 202,
     "metadata": {},
     "output_type": "execute_result"
    }
   ],
   "source": [
    "# checking duplicated rows\n",
    "google_store[google_store.App.duplicated()]"
   ]
  },
  {
   "cell_type": "code",
   "execution_count": 203,
   "metadata": {
    "scrolled": false
   },
   "outputs": [
    {
     "data": {
      "text/plain": [
       "App               1181\n",
       "Category          1181\n",
       "Rating            1170\n",
       "Reviews           1181\n",
       "Size              1181\n",
       "Installs          1181\n",
       "Type              1181\n",
       "Price             1181\n",
       "Content Rating    1181\n",
       "Genres            1181\n",
       "Last Updated      1181\n",
       "Current Ver       1181\n",
       "Android Ver       1181\n",
       "dtype: int64"
      ]
     },
     "execution_count": 203,
     "metadata": {},
     "output_type": "execute_result"
    }
   ],
   "source": [
    "# counting the number of duplicated rows\n",
    "google_store[google_store.App.duplicated()].count()"
   ]
  },
  {
   "cell_type": "markdown",
   "metadata": {},
   "source": [
    "#### Observation \n",
    "\n",
    "There are about 1181 duplicated rows in the google play store data set; they need to be dropped immediately. "
   ]
  },
  {
   "cell_type": "markdown",
   "metadata": {},
   "source": [
    "## Conclusion "
   ]
  },
  {
   "cell_type": "markdown",
   "metadata": {},
   "source": [
    "The Google Store data set has seven data quality issues and one tidiness issue as the following :"
   ]
  },
  {
   "cell_type": "markdown",
   "metadata": {},
   "source": [
    "#### Google Store Data Set :"
   ]
  },
  {
   "cell_type": "markdown",
   "metadata": {},
   "source": [
    "#### Quality Issues:\n",
    "1. The Category column values are capitalized and some contains underscores; they need to be fixed.\n",
    "2. The Last Updated and Current Ver columns need to be dropped from the data set.\n",
    "3. One row of data was extracted wrongly and needs to be dropped from the data set.\n",
    "4. There are 1181 duplicated rows in the Google Play Store data set; they need to be dropped from the data set.\n",
    "5. The Installs columns has a plus(+) sign besides each number and a comma; they need to be removed and then converte the column type to an int.\n",
    "6. The price column has a dollar sign; it needs to be removed and then converte the column type to a float.\n",
    "7. The Reviews column is an object while it should be an int.\n",
    "\n",
    "\n",
    "#### Tidiness Issues:\n",
    "1. The Genres column contains several values in one in one row; they need to splitted to more than one row to be counted."
   ]
  },
  {
   "cell_type": "markdown",
   "metadata": {},
   "source": [
    "### Cleaning Data \n",
    "\n",
    "Cleaning data is the third step in data wrangling. I will fix the quality and tidiness issues that were identified in the assessing step using Python codes. "
   ]
  },
  {
   "cell_type": "code",
   "execution_count": 204,
   "metadata": {},
   "outputs": [],
   "source": [
    "# creating a copy of the google \n",
    "google_store_clean = google_store.copy()"
   ]
  },
  {
   "cell_type": "markdown",
   "metadata": {},
   "source": [
    "**Define**\n",
    "\n",
    "The Last Updated and Current Ver columns need to be dropped from the data set. I will use the drop function from Pandas library to drop them.\n"
   ]
  },
  {
   "cell_type": "markdown",
   "metadata": {},
   "source": [
    "**Code**"
   ]
  },
  {
   "cell_type": "code",
   "execution_count": 205,
   "metadata": {},
   "outputs": [],
   "source": [
    "# dropping un needed columns from Google Store Data Set\n",
    "google_store_clean.drop([\"Last Updated\",\"Current Ver\"],axis = 1, inplace = True)"
   ]
  },
  {
   "cell_type": "markdown",
   "metadata": {},
   "source": [
    "**Test**"
   ]
  },
  {
   "cell_type": "code",
   "execution_count": 206,
   "metadata": {
    "scrolled": true
   },
   "outputs": [
    {
     "data": {
      "text/html": [
       "<div>\n",
       "<style scoped>\n",
       "    .dataframe tbody tr th:only-of-type {\n",
       "        vertical-align: middle;\n",
       "    }\n",
       "\n",
       "    .dataframe tbody tr th {\n",
       "        vertical-align: top;\n",
       "    }\n",
       "\n",
       "    .dataframe thead th {\n",
       "        text-align: right;\n",
       "    }\n",
       "</style>\n",
       "<table border=\"1\" class=\"dataframe\">\n",
       "  <thead>\n",
       "    <tr style=\"text-align: right;\">\n",
       "      <th></th>\n",
       "      <th>App</th>\n",
       "      <th>Category</th>\n",
       "      <th>Rating</th>\n",
       "      <th>Reviews</th>\n",
       "      <th>Size</th>\n",
       "      <th>Installs</th>\n",
       "      <th>Type</th>\n",
       "      <th>Price</th>\n",
       "      <th>Content Rating</th>\n",
       "      <th>Genres</th>\n",
       "      <th>Android Ver</th>\n",
       "    </tr>\n",
       "  </thead>\n",
       "  <tbody>\n",
       "    <tr>\n",
       "      <th>0</th>\n",
       "      <td>Photo Editor &amp; Candy Camera &amp; Grid &amp; ScrapBook</td>\n",
       "      <td>ART_AND_DESIGN</td>\n",
       "      <td>4.1</td>\n",
       "      <td>159</td>\n",
       "      <td>19M</td>\n",
       "      <td>10,000+</td>\n",
       "      <td>Free</td>\n",
       "      <td>0</td>\n",
       "      <td>Everyone</td>\n",
       "      <td>Art &amp; Design</td>\n",
       "      <td>4.0.3 and up</td>\n",
       "    </tr>\n",
       "    <tr>\n",
       "      <th>1</th>\n",
       "      <td>Coloring book moana</td>\n",
       "      <td>ART_AND_DESIGN</td>\n",
       "      <td>3.9</td>\n",
       "      <td>967</td>\n",
       "      <td>14M</td>\n",
       "      <td>500,000+</td>\n",
       "      <td>Free</td>\n",
       "      <td>0</td>\n",
       "      <td>Everyone</td>\n",
       "      <td>Art &amp; Design;Pretend Play</td>\n",
       "      <td>4.0.3 and up</td>\n",
       "    </tr>\n",
       "    <tr>\n",
       "      <th>2</th>\n",
       "      <td>U Launcher Lite – FREE Live Cool Themes, Hide ...</td>\n",
       "      <td>ART_AND_DESIGN</td>\n",
       "      <td>4.7</td>\n",
       "      <td>87510</td>\n",
       "      <td>8.7M</td>\n",
       "      <td>5,000,000+</td>\n",
       "      <td>Free</td>\n",
       "      <td>0</td>\n",
       "      <td>Everyone</td>\n",
       "      <td>Art &amp; Design</td>\n",
       "      <td>4.0.3 and up</td>\n",
       "    </tr>\n",
       "    <tr>\n",
       "      <th>3</th>\n",
       "      <td>Sketch - Draw &amp; Paint</td>\n",
       "      <td>ART_AND_DESIGN</td>\n",
       "      <td>4.5</td>\n",
       "      <td>215644</td>\n",
       "      <td>25M</td>\n",
       "      <td>50,000,000+</td>\n",
       "      <td>Free</td>\n",
       "      <td>0</td>\n",
       "      <td>Teen</td>\n",
       "      <td>Art &amp; Design</td>\n",
       "      <td>4.2 and up</td>\n",
       "    </tr>\n",
       "    <tr>\n",
       "      <th>4</th>\n",
       "      <td>Pixel Draw - Number Art Coloring Book</td>\n",
       "      <td>ART_AND_DESIGN</td>\n",
       "      <td>4.3</td>\n",
       "      <td>967</td>\n",
       "      <td>2.8M</td>\n",
       "      <td>100,000+</td>\n",
       "      <td>Free</td>\n",
       "      <td>0</td>\n",
       "      <td>Everyone</td>\n",
       "      <td>Art &amp; Design;Creativity</td>\n",
       "      <td>4.4 and up</td>\n",
       "    </tr>\n",
       "  </tbody>\n",
       "</table>\n",
       "</div>"
      ],
      "text/plain": [
       "                                                 App        Category  Rating  \\\n",
       "0     Photo Editor & Candy Camera & Grid & ScrapBook  ART_AND_DESIGN     4.1   \n",
       "1                                Coloring book moana  ART_AND_DESIGN     3.9   \n",
       "2  U Launcher Lite – FREE Live Cool Themes, Hide ...  ART_AND_DESIGN     4.7   \n",
       "3                              Sketch - Draw & Paint  ART_AND_DESIGN     4.5   \n",
       "4              Pixel Draw - Number Art Coloring Book  ART_AND_DESIGN     4.3   \n",
       "\n",
       "  Reviews  Size     Installs  Type Price Content Rating  \\\n",
       "0     159   19M      10,000+  Free     0       Everyone   \n",
       "1     967   14M     500,000+  Free     0       Everyone   \n",
       "2   87510  8.7M   5,000,000+  Free     0       Everyone   \n",
       "3  215644   25M  50,000,000+  Free     0           Teen   \n",
       "4     967  2.8M     100,000+  Free     0       Everyone   \n",
       "\n",
       "                      Genres   Android Ver  \n",
       "0               Art & Design  4.0.3 and up  \n",
       "1  Art & Design;Pretend Play  4.0.3 and up  \n",
       "2               Art & Design  4.0.3 and up  \n",
       "3               Art & Design    4.2 and up  \n",
       "4    Art & Design;Creativity    4.4 and up  "
      ]
     },
     "execution_count": 206,
     "metadata": {},
     "output_type": "execute_result"
    }
   ],
   "source": [
    "# checking if the two columns are dropped from the table\n",
    "google_store_clean.head()"
   ]
  },
  {
   "cell_type": "markdown",
   "metadata": {},
   "source": [
    "**Define**\n",
    "One row of data was extracted wrongly and needs to be dropped from the data set. I will use the drop function from Pandas Library to drop it."
   ]
  },
  {
   "cell_type": "markdown",
   "metadata": {},
   "source": [
    "**Code**"
   ]
  },
  {
   "cell_type": "code",
   "execution_count": 207,
   "metadata": {},
   "outputs": [],
   "source": [
    "# dropping the wrongly extracted row\n",
    "google_store_clean.drop(google_store_clean.index[[10472]],inplace = True)"
   ]
  },
  {
   "cell_type": "markdown",
   "metadata": {},
   "source": [
    "**Test**"
   ]
  },
  {
   "cell_type": "code",
   "execution_count": 208,
   "metadata": {},
   "outputs": [
    {
     "data": {
      "text/html": [
       "<div>\n",
       "<style scoped>\n",
       "    .dataframe tbody tr th:only-of-type {\n",
       "        vertical-align: middle;\n",
       "    }\n",
       "\n",
       "    .dataframe tbody tr th {\n",
       "        vertical-align: top;\n",
       "    }\n",
       "\n",
       "    .dataframe thead th {\n",
       "        text-align: right;\n",
       "    }\n",
       "</style>\n",
       "<table border=\"1\" class=\"dataframe\">\n",
       "  <thead>\n",
       "    <tr style=\"text-align: right;\">\n",
       "      <th></th>\n",
       "      <th>App</th>\n",
       "      <th>Category</th>\n",
       "      <th>Rating</th>\n",
       "      <th>Reviews</th>\n",
       "      <th>Size</th>\n",
       "      <th>Installs</th>\n",
       "      <th>Type</th>\n",
       "      <th>Price</th>\n",
       "      <th>Content Rating</th>\n",
       "      <th>Genres</th>\n",
       "      <th>Android Ver</th>\n",
       "    </tr>\n",
       "  </thead>\n",
       "  <tbody>\n",
       "  </tbody>\n",
       "</table>\n",
       "</div>"
      ],
      "text/plain": [
       "Empty DataFrame\n",
       "Columns: [App, Category, Rating, Reviews, Size, Installs, Type, Price, Content Rating, Genres, Android Ver]\n",
       "Index: []"
      ]
     },
     "execution_count": 208,
     "metadata": {},
     "output_type": "execute_result"
    }
   ],
   "source": [
    "# checking that the row is dropped\n",
    "google_store_clean.query('Rating == 19.0')"
   ]
  },
  {
   "cell_type": "markdown",
   "metadata": {},
   "source": [
    "**Define**\n",
    "\n",
    "There are 1181 duplicated rows in the Google Play Store data set; they need to be dropped from the data set. I will use the drop_duplicates function from Pandas Library to drop them."
   ]
  },
  {
   "cell_type": "markdown",
   "metadata": {},
   "source": [
    "**Code**"
   ]
  },
  {
   "cell_type": "code",
   "execution_count": 209,
   "metadata": {},
   "outputs": [],
   "source": [
    "# dropping duplicates from the data set\n",
    "google_store_clean.drop_duplicates(subset = \"App\", inplace = True)"
   ]
  },
  {
   "cell_type": "markdown",
   "metadata": {},
   "source": [
    "**Test**"
   ]
  },
  {
   "cell_type": "code",
   "execution_count": 210,
   "metadata": {
    "scrolled": true
   },
   "outputs": [
    {
     "data": {
      "text/plain": [
       "App               0\n",
       "Category          0\n",
       "Rating            0\n",
       "Reviews           0\n",
       "Size              0\n",
       "Installs          0\n",
       "Type              0\n",
       "Price             0\n",
       "Content Rating    0\n",
       "Genres            0\n",
       "Android Ver       0\n",
       "dtype: int64"
      ]
     },
     "execution_count": 210,
     "metadata": {},
     "output_type": "execute_result"
    }
   ],
   "source": [
    "# counting the number of duplicated rows\n",
    "google_store_clean[google_store_clean.App.duplicated()].count()"
   ]
  },
  {
   "cell_type": "markdown",
   "metadata": {},
   "source": [
    "**Define**\n",
    "\n",
    "The Category column values are capitalized and some contains underscores; they need to be fixed. I will use replace function to get rid of undersocres and use lower and title functions to make the category title in a upper case. "
   ]
  },
  {
   "cell_type": "markdown",
   "metadata": {},
   "source": [
    "**Code**"
   ]
  },
  {
   "cell_type": "code",
   "execution_count": 211,
   "metadata": {},
   "outputs": [],
   "source": [
    "# fixing the category column in Google Store Data Set\n",
    "# replacing the underscore with space\n",
    "google_store_clean.Category = google_store_clean.Category.str.replace('_', ' ')\n",
    "# lower case for the category column values\n",
    "google_store_clean.Category = google_store_clean.Category.str.lower()\n",
    "# title case for the category column values\n",
    "google_store_clean.Category = google_store_clean.Category.str.title()"
   ]
  },
  {
   "cell_type": "markdown",
   "metadata": {},
   "source": [
    "**Test**"
   ]
  },
  {
   "cell_type": "code",
   "execution_count": 212,
   "metadata": {},
   "outputs": [
    {
     "data": {
      "text/html": [
       "<div>\n",
       "<style scoped>\n",
       "    .dataframe tbody tr th:only-of-type {\n",
       "        vertical-align: middle;\n",
       "    }\n",
       "\n",
       "    .dataframe tbody tr th {\n",
       "        vertical-align: top;\n",
       "    }\n",
       "\n",
       "    .dataframe thead th {\n",
       "        text-align: right;\n",
       "    }\n",
       "</style>\n",
       "<table border=\"1\" class=\"dataframe\">\n",
       "  <thead>\n",
       "    <tr style=\"text-align: right;\">\n",
       "      <th></th>\n",
       "      <th>App</th>\n",
       "      <th>Category</th>\n",
       "      <th>Rating</th>\n",
       "      <th>Reviews</th>\n",
       "      <th>Size</th>\n",
       "      <th>Installs</th>\n",
       "      <th>Type</th>\n",
       "      <th>Price</th>\n",
       "      <th>Content Rating</th>\n",
       "      <th>Genres</th>\n",
       "      <th>Android Ver</th>\n",
       "    </tr>\n",
       "  </thead>\n",
       "  <tbody>\n",
       "    <tr>\n",
       "      <th>0</th>\n",
       "      <td>Photo Editor &amp; Candy Camera &amp; Grid &amp; ScrapBook</td>\n",
       "      <td>Art And Design</td>\n",
       "      <td>4.1</td>\n",
       "      <td>159</td>\n",
       "      <td>19M</td>\n",
       "      <td>10,000+</td>\n",
       "      <td>Free</td>\n",
       "      <td>0</td>\n",
       "      <td>Everyone</td>\n",
       "      <td>Art &amp; Design</td>\n",
       "      <td>4.0.3 and up</td>\n",
       "    </tr>\n",
       "    <tr>\n",
       "      <th>1</th>\n",
       "      <td>Coloring book moana</td>\n",
       "      <td>Art And Design</td>\n",
       "      <td>3.9</td>\n",
       "      <td>967</td>\n",
       "      <td>14M</td>\n",
       "      <td>500,000+</td>\n",
       "      <td>Free</td>\n",
       "      <td>0</td>\n",
       "      <td>Everyone</td>\n",
       "      <td>Art &amp; Design;Pretend Play</td>\n",
       "      <td>4.0.3 and up</td>\n",
       "    </tr>\n",
       "    <tr>\n",
       "      <th>2</th>\n",
       "      <td>U Launcher Lite – FREE Live Cool Themes, Hide ...</td>\n",
       "      <td>Art And Design</td>\n",
       "      <td>4.7</td>\n",
       "      <td>87510</td>\n",
       "      <td>8.7M</td>\n",
       "      <td>5,000,000+</td>\n",
       "      <td>Free</td>\n",
       "      <td>0</td>\n",
       "      <td>Everyone</td>\n",
       "      <td>Art &amp; Design</td>\n",
       "      <td>4.0.3 and up</td>\n",
       "    </tr>\n",
       "    <tr>\n",
       "      <th>3</th>\n",
       "      <td>Sketch - Draw &amp; Paint</td>\n",
       "      <td>Art And Design</td>\n",
       "      <td>4.5</td>\n",
       "      <td>215644</td>\n",
       "      <td>25M</td>\n",
       "      <td>50,000,000+</td>\n",
       "      <td>Free</td>\n",
       "      <td>0</td>\n",
       "      <td>Teen</td>\n",
       "      <td>Art &amp; Design</td>\n",
       "      <td>4.2 and up</td>\n",
       "    </tr>\n",
       "    <tr>\n",
       "      <th>4</th>\n",
       "      <td>Pixel Draw - Number Art Coloring Book</td>\n",
       "      <td>Art And Design</td>\n",
       "      <td>4.3</td>\n",
       "      <td>967</td>\n",
       "      <td>2.8M</td>\n",
       "      <td>100,000+</td>\n",
       "      <td>Free</td>\n",
       "      <td>0</td>\n",
       "      <td>Everyone</td>\n",
       "      <td>Art &amp; Design;Creativity</td>\n",
       "      <td>4.4 and up</td>\n",
       "    </tr>\n",
       "  </tbody>\n",
       "</table>\n",
       "</div>"
      ],
      "text/plain": [
       "                                                 App        Category  Rating  \\\n",
       "0     Photo Editor & Candy Camera & Grid & ScrapBook  Art And Design     4.1   \n",
       "1                                Coloring book moana  Art And Design     3.9   \n",
       "2  U Launcher Lite – FREE Live Cool Themes, Hide ...  Art And Design     4.7   \n",
       "3                              Sketch - Draw & Paint  Art And Design     4.5   \n",
       "4              Pixel Draw - Number Art Coloring Book  Art And Design     4.3   \n",
       "\n",
       "  Reviews  Size     Installs  Type Price Content Rating  \\\n",
       "0     159   19M      10,000+  Free     0       Everyone   \n",
       "1     967   14M     500,000+  Free     0       Everyone   \n",
       "2   87510  8.7M   5,000,000+  Free     0       Everyone   \n",
       "3  215644   25M  50,000,000+  Free     0           Teen   \n",
       "4     967  2.8M     100,000+  Free     0       Everyone   \n",
       "\n",
       "                      Genres   Android Ver  \n",
       "0               Art & Design  4.0.3 and up  \n",
       "1  Art & Design;Pretend Play  4.0.3 and up  \n",
       "2               Art & Design  4.0.3 and up  \n",
       "3               Art & Design    4.2 and up  \n",
       "4    Art & Design;Creativity    4.4 and up  "
      ]
     },
     "execution_count": 212,
     "metadata": {},
     "output_type": "execute_result"
    }
   ],
   "source": [
    "# checking that changes are made in the category column\n",
    "google_store_clean.head()"
   ]
  },
  {
   "cell_type": "markdown",
   "metadata": {},
   "source": [
    "**Define**\n",
    "\n",
    "The Genres column contains several values in one in one row; they need to splitted to more than one row to be counted. I will use stack,str.split, unstack and reset_index functions to split this column into multiple row."
   ]
  },
  {
   "cell_type": "markdown",
   "metadata": {},
   "source": [
    "**Code**"
   ]
  },
  {
   "cell_type": "code",
   "execution_count": 213,
   "metadata": {},
   "outputs": [],
   "source": [
    "# splitting genres column into multiple rows\n",
    "google_store_clean = google_store_clean.set_index(['App','Category','Rating','Reviews','Size','Installs','Type','Price','Content Rating','Android Ver']).stack().str.split(';', expand = True).stack().unstack(-2).reset_index(-1, drop=True).reset_index()\n"
   ]
  },
  {
   "cell_type": "markdown",
   "metadata": {},
   "source": [
    "**Test**"
   ]
  },
  {
   "cell_type": "code",
   "execution_count": 214,
   "metadata": {
    "scrolled": true
   },
   "outputs": [
    {
     "data": {
      "text/html": [
       "<div>\n",
       "<style scoped>\n",
       "    .dataframe tbody tr th:only-of-type {\n",
       "        vertical-align: middle;\n",
       "    }\n",
       "\n",
       "    .dataframe tbody tr th {\n",
       "        vertical-align: top;\n",
       "    }\n",
       "\n",
       "    .dataframe thead th {\n",
       "        text-align: right;\n",
       "    }\n",
       "</style>\n",
       "<table border=\"1\" class=\"dataframe\">\n",
       "  <thead>\n",
       "    <tr style=\"text-align: right;\">\n",
       "      <th></th>\n",
       "      <th>App</th>\n",
       "      <th>Category</th>\n",
       "      <th>Rating</th>\n",
       "      <th>Reviews</th>\n",
       "      <th>Size</th>\n",
       "      <th>Installs</th>\n",
       "      <th>Type</th>\n",
       "      <th>Price</th>\n",
       "      <th>Content Rating</th>\n",
       "      <th>Android Ver</th>\n",
       "      <th>Genres</th>\n",
       "    </tr>\n",
       "  </thead>\n",
       "  <tbody>\n",
       "    <tr>\n",
       "      <th>2711</th>\n",
       "      <td>Coloring book moana</td>\n",
       "      <td>Art And Design</td>\n",
       "      <td>3.9</td>\n",
       "      <td>967</td>\n",
       "      <td>14M</td>\n",
       "      <td>500,000+</td>\n",
       "      <td>Free</td>\n",
       "      <td>0</td>\n",
       "      <td>Everyone</td>\n",
       "      <td>4.0.3 and up</td>\n",
       "      <td>Art &amp; Design</td>\n",
       "    </tr>\n",
       "    <tr>\n",
       "      <th>2712</th>\n",
       "      <td>Coloring book moana</td>\n",
       "      <td>Art And Design</td>\n",
       "      <td>3.9</td>\n",
       "      <td>967</td>\n",
       "      <td>14M</td>\n",
       "      <td>500,000+</td>\n",
       "      <td>Free</td>\n",
       "      <td>0</td>\n",
       "      <td>Everyone</td>\n",
       "      <td>4.0.3 and up</td>\n",
       "      <td>Pretend Play</td>\n",
       "    </tr>\n",
       "    <tr>\n",
       "      <th>7308</th>\n",
       "      <td>Pixel Draw - Number Art Coloring Book</td>\n",
       "      <td>Art And Design</td>\n",
       "      <td>4.3</td>\n",
       "      <td>967</td>\n",
       "      <td>2.8M</td>\n",
       "      <td>100,000+</td>\n",
       "      <td>Free</td>\n",
       "      <td>0</td>\n",
       "      <td>Everyone</td>\n",
       "      <td>4.4 and up</td>\n",
       "      <td>Art &amp; Design</td>\n",
       "    </tr>\n",
       "    <tr>\n",
       "      <th>7309</th>\n",
       "      <td>Pixel Draw - Number Art Coloring Book</td>\n",
       "      <td>Art And Design</td>\n",
       "      <td>4.3</td>\n",
       "      <td>967</td>\n",
       "      <td>2.8M</td>\n",
       "      <td>100,000+</td>\n",
       "      <td>Free</td>\n",
       "      <td>0</td>\n",
       "      <td>Everyone</td>\n",
       "      <td>4.4 and up</td>\n",
       "      <td>Creativity</td>\n",
       "    </tr>\n",
       "  </tbody>\n",
       "</table>\n",
       "</div>"
      ],
      "text/plain": [
       "                                        App        Category  Rating Reviews  \\\n",
       "2711                    Coloring book moana  Art And Design     3.9     967   \n",
       "2712                    Coloring book moana  Art And Design     3.9     967   \n",
       "7308  Pixel Draw - Number Art Coloring Book  Art And Design     4.3     967   \n",
       "7309  Pixel Draw - Number Art Coloring Book  Art And Design     4.3     967   \n",
       "\n",
       "      Size  Installs  Type Price Content Rating   Android Ver        Genres  \n",
       "2711   14M  500,000+  Free     0       Everyone  4.0.3 and up  Art & Design  \n",
       "2712   14M  500,000+  Free     0       Everyone  4.0.3 and up  Pretend Play  \n",
       "7308  2.8M  100,000+  Free     0       Everyone    4.4 and up  Art & Design  \n",
       "7309  2.8M  100,000+  Free     0       Everyone    4.4 and up    Creativity  "
      ]
     },
     "execution_count": 214,
     "metadata": {},
     "output_type": "execute_result"
    }
   ],
   "source": [
    "# checking that the column is splited\n",
    "google_store_clean.query('App == \"Coloring book moana\" | App == \"Pixel Draw - Number Art Coloring Book\"')"
   ]
  },
  {
   "cell_type": "markdown",
   "metadata": {},
   "source": [
    "**Define**\n",
    "\n",
    "The Installs columns has a plus(+) sign besides each number and a comma; they need to be removed and then converte the column type to an int. I will use the replace function to remove the plus sign and astype to convert its value to an int."
   ]
  },
  {
   "cell_type": "markdown",
   "metadata": {},
   "source": [
    "**Code**"
   ]
  },
  {
   "cell_type": "code",
   "execution_count": 215,
   "metadata": {},
   "outputs": [],
   "source": [
    "# fixing the Installs column issues \n",
    "# removing plus sign and comma and then changing the column type to an int\n",
    "google_store_clean.Installs = google_store_clean.Installs.str.replace('+','').str.replace(',','').astype(int)"
   ]
  },
  {
   "cell_type": "markdown",
   "metadata": {},
   "source": [
    "**Test**"
   ]
  },
  {
   "cell_type": "code",
   "execution_count": 216,
   "metadata": {
    "scrolled": false
   },
   "outputs": [
    {
     "data": {
      "text/html": [
       "<div>\n",
       "<style scoped>\n",
       "    .dataframe tbody tr th:only-of-type {\n",
       "        vertical-align: middle;\n",
       "    }\n",
       "\n",
       "    .dataframe tbody tr th {\n",
       "        vertical-align: top;\n",
       "    }\n",
       "\n",
       "    .dataframe thead th {\n",
       "        text-align: right;\n",
       "    }\n",
       "</style>\n",
       "<table border=\"1\" class=\"dataframe\">\n",
       "  <thead>\n",
       "    <tr style=\"text-align: right;\">\n",
       "      <th></th>\n",
       "      <th>App</th>\n",
       "      <th>Category</th>\n",
       "      <th>Rating</th>\n",
       "      <th>Reviews</th>\n",
       "      <th>Size</th>\n",
       "      <th>Installs</th>\n",
       "      <th>Type</th>\n",
       "      <th>Price</th>\n",
       "      <th>Content Rating</th>\n",
       "      <th>Android Ver</th>\n",
       "      <th>Genres</th>\n",
       "    </tr>\n",
       "  </thead>\n",
       "  <tbody>\n",
       "    <tr>\n",
       "      <th>0</th>\n",
       "      <td>\"i DT\" Fútbol. Todos Somos Técnicos.</td>\n",
       "      <td>Sports</td>\n",
       "      <td>NaN</td>\n",
       "      <td>27</td>\n",
       "      <td>3.6M</td>\n",
       "      <td>500</td>\n",
       "      <td>Free</td>\n",
       "      <td>0</td>\n",
       "      <td>Everyone</td>\n",
       "      <td>4.1 and up</td>\n",
       "      <td>Sports</td>\n",
       "    </tr>\n",
       "    <tr>\n",
       "      <th>1</th>\n",
       "      <td>+Download 4 Instagram Twitter</td>\n",
       "      <td>Social</td>\n",
       "      <td>4.5</td>\n",
       "      <td>40467</td>\n",
       "      <td>22M</td>\n",
       "      <td>1000000</td>\n",
       "      <td>Free</td>\n",
       "      <td>0</td>\n",
       "      <td>Everyone</td>\n",
       "      <td>4.1 and up</td>\n",
       "      <td>Social</td>\n",
       "    </tr>\n",
       "    <tr>\n",
       "      <th>2</th>\n",
       "      <td>- Free Comics - Comic Apps</td>\n",
       "      <td>Comics</td>\n",
       "      <td>3.5</td>\n",
       "      <td>115</td>\n",
       "      <td>9.1M</td>\n",
       "      <td>10000</td>\n",
       "      <td>Free</td>\n",
       "      <td>0</td>\n",
       "      <td>Mature 17+</td>\n",
       "      <td>5.0 and up</td>\n",
       "      <td>Comics</td>\n",
       "    </tr>\n",
       "    <tr>\n",
       "      <th>3</th>\n",
       "      <td>.R</td>\n",
       "      <td>Tools</td>\n",
       "      <td>4.5</td>\n",
       "      <td>259</td>\n",
       "      <td>203k</td>\n",
       "      <td>10000</td>\n",
       "      <td>Free</td>\n",
       "      <td>0</td>\n",
       "      <td>Everyone</td>\n",
       "      <td>1.5 and up</td>\n",
       "      <td>Tools</td>\n",
       "    </tr>\n",
       "    <tr>\n",
       "      <th>4</th>\n",
       "      <td>/u/app</td>\n",
       "      <td>Communication</td>\n",
       "      <td>4.7</td>\n",
       "      <td>573</td>\n",
       "      <td>53M</td>\n",
       "      <td>10000</td>\n",
       "      <td>Free</td>\n",
       "      <td>0</td>\n",
       "      <td>Mature 17+</td>\n",
       "      <td>4.1 and up</td>\n",
       "      <td>Communication</td>\n",
       "    </tr>\n",
       "    <tr>\n",
       "      <th>5</th>\n",
       "      <td>058.ba</td>\n",
       "      <td>News And Magazines</td>\n",
       "      <td>4.4</td>\n",
       "      <td>27</td>\n",
       "      <td>14M</td>\n",
       "      <td>100</td>\n",
       "      <td>Free</td>\n",
       "      <td>0</td>\n",
       "      <td>Everyone</td>\n",
       "      <td>4.2 and up</td>\n",
       "      <td>News &amp; Magazines</td>\n",
       "    </tr>\n",
       "    <tr>\n",
       "      <th>6</th>\n",
       "      <td>1. FC Köln App</td>\n",
       "      <td>Sports</td>\n",
       "      <td>4.6</td>\n",
       "      <td>2019</td>\n",
       "      <td>41M</td>\n",
       "      <td>100000</td>\n",
       "      <td>Free</td>\n",
       "      <td>0</td>\n",
       "      <td>Everyone</td>\n",
       "      <td>4.4 and up</td>\n",
       "      <td>Sports</td>\n",
       "    </tr>\n",
       "    <tr>\n",
       "      <th>7</th>\n",
       "      <td>10 Best Foods for You</td>\n",
       "      <td>Health And Fitness</td>\n",
       "      <td>4.0</td>\n",
       "      <td>2490</td>\n",
       "      <td>3.8M</td>\n",
       "      <td>500000</td>\n",
       "      <td>Free</td>\n",
       "      <td>0</td>\n",
       "      <td>Everyone 10+</td>\n",
       "      <td>2.3.3 and up</td>\n",
       "      <td>Health &amp; Fitness</td>\n",
       "    </tr>\n",
       "    <tr>\n",
       "      <th>8</th>\n",
       "      <td>10 Minutes a Day Times Tables</td>\n",
       "      <td>Family</td>\n",
       "      <td>4.1</td>\n",
       "      <td>681</td>\n",
       "      <td>48M</td>\n",
       "      <td>100000</td>\n",
       "      <td>Free</td>\n",
       "      <td>0</td>\n",
       "      <td>Everyone</td>\n",
       "      <td>2.2 and up</td>\n",
       "      <td>Education</td>\n",
       "    </tr>\n",
       "    <tr>\n",
       "      <th>9</th>\n",
       "      <td>10 WPM Amateur ham radio CW Morse code trainer</td>\n",
       "      <td>Communication</td>\n",
       "      <td>3.5</td>\n",
       "      <td>10</td>\n",
       "      <td>3.8M</td>\n",
       "      <td>100</td>\n",
       "      <td>Paid</td>\n",
       "      <td>$1.49</td>\n",
       "      <td>Everyone</td>\n",
       "      <td>2.1 and up</td>\n",
       "      <td>Communication</td>\n",
       "    </tr>\n",
       "    <tr>\n",
       "      <th>10</th>\n",
       "      <td>10,000 Quotes DB (Premium)</td>\n",
       "      <td>Books And Reference</td>\n",
       "      <td>4.1</td>\n",
       "      <td>70</td>\n",
       "      <td>3.5M</td>\n",
       "      <td>500</td>\n",
       "      <td>Paid</td>\n",
       "      <td>$0.99</td>\n",
       "      <td>Everyone</td>\n",
       "      <td>2.1 and up</td>\n",
       "      <td>Books &amp; Reference</td>\n",
       "    </tr>\n",
       "    <tr>\n",
       "      <th>11</th>\n",
       "      <td>100 Doors of Revenge</td>\n",
       "      <td>Family</td>\n",
       "      <td>4.1</td>\n",
       "      <td>105766</td>\n",
       "      <td>48M</td>\n",
       "      <td>10000000</td>\n",
       "      <td>Free</td>\n",
       "      <td>0</td>\n",
       "      <td>Teen</td>\n",
       "      <td>4.4 and up</td>\n",
       "      <td>Puzzle</td>\n",
       "    </tr>\n",
       "    <tr>\n",
       "      <th>12</th>\n",
       "      <td>100+ C Programs</td>\n",
       "      <td>Family</td>\n",
       "      <td>4.2</td>\n",
       "      <td>20</td>\n",
       "      <td>1.6M</td>\n",
       "      <td>5000</td>\n",
       "      <td>Free</td>\n",
       "      <td>0</td>\n",
       "      <td>Everyone</td>\n",
       "      <td>4.0 and up</td>\n",
       "      <td>Education</td>\n",
       "    </tr>\n",
       "    <tr>\n",
       "      <th>13</th>\n",
       "      <td>100000+ Messages - DP, Status, Jokes &amp; GIF 2018</td>\n",
       "      <td>Lifestyle</td>\n",
       "      <td>3.7</td>\n",
       "      <td>121</td>\n",
       "      <td>3.8M</td>\n",
       "      <td>10000</td>\n",
       "      <td>Free</td>\n",
       "      <td>0</td>\n",
       "      <td>Mature 17+</td>\n",
       "      <td>4.0.3 and up</td>\n",
       "      <td>Lifestyle</td>\n",
       "    </tr>\n",
       "    <tr>\n",
       "      <th>14</th>\n",
       "      <td>101 C Programming Problems</td>\n",
       "      <td>Family</td>\n",
       "      <td>4.6</td>\n",
       "      <td>498</td>\n",
       "      <td>5.0M</td>\n",
       "      <td>50000</td>\n",
       "      <td>Free</td>\n",
       "      <td>0</td>\n",
       "      <td>Everyone</td>\n",
       "      <td>4.0.3 and up</td>\n",
       "      <td>Education</td>\n",
       "    </tr>\n",
       "    <tr>\n",
       "      <th>15</th>\n",
       "      <td>104 Looking for a job - looking for a job, loo...</td>\n",
       "      <td>Business</td>\n",
       "      <td>4.4</td>\n",
       "      <td>74359</td>\n",
       "      <td>25M</td>\n",
       "      <td>1000000</td>\n",
       "      <td>Free</td>\n",
       "      <td>0</td>\n",
       "      <td>Everyone</td>\n",
       "      <td>4.0 and up</td>\n",
       "      <td>Business</td>\n",
       "    </tr>\n",
       "    <tr>\n",
       "      <th>16</th>\n",
       "      <td>11st</td>\n",
       "      <td>Shopping</td>\n",
       "      <td>3.8</td>\n",
       "      <td>48732</td>\n",
       "      <td>20M</td>\n",
       "      <td>10000000</td>\n",
       "      <td>Free</td>\n",
       "      <td>0</td>\n",
       "      <td>Everyone</td>\n",
       "      <td>4.0 and up</td>\n",
       "      <td>Shopping</td>\n",
       "    </tr>\n",
       "    <tr>\n",
       "      <th>17</th>\n",
       "      <td>12 Step Meditations &amp; Sober Prayers AA NA AL-ANON</td>\n",
       "      <td>Lifestyle</td>\n",
       "      <td>4.7</td>\n",
       "      <td>759</td>\n",
       "      <td>15M</td>\n",
       "      <td>50000</td>\n",
       "      <td>Free</td>\n",
       "      <td>0</td>\n",
       "      <td>Everyone 10+</td>\n",
       "      <td>4.1 and up</td>\n",
       "      <td>Lifestyle</td>\n",
       "    </tr>\n",
       "    <tr>\n",
       "      <th>18</th>\n",
       "      <td>14thStreetVet</td>\n",
       "      <td>Medical</td>\n",
       "      <td>NaN</td>\n",
       "      <td>0</td>\n",
       "      <td>29M</td>\n",
       "      <td>5</td>\n",
       "      <td>Free</td>\n",
       "      <td>0</td>\n",
       "      <td>Everyone</td>\n",
       "      <td>4.0.3 and up</td>\n",
       "      <td>Medical</td>\n",
       "    </tr>\n",
       "    <tr>\n",
       "      <th>19</th>\n",
       "      <td>17th Edition Cable Sizer</td>\n",
       "      <td>Books And Reference</td>\n",
       "      <td>4.4</td>\n",
       "      <td>47</td>\n",
       "      <td>1.4M</td>\n",
       "      <td>1000</td>\n",
       "      <td>Paid</td>\n",
       "      <td>$3.08</td>\n",
       "      <td>Everyone</td>\n",
       "      <td>2.2 and up</td>\n",
       "      <td>Books &amp; Reference</td>\n",
       "    </tr>\n",
       "  </tbody>\n",
       "</table>\n",
       "</div>"
      ],
      "text/plain": [
       "                                                  App             Category  \\\n",
       "0                \"i DT\" Fútbol. Todos Somos Técnicos.               Sports   \n",
       "1                       +Download 4 Instagram Twitter               Social   \n",
       "2                          - Free Comics - Comic Apps               Comics   \n",
       "3                                                  .R                Tools   \n",
       "4                                              /u/app        Communication   \n",
       "5                                              058.ba   News And Magazines   \n",
       "6                                      1. FC Köln App               Sports   \n",
       "7                               10 Best Foods for You   Health And Fitness   \n",
       "8                       10 Minutes a Day Times Tables               Family   \n",
       "9      10 WPM Amateur ham radio CW Morse code trainer        Communication   \n",
       "10                         10,000 Quotes DB (Premium)  Books And Reference   \n",
       "11                               100 Doors of Revenge               Family   \n",
       "12                                    100+ C Programs               Family   \n",
       "13    100000+ Messages - DP, Status, Jokes & GIF 2018            Lifestyle   \n",
       "14                         101 C Programming Problems               Family   \n",
       "15  104 Looking for a job - looking for a job, loo...             Business   \n",
       "16                                               11st             Shopping   \n",
       "17  12 Step Meditations & Sober Prayers AA NA AL-ANON            Lifestyle   \n",
       "18                                      14thStreetVet              Medical   \n",
       "19                           17th Edition Cable Sizer  Books And Reference   \n",
       "\n",
       "    Rating Reviews  Size  Installs  Type  Price Content Rating   Android Ver  \\\n",
       "0      NaN      27  3.6M       500  Free      0       Everyone    4.1 and up   \n",
       "1      4.5   40467   22M   1000000  Free      0       Everyone    4.1 and up   \n",
       "2      3.5     115  9.1M     10000  Free      0     Mature 17+    5.0 and up   \n",
       "3      4.5     259  203k     10000  Free      0       Everyone    1.5 and up   \n",
       "4      4.7     573   53M     10000  Free      0     Mature 17+    4.1 and up   \n",
       "5      4.4      27   14M       100  Free      0       Everyone    4.2 and up   \n",
       "6      4.6    2019   41M    100000  Free      0       Everyone    4.4 and up   \n",
       "7      4.0    2490  3.8M    500000  Free      0   Everyone 10+  2.3.3 and up   \n",
       "8      4.1     681   48M    100000  Free      0       Everyone    2.2 and up   \n",
       "9      3.5      10  3.8M       100  Paid  $1.49       Everyone    2.1 and up   \n",
       "10     4.1      70  3.5M       500  Paid  $0.99       Everyone    2.1 and up   \n",
       "11     4.1  105766   48M  10000000  Free      0           Teen    4.4 and up   \n",
       "12     4.2      20  1.6M      5000  Free      0       Everyone    4.0 and up   \n",
       "13     3.7     121  3.8M     10000  Free      0     Mature 17+  4.0.3 and up   \n",
       "14     4.6     498  5.0M     50000  Free      0       Everyone  4.0.3 and up   \n",
       "15     4.4   74359   25M   1000000  Free      0       Everyone    4.0 and up   \n",
       "16     3.8   48732   20M  10000000  Free      0       Everyone    4.0 and up   \n",
       "17     4.7     759   15M     50000  Free      0   Everyone 10+    4.1 and up   \n",
       "18     NaN       0   29M         5  Free      0       Everyone  4.0.3 and up   \n",
       "19     4.4      47  1.4M      1000  Paid  $3.08       Everyone    2.2 and up   \n",
       "\n",
       "               Genres  \n",
       "0              Sports  \n",
       "1              Social  \n",
       "2              Comics  \n",
       "3               Tools  \n",
       "4       Communication  \n",
       "5    News & Magazines  \n",
       "6              Sports  \n",
       "7    Health & Fitness  \n",
       "8           Education  \n",
       "9       Communication  \n",
       "10  Books & Reference  \n",
       "11             Puzzle  \n",
       "12          Education  \n",
       "13          Lifestyle  \n",
       "14          Education  \n",
       "15           Business  \n",
       "16           Shopping  \n",
       "17          Lifestyle  \n",
       "18            Medical  \n",
       "19  Books & Reference  "
      ]
     },
     "execution_count": 216,
     "metadata": {},
     "output_type": "execute_result"
    }
   ],
   "source": [
    "# checking that the Installs column issues are solved\n",
    "google_store_clean.head(20)"
   ]
  },
  {
   "cell_type": "code",
   "execution_count": 217,
   "metadata": {},
   "outputs": [
    {
     "name": "stdout",
     "output_type": "stream",
     "text": [
      "<class 'pandas.core.frame.DataFrame'>\n",
      "RangeIndex: 10052 entries, 0 to 10051\n",
      "Data columns (total 11 columns):\n",
      "App               10052 non-null object\n",
      "Category          10052 non-null object\n",
      "Rating            8575 non-null float64\n",
      "Reviews           10052 non-null object\n",
      "Size              10052 non-null object\n",
      "Installs          10052 non-null int32\n",
      "Type              10051 non-null object\n",
      "Price             10052 non-null object\n",
      "Content Rating    10052 non-null object\n",
      "Android Ver       10050 non-null object\n",
      "Genres            10052 non-null object\n",
      "dtypes: float64(1), int32(1), object(9)\n",
      "memory usage: 824.7+ KB\n"
     ]
    }
   ],
   "source": [
    "# checking the type of Installs column\n",
    "google_store_clean.info()"
   ]
  },
  {
   "cell_type": "markdown",
   "metadata": {},
   "source": [
    "**Define**\n",
    "\n",
    "The price column has a dollar sign; it needs to be removed and then converte the column type to a float. I will use the replace function to remove the plus sign and astype to convert its value to a float."
   ]
  },
  {
   "cell_type": "markdown",
   "metadata": {},
   "source": [
    "**Code**"
   ]
  },
  {
   "cell_type": "code",
   "execution_count": 218,
   "metadata": {},
   "outputs": [],
   "source": [
    "# fixing the Price column issues \n",
    "# removing $ sign and changing the column values to float\n",
    "google_store_clean.Price = google_store_clean.Price.str.replace('$','').astype(float)"
   ]
  },
  {
   "cell_type": "markdown",
   "metadata": {},
   "source": [
    "**Test**"
   ]
  },
  {
   "cell_type": "code",
   "execution_count": 219,
   "metadata": {
    "scrolled": false
   },
   "outputs": [
    {
     "data": {
      "text/html": [
       "<div>\n",
       "<style scoped>\n",
       "    .dataframe tbody tr th:only-of-type {\n",
       "        vertical-align: middle;\n",
       "    }\n",
       "\n",
       "    .dataframe tbody tr th {\n",
       "        vertical-align: top;\n",
       "    }\n",
       "\n",
       "    .dataframe thead th {\n",
       "        text-align: right;\n",
       "    }\n",
       "</style>\n",
       "<table border=\"1\" class=\"dataframe\">\n",
       "  <thead>\n",
       "    <tr style=\"text-align: right;\">\n",
       "      <th></th>\n",
       "      <th>App</th>\n",
       "      <th>Category</th>\n",
       "      <th>Rating</th>\n",
       "      <th>Reviews</th>\n",
       "      <th>Size</th>\n",
       "      <th>Installs</th>\n",
       "      <th>Type</th>\n",
       "      <th>Price</th>\n",
       "      <th>Content Rating</th>\n",
       "      <th>Android Ver</th>\n",
       "      <th>Genres</th>\n",
       "    </tr>\n",
       "  </thead>\n",
       "  <tbody>\n",
       "    <tr>\n",
       "      <th>0</th>\n",
       "      <td>\"i DT\" Fútbol. Todos Somos Técnicos.</td>\n",
       "      <td>Sports</td>\n",
       "      <td>NaN</td>\n",
       "      <td>27</td>\n",
       "      <td>3.6M</td>\n",
       "      <td>500</td>\n",
       "      <td>Free</td>\n",
       "      <td>0.00</td>\n",
       "      <td>Everyone</td>\n",
       "      <td>4.1 and up</td>\n",
       "      <td>Sports</td>\n",
       "    </tr>\n",
       "    <tr>\n",
       "      <th>1</th>\n",
       "      <td>+Download 4 Instagram Twitter</td>\n",
       "      <td>Social</td>\n",
       "      <td>4.5</td>\n",
       "      <td>40467</td>\n",
       "      <td>22M</td>\n",
       "      <td>1000000</td>\n",
       "      <td>Free</td>\n",
       "      <td>0.00</td>\n",
       "      <td>Everyone</td>\n",
       "      <td>4.1 and up</td>\n",
       "      <td>Social</td>\n",
       "    </tr>\n",
       "    <tr>\n",
       "      <th>2</th>\n",
       "      <td>- Free Comics - Comic Apps</td>\n",
       "      <td>Comics</td>\n",
       "      <td>3.5</td>\n",
       "      <td>115</td>\n",
       "      <td>9.1M</td>\n",
       "      <td>10000</td>\n",
       "      <td>Free</td>\n",
       "      <td>0.00</td>\n",
       "      <td>Mature 17+</td>\n",
       "      <td>5.0 and up</td>\n",
       "      <td>Comics</td>\n",
       "    </tr>\n",
       "    <tr>\n",
       "      <th>3</th>\n",
       "      <td>.R</td>\n",
       "      <td>Tools</td>\n",
       "      <td>4.5</td>\n",
       "      <td>259</td>\n",
       "      <td>203k</td>\n",
       "      <td>10000</td>\n",
       "      <td>Free</td>\n",
       "      <td>0.00</td>\n",
       "      <td>Everyone</td>\n",
       "      <td>1.5 and up</td>\n",
       "      <td>Tools</td>\n",
       "    </tr>\n",
       "    <tr>\n",
       "      <th>4</th>\n",
       "      <td>/u/app</td>\n",
       "      <td>Communication</td>\n",
       "      <td>4.7</td>\n",
       "      <td>573</td>\n",
       "      <td>53M</td>\n",
       "      <td>10000</td>\n",
       "      <td>Free</td>\n",
       "      <td>0.00</td>\n",
       "      <td>Mature 17+</td>\n",
       "      <td>4.1 and up</td>\n",
       "      <td>Communication</td>\n",
       "    </tr>\n",
       "    <tr>\n",
       "      <th>5</th>\n",
       "      <td>058.ba</td>\n",
       "      <td>News And Magazines</td>\n",
       "      <td>4.4</td>\n",
       "      <td>27</td>\n",
       "      <td>14M</td>\n",
       "      <td>100</td>\n",
       "      <td>Free</td>\n",
       "      <td>0.00</td>\n",
       "      <td>Everyone</td>\n",
       "      <td>4.2 and up</td>\n",
       "      <td>News &amp; Magazines</td>\n",
       "    </tr>\n",
       "    <tr>\n",
       "      <th>6</th>\n",
       "      <td>1. FC Köln App</td>\n",
       "      <td>Sports</td>\n",
       "      <td>4.6</td>\n",
       "      <td>2019</td>\n",
       "      <td>41M</td>\n",
       "      <td>100000</td>\n",
       "      <td>Free</td>\n",
       "      <td>0.00</td>\n",
       "      <td>Everyone</td>\n",
       "      <td>4.4 and up</td>\n",
       "      <td>Sports</td>\n",
       "    </tr>\n",
       "    <tr>\n",
       "      <th>7</th>\n",
       "      <td>10 Best Foods for You</td>\n",
       "      <td>Health And Fitness</td>\n",
       "      <td>4.0</td>\n",
       "      <td>2490</td>\n",
       "      <td>3.8M</td>\n",
       "      <td>500000</td>\n",
       "      <td>Free</td>\n",
       "      <td>0.00</td>\n",
       "      <td>Everyone 10+</td>\n",
       "      <td>2.3.3 and up</td>\n",
       "      <td>Health &amp; Fitness</td>\n",
       "    </tr>\n",
       "    <tr>\n",
       "      <th>8</th>\n",
       "      <td>10 Minutes a Day Times Tables</td>\n",
       "      <td>Family</td>\n",
       "      <td>4.1</td>\n",
       "      <td>681</td>\n",
       "      <td>48M</td>\n",
       "      <td>100000</td>\n",
       "      <td>Free</td>\n",
       "      <td>0.00</td>\n",
       "      <td>Everyone</td>\n",
       "      <td>2.2 and up</td>\n",
       "      <td>Education</td>\n",
       "    </tr>\n",
       "    <tr>\n",
       "      <th>9</th>\n",
       "      <td>10 WPM Amateur ham radio CW Morse code trainer</td>\n",
       "      <td>Communication</td>\n",
       "      <td>3.5</td>\n",
       "      <td>10</td>\n",
       "      <td>3.8M</td>\n",
       "      <td>100</td>\n",
       "      <td>Paid</td>\n",
       "      <td>1.49</td>\n",
       "      <td>Everyone</td>\n",
       "      <td>2.1 and up</td>\n",
       "      <td>Communication</td>\n",
       "    </tr>\n",
       "    <tr>\n",
       "      <th>10</th>\n",
       "      <td>10,000 Quotes DB (Premium)</td>\n",
       "      <td>Books And Reference</td>\n",
       "      <td>4.1</td>\n",
       "      <td>70</td>\n",
       "      <td>3.5M</td>\n",
       "      <td>500</td>\n",
       "      <td>Paid</td>\n",
       "      <td>0.99</td>\n",
       "      <td>Everyone</td>\n",
       "      <td>2.1 and up</td>\n",
       "      <td>Books &amp; Reference</td>\n",
       "    </tr>\n",
       "    <tr>\n",
       "      <th>11</th>\n",
       "      <td>100 Doors of Revenge</td>\n",
       "      <td>Family</td>\n",
       "      <td>4.1</td>\n",
       "      <td>105766</td>\n",
       "      <td>48M</td>\n",
       "      <td>10000000</td>\n",
       "      <td>Free</td>\n",
       "      <td>0.00</td>\n",
       "      <td>Teen</td>\n",
       "      <td>4.4 and up</td>\n",
       "      <td>Puzzle</td>\n",
       "    </tr>\n",
       "    <tr>\n",
       "      <th>12</th>\n",
       "      <td>100+ C Programs</td>\n",
       "      <td>Family</td>\n",
       "      <td>4.2</td>\n",
       "      <td>20</td>\n",
       "      <td>1.6M</td>\n",
       "      <td>5000</td>\n",
       "      <td>Free</td>\n",
       "      <td>0.00</td>\n",
       "      <td>Everyone</td>\n",
       "      <td>4.0 and up</td>\n",
       "      <td>Education</td>\n",
       "    </tr>\n",
       "    <tr>\n",
       "      <th>13</th>\n",
       "      <td>100000+ Messages - DP, Status, Jokes &amp; GIF 2018</td>\n",
       "      <td>Lifestyle</td>\n",
       "      <td>3.7</td>\n",
       "      <td>121</td>\n",
       "      <td>3.8M</td>\n",
       "      <td>10000</td>\n",
       "      <td>Free</td>\n",
       "      <td>0.00</td>\n",
       "      <td>Mature 17+</td>\n",
       "      <td>4.0.3 and up</td>\n",
       "      <td>Lifestyle</td>\n",
       "    </tr>\n",
       "    <tr>\n",
       "      <th>14</th>\n",
       "      <td>101 C Programming Problems</td>\n",
       "      <td>Family</td>\n",
       "      <td>4.6</td>\n",
       "      <td>498</td>\n",
       "      <td>5.0M</td>\n",
       "      <td>50000</td>\n",
       "      <td>Free</td>\n",
       "      <td>0.00</td>\n",
       "      <td>Everyone</td>\n",
       "      <td>4.0.3 and up</td>\n",
       "      <td>Education</td>\n",
       "    </tr>\n",
       "    <tr>\n",
       "      <th>15</th>\n",
       "      <td>104 Looking for a job - looking for a job, loo...</td>\n",
       "      <td>Business</td>\n",
       "      <td>4.4</td>\n",
       "      <td>74359</td>\n",
       "      <td>25M</td>\n",
       "      <td>1000000</td>\n",
       "      <td>Free</td>\n",
       "      <td>0.00</td>\n",
       "      <td>Everyone</td>\n",
       "      <td>4.0 and up</td>\n",
       "      <td>Business</td>\n",
       "    </tr>\n",
       "    <tr>\n",
       "      <th>16</th>\n",
       "      <td>11st</td>\n",
       "      <td>Shopping</td>\n",
       "      <td>3.8</td>\n",
       "      <td>48732</td>\n",
       "      <td>20M</td>\n",
       "      <td>10000000</td>\n",
       "      <td>Free</td>\n",
       "      <td>0.00</td>\n",
       "      <td>Everyone</td>\n",
       "      <td>4.0 and up</td>\n",
       "      <td>Shopping</td>\n",
       "    </tr>\n",
       "    <tr>\n",
       "      <th>17</th>\n",
       "      <td>12 Step Meditations &amp; Sober Prayers AA NA AL-ANON</td>\n",
       "      <td>Lifestyle</td>\n",
       "      <td>4.7</td>\n",
       "      <td>759</td>\n",
       "      <td>15M</td>\n",
       "      <td>50000</td>\n",
       "      <td>Free</td>\n",
       "      <td>0.00</td>\n",
       "      <td>Everyone 10+</td>\n",
       "      <td>4.1 and up</td>\n",
       "      <td>Lifestyle</td>\n",
       "    </tr>\n",
       "    <tr>\n",
       "      <th>18</th>\n",
       "      <td>14thStreetVet</td>\n",
       "      <td>Medical</td>\n",
       "      <td>NaN</td>\n",
       "      <td>0</td>\n",
       "      <td>29M</td>\n",
       "      <td>5</td>\n",
       "      <td>Free</td>\n",
       "      <td>0.00</td>\n",
       "      <td>Everyone</td>\n",
       "      <td>4.0.3 and up</td>\n",
       "      <td>Medical</td>\n",
       "    </tr>\n",
       "    <tr>\n",
       "      <th>19</th>\n",
       "      <td>17th Edition Cable Sizer</td>\n",
       "      <td>Books And Reference</td>\n",
       "      <td>4.4</td>\n",
       "      <td>47</td>\n",
       "      <td>1.4M</td>\n",
       "      <td>1000</td>\n",
       "      <td>Paid</td>\n",
       "      <td>3.08</td>\n",
       "      <td>Everyone</td>\n",
       "      <td>2.2 and up</td>\n",
       "      <td>Books &amp; Reference</td>\n",
       "    </tr>\n",
       "  </tbody>\n",
       "</table>\n",
       "</div>"
      ],
      "text/plain": [
       "                                                  App             Category  \\\n",
       "0                \"i DT\" Fútbol. Todos Somos Técnicos.               Sports   \n",
       "1                       +Download 4 Instagram Twitter               Social   \n",
       "2                          - Free Comics - Comic Apps               Comics   \n",
       "3                                                  .R                Tools   \n",
       "4                                              /u/app        Communication   \n",
       "5                                              058.ba   News And Magazines   \n",
       "6                                      1. FC Köln App               Sports   \n",
       "7                               10 Best Foods for You   Health And Fitness   \n",
       "8                       10 Minutes a Day Times Tables               Family   \n",
       "9      10 WPM Amateur ham radio CW Morse code trainer        Communication   \n",
       "10                         10,000 Quotes DB (Premium)  Books And Reference   \n",
       "11                               100 Doors of Revenge               Family   \n",
       "12                                    100+ C Programs               Family   \n",
       "13    100000+ Messages - DP, Status, Jokes & GIF 2018            Lifestyle   \n",
       "14                         101 C Programming Problems               Family   \n",
       "15  104 Looking for a job - looking for a job, loo...             Business   \n",
       "16                                               11st             Shopping   \n",
       "17  12 Step Meditations & Sober Prayers AA NA AL-ANON            Lifestyle   \n",
       "18                                      14thStreetVet              Medical   \n",
       "19                           17th Edition Cable Sizer  Books And Reference   \n",
       "\n",
       "    Rating Reviews  Size  Installs  Type  Price Content Rating   Android Ver  \\\n",
       "0      NaN      27  3.6M       500  Free   0.00       Everyone    4.1 and up   \n",
       "1      4.5   40467   22M   1000000  Free   0.00       Everyone    4.1 and up   \n",
       "2      3.5     115  9.1M     10000  Free   0.00     Mature 17+    5.0 and up   \n",
       "3      4.5     259  203k     10000  Free   0.00       Everyone    1.5 and up   \n",
       "4      4.7     573   53M     10000  Free   0.00     Mature 17+    4.1 and up   \n",
       "5      4.4      27   14M       100  Free   0.00       Everyone    4.2 and up   \n",
       "6      4.6    2019   41M    100000  Free   0.00       Everyone    4.4 and up   \n",
       "7      4.0    2490  3.8M    500000  Free   0.00   Everyone 10+  2.3.3 and up   \n",
       "8      4.1     681   48M    100000  Free   0.00       Everyone    2.2 and up   \n",
       "9      3.5      10  3.8M       100  Paid   1.49       Everyone    2.1 and up   \n",
       "10     4.1      70  3.5M       500  Paid   0.99       Everyone    2.1 and up   \n",
       "11     4.1  105766   48M  10000000  Free   0.00           Teen    4.4 and up   \n",
       "12     4.2      20  1.6M      5000  Free   0.00       Everyone    4.0 and up   \n",
       "13     3.7     121  3.8M     10000  Free   0.00     Mature 17+  4.0.3 and up   \n",
       "14     4.6     498  5.0M     50000  Free   0.00       Everyone  4.0.3 and up   \n",
       "15     4.4   74359   25M   1000000  Free   0.00       Everyone    4.0 and up   \n",
       "16     3.8   48732   20M  10000000  Free   0.00       Everyone    4.0 and up   \n",
       "17     4.7     759   15M     50000  Free   0.00   Everyone 10+    4.1 and up   \n",
       "18     NaN       0   29M         5  Free   0.00       Everyone  4.0.3 and up   \n",
       "19     4.4      47  1.4M      1000  Paid   3.08       Everyone    2.2 and up   \n",
       "\n",
       "               Genres  \n",
       "0              Sports  \n",
       "1              Social  \n",
       "2              Comics  \n",
       "3               Tools  \n",
       "4       Communication  \n",
       "5    News & Magazines  \n",
       "6              Sports  \n",
       "7    Health & Fitness  \n",
       "8           Education  \n",
       "9       Communication  \n",
       "10  Books & Reference  \n",
       "11             Puzzle  \n",
       "12          Education  \n",
       "13          Lifestyle  \n",
       "14          Education  \n",
       "15           Business  \n",
       "16           Shopping  \n",
       "17          Lifestyle  \n",
       "18            Medical  \n",
       "19  Books & Reference  "
      ]
     },
     "execution_count": 219,
     "metadata": {},
     "output_type": "execute_result"
    }
   ],
   "source": [
    "# checking that the Price column issues are solved\n",
    "google_store_clean.head(20)"
   ]
  },
  {
   "cell_type": "code",
   "execution_count": 220,
   "metadata": {},
   "outputs": [
    {
     "name": "stdout",
     "output_type": "stream",
     "text": [
      "<class 'pandas.core.frame.DataFrame'>\n",
      "RangeIndex: 10052 entries, 0 to 10051\n",
      "Data columns (total 11 columns):\n",
      "App               10052 non-null object\n",
      "Category          10052 non-null object\n",
      "Rating            8575 non-null float64\n",
      "Reviews           10052 non-null object\n",
      "Size              10052 non-null object\n",
      "Installs          10052 non-null int32\n",
      "Type              10051 non-null object\n",
      "Price             10052 non-null float64\n",
      "Content Rating    10052 non-null object\n",
      "Android Ver       10050 non-null object\n",
      "Genres            10052 non-null object\n",
      "dtypes: float64(2), int32(1), object(8)\n",
      "memory usage: 824.7+ KB\n"
     ]
    }
   ],
   "source": [
    "# checking the price column type \n",
    "google_store_clean.info()"
   ]
  },
  {
   "cell_type": "markdown",
   "metadata": {},
   "source": [
    "**Define**\n",
    "\n",
    "The Reviews column is an object while it should be an int. I will use the astype function to convert it to an int."
   ]
  },
  {
   "cell_type": "markdown",
   "metadata": {},
   "source": [
    "**Code**"
   ]
  },
  {
   "cell_type": "code",
   "execution_count": 221,
   "metadata": {},
   "outputs": [],
   "source": [
    "# fixing the Reviews column issues \n",
    "# converting Reviews Column to an int\n",
    "google_store_clean.Reviews = google_store_clean.Reviews.astype(int)"
   ]
  },
  {
   "cell_type": "markdown",
   "metadata": {},
   "source": [
    "**Test**"
   ]
  },
  {
   "cell_type": "code",
   "execution_count": 222,
   "metadata": {
    "scrolled": false
   },
   "outputs": [
    {
     "name": "stdout",
     "output_type": "stream",
     "text": [
      "<class 'pandas.core.frame.DataFrame'>\n",
      "RangeIndex: 10052 entries, 0 to 10051\n",
      "Data columns (total 11 columns):\n",
      "App               10052 non-null object\n",
      "Category          10052 non-null object\n",
      "Rating            8575 non-null float64\n",
      "Reviews           10052 non-null int32\n",
      "Size              10052 non-null object\n",
      "Installs          10052 non-null int32\n",
      "Type              10051 non-null object\n",
      "Price             10052 non-null float64\n",
      "Content Rating    10052 non-null object\n",
      "Android Ver       10050 non-null object\n",
      "Genres            10052 non-null object\n",
      "dtypes: float64(2), int32(2), object(7)\n",
      "memory usage: 785.4+ KB\n"
     ]
    }
   ],
   "source": [
    "# checking that Reviews column is converted to the correct data type\n",
    "google_store_clean.info()"
   ]
  },
  {
   "cell_type": "code",
   "execution_count": 223,
   "metadata": {},
   "outputs": [],
   "source": [
    "# creating a new file for the cleaned data set\n",
    "with open('google_store_clean.csv', 'w', encoding = 'UTF-8') as file:\n",
    "     \n",
    "    google_store_clean.to_csv(file, index = False)"
   ]
  },
  {
   "cell_type": "markdown",
   "metadata": {},
   "source": [
    "### Data Analysis and Visualizations\n",
    "\n",
    "In the last part of this project, I will make sense of all the data that was previously gathered, assessed and cleaned using the graphs and figures by the help of matplotlib and seaborn library."
   ]
  },
  {
   "cell_type": "code",
   "execution_count": 6,
   "metadata": {},
   "outputs": [],
   "source": [
    "# reading clean data set first\n",
    "google_store_clean = pd.read_csv('google_store_clean.csv')"
   ]
  },
  {
   "cell_type": "markdown",
   "metadata": {},
   "source": [
    "#### What are the top 10 categories for Android mobile applications currently ?"
   ]
  },
  {
   "cell_type": "code",
   "execution_count": 225,
   "metadata": {},
   "outputs": [
    {
     "data": {
      "text/plain": [
       "Text(0.5, 1.0, 'Number of Apps Under Each Category')"
      ]
     },
     "execution_count": 225,
     "metadata": {},
     "output_type": "execute_result"
    },
    {
     "data": {
      "image/png": "[encoded data removed]",
      "text/plain": [
       "<Figure size 648x648 with 1 Axes>"
      ]
     },
     "metadata": {
      "needs_background": "light"
     },
     "output_type": "display_data"
    }
   ],
   "source": [
    "# checking the number of each app category\n",
    "app_cats = google_store_clean.groupby('Category')['App'].count().sort_values()\n",
    "fig, ax = plt.subplots(figsize=(9,9))\n",
    "app_cats.plot(ax=ax,kind=\"barh\",colormap='summer')\n",
    "ax.set_xlabel('Apps Categories')\n",
    "ax.set_ylabel('Number of Apps Under Each Category')\n",
    "ax.set_title('Number of Apps Under Each Category')"
   ]
  },
  {
   "cell_type": "markdown",
   "metadata": {},
   "source": [
    "The top 10 categories for Android mobile applications currently are :\n",
    "\n",
    "1. Family. \n",
    "2. Game. \n",
    "3. Tools. \n",
    "4. Business.\n",
    "5. Medical.\n",
    "6. Personalization. \n",
    "7. Productivity.\n",
    "8. Lifestyle.\n",
    "9. Finance.\n",
    "10. Sports. "
   ]
  },
  {
   "cell_type": "markdown",
   "metadata": {},
   "source": [
    "#### What is the average rating for each Android App category ?"
   ]
  },
  {
   "cell_type": "code",
   "execution_count": 226,
   "metadata": {
    "scrolled": false
   },
   "outputs": [
    {
     "data": {
      "text/plain": [
       "Category\n",
       "Dating                 3.970149\n",
       "Maps And Navigation    4.036441\n",
       "Tools                  4.040195\n",
       "Video Players          4.044295\n",
       "Travel And Local       4.069681\n",
       "Lifestyle              4.093046\n",
       "Business               4.098479\n",
       "Finance                4.115563\n",
       "Communication          4.121484\n",
       "News And Magazines     4.121569\n",
       "Entertainment          4.142857\n",
       "House And Home         4.150000\n",
       "Photography            4.157414\n",
       "Medical                4.166552\n",
       "Food And Drink         4.172340\n",
       "Libraries And Demo     4.178125\n",
       "Productivity           4.183389\n",
       "Auto And Vehicles      4.190411\n",
       "Comics                 4.192727\n",
       "Family                 4.195223\n",
       "Sports                 4.216154\n",
       "Shopping               4.230000\n",
       "Health And Fitness     4.243033\n",
       "Weather                4.243056\n",
       "Social                 4.247291\n",
       "Game                   4.249024\n",
       "Parenting              4.273333\n",
       "Beauty                 4.278571\n",
       "Personalization        4.332215\n",
       "Books And Reference    4.344970\n",
       "Art And Design         4.356716\n",
       "Education              4.378986\n",
       "Events                 4.435556\n",
       "Name: Rating, dtype: float64"
      ]
     },
     "execution_count": 226,
     "metadata": {},
     "output_type": "execute_result"
    }
   ],
   "source": [
    "# finding the average rating for each Android app category \n",
    "google_store_clean.groupby('Category')['Rating'].mean().sort_values()"
   ]
  },
  {
   "cell_type": "markdown",
   "metadata": {},
   "source": [
    "It can be concluded that the average rating for each Android app category is somehow similar to the other apps under different categories. However, the Dating Apps got the lowest average rating with a score of 3.97. This could be an opportunity for developers to develop a better featured dating apps."
   ]
  },
  {
   "cell_type": "markdown",
   "metadata": {},
   "source": [
    "#### What are the top ten apps under each category ?"
   ]
  },
  {
   "cell_type": "code",
   "execution_count": 227,
   "metadata": {
    "scrolled": true
   },
   "outputs": [
    {
     "data": {
      "text/plain": [
       "array(['Sports', 'Social', 'Comics', 'Tools', 'Communication',\n",
       "       'News And Magazines', 'Health And Fitness', 'Family',\n",
       "       'Books And Reference', 'Lifestyle', 'Business', 'Shopping',\n",
       "       'Medical', 'Game', 'Finance', 'Personalization', 'Photography',\n",
       "       'Travel And Local', 'Dating', 'Productivity', 'Art And Design',\n",
       "       'Food And Drink', 'Video Players', 'House And Home',\n",
       "       'Maps And Navigation', 'Entertainment', 'Events', 'Education',\n",
       "       'Auto And Vehicles', 'Weather', 'Beauty', 'Libraries And Demo',\n",
       "       'Parenting'], dtype=object)"
      ]
     },
     "execution_count": 227,
     "metadata": {},
     "output_type": "execute_result"
    }
   ],
   "source": [
    "# list of apps categories\n",
    "google_store_clean.Category.unique()"
   ]
  },
  {
   "cell_type": "code",
   "execution_count": 25,
   "metadata": {
    "scrolled": false
   },
   "outputs": [
    {
     "data": {
      "text/html": [
       "<div>\n",
       "<style scoped>\n",
       "    .dataframe tbody tr th:only-of-type {\n",
       "        vertical-align: middle;\n",
       "    }\n",
       "\n",
       "    .dataframe tbody tr th {\n",
       "        vertical-align: top;\n",
       "    }\n",
       "\n",
       "    .dataframe thead th {\n",
       "        text-align: right;\n",
       "    }\n",
       "</style>\n",
       "<table border=\"1\" class=\"dataframe\">\n",
       "  <thead>\n",
       "    <tr style=\"text-align: right;\">\n",
       "      <th></th>\n",
       "      <th>App</th>\n",
       "      <th>Category</th>\n",
       "      <th>Rating</th>\n",
       "      <th>Reviews</th>\n",
       "      <th>Size</th>\n",
       "      <th>Installs</th>\n",
       "      <th>Type</th>\n",
       "      <th>Price</th>\n",
       "      <th>Content Rating</th>\n",
       "      <th>Android Ver</th>\n",
       "      <th>Genres</th>\n",
       "    </tr>\n",
       "  </thead>\n",
       "  <tbody>\n",
       "    <tr>\n",
       "      <th>4572</th>\n",
       "      <td>File Manager by Xiaomi: release file storage s...</td>\n",
       "      <td>Tools</td>\n",
       "      <td>4.8</td>\n",
       "      <td>337532</td>\n",
       "      <td>15M</td>\n",
       "      <td>10000000</td>\n",
       "      <td>Free</td>\n",
       "      <td>0.00</td>\n",
       "      <td>Everyone</td>\n",
       "      <td>4.4 and up</td>\n",
       "      <td>Tools</td>\n",
       "    </tr>\n",
       "    <tr>\n",
       "      <th>2359</th>\n",
       "      <td>Calculator with Percent (Free)</td>\n",
       "      <td>Tools</td>\n",
       "      <td>4.8</td>\n",
       "      <td>48211</td>\n",
       "      <td>7.4M</td>\n",
       "      <td>1000000</td>\n",
       "      <td>Free</td>\n",
       "      <td>0.00</td>\n",
       "      <td>Everyone</td>\n",
       "      <td>4.1 and up</td>\n",
       "      <td>Tools</td>\n",
       "    </tr>\n",
       "    <tr>\n",
       "      <th>2360</th>\n",
       "      <td>Calcy IV</td>\n",
       "      <td>Tools</td>\n",
       "      <td>4.8</td>\n",
       "      <td>36557</td>\n",
       "      <td>14M</td>\n",
       "      <td>1000000</td>\n",
       "      <td>Free</td>\n",
       "      <td>0.00</td>\n",
       "      <td>Everyone</td>\n",
       "      <td>5.0 and up</td>\n",
       "      <td>Tools</td>\n",
       "    </tr>\n",
       "    <tr>\n",
       "      <th>5684</th>\n",
       "      <td>K keyboard - Myanmar</td>\n",
       "      <td>Tools</td>\n",
       "      <td>4.8</td>\n",
       "      <td>1955</td>\n",
       "      <td>14M</td>\n",
       "      <td>100000</td>\n",
       "      <td>Free</td>\n",
       "      <td>0.00</td>\n",
       "      <td>Everyone</td>\n",
       "      <td>4.1 and up</td>\n",
       "      <td>Tools</td>\n",
       "    </tr>\n",
       "    <tr>\n",
       "      <th>5729</th>\n",
       "      <td>Kernel Manager for Franco Kernel ✨</td>\n",
       "      <td>Tools</td>\n",
       "      <td>4.8</td>\n",
       "      <td>12700</td>\n",
       "      <td>10M</td>\n",
       "      <td>100000</td>\n",
       "      <td>Paid</td>\n",
       "      <td>3.49</td>\n",
       "      <td>Everyone</td>\n",
       "      <td>5.0 and up</td>\n",
       "      <td>Tools</td>\n",
       "    </tr>\n",
       "    <tr>\n",
       "      <th>4343</th>\n",
       "      <td>FK Crvena Zvezda Izzy</td>\n",
       "      <td>Tools</td>\n",
       "      <td>4.8</td>\n",
       "      <td>1456</td>\n",
       "      <td>15M</td>\n",
       "      <td>50000</td>\n",
       "      <td>Free</td>\n",
       "      <td>0.00</td>\n",
       "      <td>Everyone</td>\n",
       "      <td>4.4 and up</td>\n",
       "      <td>Tools</td>\n",
       "    </tr>\n",
       "    <tr>\n",
       "      <th>9640</th>\n",
       "      <td>ZArchiver Donate</td>\n",
       "      <td>Tools</td>\n",
       "      <td>4.8</td>\n",
       "      <td>1721</td>\n",
       "      <td>Varies with device</td>\n",
       "      <td>10000</td>\n",
       "      <td>Paid</td>\n",
       "      <td>2.50</td>\n",
       "      <td>Everyone</td>\n",
       "      <td>Varies with device</td>\n",
       "      <td>Tools</td>\n",
       "    </tr>\n",
       "    <tr>\n",
       "      <th>2647</th>\n",
       "      <td>Clean Master- Space Cleaner &amp; Antivirus</td>\n",
       "      <td>Tools</td>\n",
       "      <td>4.7</td>\n",
       "      <td>42916526</td>\n",
       "      <td>Varies with device</td>\n",
       "      <td>500000000</td>\n",
       "      <td>Free</td>\n",
       "      <td>0.00</td>\n",
       "      <td>Everyone</td>\n",
       "      <td>Varies with device</td>\n",
       "      <td>Tools</td>\n",
       "    </tr>\n",
       "    <tr>\n",
       "      <th>8037</th>\n",
       "      <td>Security Master - Antivirus, VPN, AppLock, Boo...</td>\n",
       "      <td>Tools</td>\n",
       "      <td>4.7</td>\n",
       "      <td>24900999</td>\n",
       "      <td>Varies with device</td>\n",
       "      <td>500000000</td>\n",
       "      <td>Free</td>\n",
       "      <td>0.00</td>\n",
       "      <td>Everyone</td>\n",
       "      <td>Varies with device</td>\n",
       "      <td>Tools</td>\n",
       "    </tr>\n",
       "    <tr>\n",
       "      <th>1815</th>\n",
       "      <td>Brightest Flashlight Free ®</td>\n",
       "      <td>Tools</td>\n",
       "      <td>4.7</td>\n",
       "      <td>1335799</td>\n",
       "      <td>3.8M</td>\n",
       "      <td>50000000</td>\n",
       "      <td>Free</td>\n",
       "      <td>0.00</td>\n",
       "      <td>Everyone</td>\n",
       "      <td>4.2 and up</td>\n",
       "      <td>Tools</td>\n",
       "    </tr>\n",
       "    <tr>\n",
       "      <th>5714</th>\n",
       "      <td>Kaspersky Mobile Antivirus: AppLock &amp; Web Secu...</td>\n",
       "      <td>Tools</td>\n",
       "      <td>4.7</td>\n",
       "      <td>2598579</td>\n",
       "      <td>49M</td>\n",
       "      <td>50000000</td>\n",
       "      <td>Free</td>\n",
       "      <td>0.00</td>\n",
       "      <td>Everyone</td>\n",
       "      <td>4.1 and up</td>\n",
       "      <td>Tools</td>\n",
       "    </tr>\n",
       "    <tr>\n",
       "      <th>4641</th>\n",
       "      <td>Flashlight</td>\n",
       "      <td>Tools</td>\n",
       "      <td>4.7</td>\n",
       "      <td>115409</td>\n",
       "      <td>Varies with device</td>\n",
       "      <td>10000000</td>\n",
       "      <td>Free</td>\n",
       "      <td>0.00</td>\n",
       "      <td>Everyone</td>\n",
       "      <td>Varies with device</td>\n",
       "      <td>Tools</td>\n",
       "    </tr>\n",
       "    <tr>\n",
       "      <th>4914</th>\n",
       "      <td>GO Security－AntiVirus, AppLock, Booster</td>\n",
       "      <td>Tools</td>\n",
       "      <td>4.7</td>\n",
       "      <td>1251479</td>\n",
       "      <td>Varies with device</td>\n",
       "      <td>10000000</td>\n",
       "      <td>Free</td>\n",
       "      <td>0.00</td>\n",
       "      <td>Everyone</td>\n",
       "      <td>Varies with device</td>\n",
       "      <td>Tools</td>\n",
       "    </tr>\n",
       "    <tr>\n",
       "      <th>8261</th>\n",
       "      <td>Sound Meter</td>\n",
       "      <td>Tools</td>\n",
       "      <td>4.7</td>\n",
       "      <td>88993</td>\n",
       "      <td>1.5M</td>\n",
       "      <td>10000000</td>\n",
       "      <td>Free</td>\n",
       "      <td>0.00</td>\n",
       "      <td>Everyone</td>\n",
       "      <td>2.3 and up</td>\n",
       "      <td>Tools</td>\n",
       "    </tr>\n",
       "    <tr>\n",
       "      <th>1939</th>\n",
       "      <td>CALCU™ Stylish Calculator Free</td>\n",
       "      <td>Tools</td>\n",
       "      <td>4.7</td>\n",
       "      <td>152692</td>\n",
       "      <td>11M</td>\n",
       "      <td>5000000</td>\n",
       "      <td>Free</td>\n",
       "      <td>0.00</td>\n",
       "      <td>Everyone</td>\n",
       "      <td>4.1 and up</td>\n",
       "      <td>Tools</td>\n",
       "    </tr>\n",
       "    <tr>\n",
       "      <th>5538</th>\n",
       "      <td>Inf VPN - Global Proxy &amp; Unlimited Free WIFI VPN</td>\n",
       "      <td>Tools</td>\n",
       "      <td>4.7</td>\n",
       "      <td>61445</td>\n",
       "      <td>7.8M</td>\n",
       "      <td>1000000</td>\n",
       "      <td>Free</td>\n",
       "      <td>0.00</td>\n",
       "      <td>Everyone</td>\n",
       "      <td>4.1 and up</td>\n",
       "      <td>Tools</td>\n",
       "    </tr>\n",
       "    <tr>\n",
       "      <th>7367</th>\n",
       "      <td>Poke Genie - Safe IV Calculator</td>\n",
       "      <td>Tools</td>\n",
       "      <td>4.7</td>\n",
       "      <td>92958</td>\n",
       "      <td>36M</td>\n",
       "      <td>1000000</td>\n",
       "      <td>Free</td>\n",
       "      <td>0.00</td>\n",
       "      <td>Everyone</td>\n",
       "      <td>5.0 and up</td>\n",
       "      <td>Tools</td>\n",
       "    </tr>\n",
       "    <tr>\n",
       "      <th>8287</th>\n",
       "      <td>Speed Booster - Ram, Battery &amp; Game Speed Booster</td>\n",
       "      <td>Tools</td>\n",
       "      <td>4.7</td>\n",
       "      <td>85079</td>\n",
       "      <td>2.8M</td>\n",
       "      <td>1000000</td>\n",
       "      <td>Free</td>\n",
       "      <td>0.00</td>\n",
       "      <td>Everyone</td>\n",
       "      <td>2.3 and up</td>\n",
       "      <td>Tools</td>\n",
       "    </tr>\n",
       "    <tr>\n",
       "      <th>8768</th>\n",
       "      <td>The Zueira's Voice</td>\n",
       "      <td>Tools</td>\n",
       "      <td>4.7</td>\n",
       "      <td>136540</td>\n",
       "      <td>3.1M</td>\n",
       "      <td>1000000</td>\n",
       "      <td>Free</td>\n",
       "      <td>0.00</td>\n",
       "      <td>Everyone</td>\n",
       "      <td>4.0.3 and up</td>\n",
       "      <td>Tools</td>\n",
       "    </tr>\n",
       "    <tr>\n",
       "      <th>8890</th>\n",
       "      <td>TorrDroid - Torrent Downloader</td>\n",
       "      <td>Tools</td>\n",
       "      <td>4.7</td>\n",
       "      <td>59632</td>\n",
       "      <td>10M</td>\n",
       "      <td>1000000</td>\n",
       "      <td>Free</td>\n",
       "      <td>0.00</td>\n",
       "      <td>Everyone</td>\n",
       "      <td>4.1 and up</td>\n",
       "      <td>Tools</td>\n",
       "    </tr>\n",
       "    <tr>\n",
       "      <th>9892</th>\n",
       "      <td>iSwipe Phone X</td>\n",
       "      <td>Tools</td>\n",
       "      <td>4.7</td>\n",
       "      <td>58366</td>\n",
       "      <td>6.3M</td>\n",
       "      <td>1000000</td>\n",
       "      <td>Free</td>\n",
       "      <td>0.00</td>\n",
       "      <td>Everyone</td>\n",
       "      <td>4.1 and up</td>\n",
       "      <td>Tools</td>\n",
       "    </tr>\n",
       "    <tr>\n",
       "      <th>9098</th>\n",
       "      <td>UniFi</td>\n",
       "      <td>Tools</td>\n",
       "      <td>4.7</td>\n",
       "      <td>11018</td>\n",
       "      <td>25M</td>\n",
       "      <td>500000</td>\n",
       "      <td>Free</td>\n",
       "      <td>0.00</td>\n",
       "      <td>Everyone</td>\n",
       "      <td>4.1 and up</td>\n",
       "      <td>Tools</td>\n",
       "    </tr>\n",
       "    <tr>\n",
       "      <th>9420</th>\n",
       "      <td>WhatsVPN - Unlimited Free VPN</td>\n",
       "      <td>Tools</td>\n",
       "      <td>4.7</td>\n",
       "      <td>24985</td>\n",
       "      <td>7.8M</td>\n",
       "      <td>500000</td>\n",
       "      <td>Free</td>\n",
       "      <td>0.00</td>\n",
       "      <td>Everyone</td>\n",
       "      <td>4.1 and up</td>\n",
       "      <td>Tools</td>\n",
       "    </tr>\n",
       "    <tr>\n",
       "      <th>1496</th>\n",
       "      <td>Battery HD Pro</td>\n",
       "      <td>Tools</td>\n",
       "      <td>4.7</td>\n",
       "      <td>17861</td>\n",
       "      <td>Varies with device</td>\n",
       "      <td>100000</td>\n",
       "      <td>Paid</td>\n",
       "      <td>3.99</td>\n",
       "      <td>Everyone</td>\n",
       "      <td>Varies with device</td>\n",
       "      <td>Tools</td>\n",
       "    </tr>\n",
       "    <tr>\n",
       "      <th>1882</th>\n",
       "      <td>BusyBox Pro</td>\n",
       "      <td>Tools</td>\n",
       "      <td>4.7</td>\n",
       "      <td>8114</td>\n",
       "      <td>Varies with device</td>\n",
       "      <td>100000</td>\n",
       "      <td>Paid</td>\n",
       "      <td>2.49</td>\n",
       "      <td>Everyone</td>\n",
       "      <td>Varies with device</td>\n",
       "      <td>Tools</td>\n",
       "    </tr>\n",
       "    <tr>\n",
       "      <th>532</th>\n",
       "      <td>Advanced Download Manager Pro</td>\n",
       "      <td>Tools</td>\n",
       "      <td>4.7</td>\n",
       "      <td>6505</td>\n",
       "      <td>2.0M</td>\n",
       "      <td>50000</td>\n",
       "      <td>Paid</td>\n",
       "      <td>2.99</td>\n",
       "      <td>Everyone</td>\n",
       "      <td>4.0 and up</td>\n",
       "      <td>Tools</td>\n",
       "    </tr>\n",
       "    <tr>\n",
       "      <th>3364</th>\n",
       "      <td>Digital Falak</td>\n",
       "      <td>Tools</td>\n",
       "      <td>4.7</td>\n",
       "      <td>3408</td>\n",
       "      <td>15M</td>\n",
       "      <td>50000</td>\n",
       "      <td>Free</td>\n",
       "      <td>0.00</td>\n",
       "      <td>Everyone</td>\n",
       "      <td>4.1 and up</td>\n",
       "      <td>Tools</td>\n",
       "    </tr>\n",
       "    <tr>\n",
       "      <th>3966</th>\n",
       "      <td>EZ-GUI Ground Station</td>\n",
       "      <td>Tools</td>\n",
       "      <td>4.7</td>\n",
       "      <td>3696</td>\n",
       "      <td>29M</td>\n",
       "      <td>50000</td>\n",
       "      <td>Free</td>\n",
       "      <td>0.00</td>\n",
       "      <td>Everyone</td>\n",
       "      <td>4.3 and up</td>\n",
       "      <td>Tools</td>\n",
       "    </tr>\n",
       "    <tr>\n",
       "      <th>4640</th>\n",
       "      <td>FlashLight HD LED Pro</td>\n",
       "      <td>Tools</td>\n",
       "      <td>4.7</td>\n",
       "      <td>4928</td>\n",
       "      <td>Varies with device</td>\n",
       "      <td>50000</td>\n",
       "      <td>Paid</td>\n",
       "      <td>2.99</td>\n",
       "      <td>Everyone</td>\n",
       "      <td>Varies with device</td>\n",
       "      <td>Tools</td>\n",
       "    </tr>\n",
       "    <tr>\n",
       "      <th>886</th>\n",
       "      <td>Automagic * Automation</td>\n",
       "      <td>Tools</td>\n",
       "      <td>4.7</td>\n",
       "      <td>1947</td>\n",
       "      <td>Varies with device</td>\n",
       "      <td>10000</td>\n",
       "      <td>Paid</td>\n",
       "      <td>3.90</td>\n",
       "      <td>Everyone</td>\n",
       "      <td>Varies with device</td>\n",
       "      <td>Tools</td>\n",
       "    </tr>\n",
       "    <tr>\n",
       "      <th>...</th>\n",
       "      <td>...</td>\n",
       "      <td>...</td>\n",
       "      <td>...</td>\n",
       "      <td>...</td>\n",
       "      <td>...</td>\n",
       "      <td>...</td>\n",
       "      <td>...</td>\n",
       "      <td>...</td>\n",
       "      <td>...</td>\n",
       "      <td>...</td>\n",
       "      <td>...</td>\n",
       "    </tr>\n",
       "    <tr>\n",
       "      <th>8032</th>\n",
       "      <td>Secret Codes For Android</td>\n",
       "      <td>Tools</td>\n",
       "      <td>3.6</td>\n",
       "      <td>6060</td>\n",
       "      <td>592k</td>\n",
       "      <td>500000</td>\n",
       "      <td>Free</td>\n",
       "      <td>0.00</td>\n",
       "      <td>Everyone</td>\n",
       "      <td>2.1 and up</td>\n",
       "      <td>Tools</td>\n",
       "    </tr>\n",
       "    <tr>\n",
       "      <th>6399</th>\n",
       "      <td>Metal Detector Pro 2015</td>\n",
       "      <td>Tools</td>\n",
       "      <td>3.6</td>\n",
       "      <td>1166</td>\n",
       "      <td>350k</td>\n",
       "      <td>100000</td>\n",
       "      <td>Free</td>\n",
       "      <td>0.00</td>\n",
       "      <td>Everyone</td>\n",
       "      <td>4.0 and up</td>\n",
       "      <td>Tools</td>\n",
       "    </tr>\n",
       "    <tr>\n",
       "      <th>7519</th>\n",
       "      <td>Q-See QT View</td>\n",
       "      <td>Tools</td>\n",
       "      <td>3.6</td>\n",
       "      <td>7357</td>\n",
       "      <td>19M</td>\n",
       "      <td>100000</td>\n",
       "      <td>Free</td>\n",
       "      <td>0.00</td>\n",
       "      <td>Everyone</td>\n",
       "      <td>5.0 and up</td>\n",
       "      <td>Tools</td>\n",
       "    </tr>\n",
       "    <tr>\n",
       "      <th>9946</th>\n",
       "      <td>myQ</td>\n",
       "      <td>Tools</td>\n",
       "      <td>3.6</td>\n",
       "      <td>3642</td>\n",
       "      <td>29M</td>\n",
       "      <td>100000</td>\n",
       "      <td>Free</td>\n",
       "      <td>0.00</td>\n",
       "      <td>Everyone</td>\n",
       "      <td>4.0.3 and up</td>\n",
       "      <td>Tools</td>\n",
       "    </tr>\n",
       "    <tr>\n",
       "      <th>5083</th>\n",
       "      <td>Google Korean Input</td>\n",
       "      <td>Tools</td>\n",
       "      <td>3.5</td>\n",
       "      <td>74819</td>\n",
       "      <td>Varies with device</td>\n",
       "      <td>100000000</td>\n",
       "      <td>Free</td>\n",
       "      <td>0.00</td>\n",
       "      <td>Everyone</td>\n",
       "      <td>7.1 and up</td>\n",
       "      <td>Tools</td>\n",
       "    </tr>\n",
       "    <tr>\n",
       "      <th>390</th>\n",
       "      <td>AT&amp;T FamilyMap®</td>\n",
       "      <td>Tools</td>\n",
       "      <td>3.5</td>\n",
       "      <td>21592</td>\n",
       "      <td>25M</td>\n",
       "      <td>10000000</td>\n",
       "      <td>Free</td>\n",
       "      <td>0.00</td>\n",
       "      <td>Everyone</td>\n",
       "      <td>4.0.3 and up</td>\n",
       "      <td>Tools</td>\n",
       "    </tr>\n",
       "    <tr>\n",
       "      <th>6701</th>\n",
       "      <td>My love</td>\n",
       "      <td>Tools</td>\n",
       "      <td>3.5</td>\n",
       "      <td>163997</td>\n",
       "      <td>16M</td>\n",
       "      <td>10000000</td>\n",
       "      <td>Free</td>\n",
       "      <td>0.00</td>\n",
       "      <td>Everyone</td>\n",
       "      <td>4.2 and up</td>\n",
       "      <td>Tools</td>\n",
       "    </tr>\n",
       "    <tr>\n",
       "      <th>8190</th>\n",
       "      <td>Smart TV Remote</td>\n",
       "      <td>Tools</td>\n",
       "      <td>3.5</td>\n",
       "      <td>81747</td>\n",
       "      <td>9.1M</td>\n",
       "      <td>10000000</td>\n",
       "      <td>Free</td>\n",
       "      <td>0.00</td>\n",
       "      <td>Everyone</td>\n",
       "      <td>4.1 and up</td>\n",
       "      <td>Tools</td>\n",
       "    </tr>\n",
       "    <tr>\n",
       "      <th>1742</th>\n",
       "      <td>Bluetooth Pair</td>\n",
       "      <td>Tools</td>\n",
       "      <td>3.5</td>\n",
       "      <td>1960</td>\n",
       "      <td>2.7M</td>\n",
       "      <td>1000000</td>\n",
       "      <td>Free</td>\n",
       "      <td>0.00</td>\n",
       "      <td>Everyone</td>\n",
       "      <td>4.1 and up</td>\n",
       "      <td>Tools</td>\n",
       "    </tr>\n",
       "    <tr>\n",
       "      <th>7727</th>\n",
       "      <td>Remote CT - Smart Remote</td>\n",
       "      <td>Tools</td>\n",
       "      <td>3.5</td>\n",
       "      <td>3988</td>\n",
       "      <td>11M</td>\n",
       "      <td>1000000</td>\n",
       "      <td>Free</td>\n",
       "      <td>0.00</td>\n",
       "      <td>Everyone</td>\n",
       "      <td>4.4 and up</td>\n",
       "      <td>Tools</td>\n",
       "    </tr>\n",
       "    <tr>\n",
       "      <th>9642</th>\n",
       "      <td>ZERO Lock Screen</td>\n",
       "      <td>Tools</td>\n",
       "      <td>3.5</td>\n",
       "      <td>75336</td>\n",
       "      <td>544k</td>\n",
       "      <td>1000000</td>\n",
       "      <td>Free</td>\n",
       "      <td>0.00</td>\n",
       "      <td>Everyone</td>\n",
       "      <td>4.0 and up</td>\n",
       "      <td>Tools</td>\n",
       "    </tr>\n",
       "    <tr>\n",
       "      <th>794</th>\n",
       "      <td>App vault</td>\n",
       "      <td>Tools</td>\n",
       "      <td>3.4</td>\n",
       "      <td>25094</td>\n",
       "      <td>Varies with device</td>\n",
       "      <td>10000000</td>\n",
       "      <td>Free</td>\n",
       "      <td>0.00</td>\n",
       "      <td>Everyone</td>\n",
       "      <td>Varies with device</td>\n",
       "      <td>Tools</td>\n",
       "    </tr>\n",
       "    <tr>\n",
       "      <th>5233</th>\n",
       "      <td>HTC Sense Input</td>\n",
       "      <td>Tools</td>\n",
       "      <td>3.4</td>\n",
       "      <td>17030</td>\n",
       "      <td>Varies with device</td>\n",
       "      <td>10000000</td>\n",
       "      <td>Free</td>\n",
       "      <td>0.00</td>\n",
       "      <td>Everyone</td>\n",
       "      <td>Varies with device</td>\n",
       "      <td>Tools</td>\n",
       "    </tr>\n",
       "    <tr>\n",
       "      <th>3124</th>\n",
       "      <td>DS get</td>\n",
       "      <td>Tools</td>\n",
       "      <td>3.4</td>\n",
       "      <td>71852</td>\n",
       "      <td>22M</td>\n",
       "      <td>5000000</td>\n",
       "      <td>Free</td>\n",
       "      <td>0.00</td>\n",
       "      <td>Everyone</td>\n",
       "      <td>4.1 and up</td>\n",
       "      <td>Tools</td>\n",
       "    </tr>\n",
       "    <tr>\n",
       "      <th>127</th>\n",
       "      <td>A/C Air Conditioner Remote</td>\n",
       "      <td>Tools</td>\n",
       "      <td>3.4</td>\n",
       "      <td>7816</td>\n",
       "      <td>5.1M</td>\n",
       "      <td>1000000</td>\n",
       "      <td>Free</td>\n",
       "      <td>0.00</td>\n",
       "      <td>Everyone</td>\n",
       "      <td>3.0 and up</td>\n",
       "      <td>Tools</td>\n",
       "    </tr>\n",
       "    <tr>\n",
       "      <th>590</th>\n",
       "      <td>Air conditioner remote control</td>\n",
       "      <td>Tools</td>\n",
       "      <td>3.4</td>\n",
       "      <td>29854</td>\n",
       "      <td>5.0M</td>\n",
       "      <td>1000000</td>\n",
       "      <td>Free</td>\n",
       "      <td>0.00</td>\n",
       "      <td>Everyone</td>\n",
       "      <td>2.3 and up</td>\n",
       "      <td>Tools</td>\n",
       "    </tr>\n",
       "    <tr>\n",
       "      <th>5846</th>\n",
       "      <td>LG AV REMOTE</td>\n",
       "      <td>Tools</td>\n",
       "      <td>3.4</td>\n",
       "      <td>2420</td>\n",
       "      <td>1.8M</td>\n",
       "      <td>1000000</td>\n",
       "      <td>Free</td>\n",
       "      <td>0.00</td>\n",
       "      <td>Everyone</td>\n",
       "      <td>2.3.3 and up</td>\n",
       "      <td>Tools</td>\n",
       "    </tr>\n",
       "    <tr>\n",
       "      <th>7736</th>\n",
       "      <td>Remote for Sony TV &amp; Sony Blu-Ray Players MyAV</td>\n",
       "      <td>Tools</td>\n",
       "      <td>3.4</td>\n",
       "      <td>3491</td>\n",
       "      <td>7.3M</td>\n",
       "      <td>1000000</td>\n",
       "      <td>Free</td>\n",
       "      <td>0.00</td>\n",
       "      <td>Everyone</td>\n",
       "      <td>4.3 and up</td>\n",
       "      <td>Tools</td>\n",
       "    </tr>\n",
       "    <tr>\n",
       "      <th>7839</th>\n",
       "      <td>Ruler(cm, inch)</td>\n",
       "      <td>Tools</td>\n",
       "      <td>3.4</td>\n",
       "      <td>2889</td>\n",
       "      <td>2.5M</td>\n",
       "      <td>500000</td>\n",
       "      <td>Free</td>\n",
       "      <td>0.00</td>\n",
       "      <td>Everyone</td>\n",
       "      <td>2.3 and up</td>\n",
       "      <td>Tools</td>\n",
       "    </tr>\n",
       "    <tr>\n",
       "      <th>4083</th>\n",
       "      <td>Emo Ads Blocker Browser</td>\n",
       "      <td>Tools</td>\n",
       "      <td>3.4</td>\n",
       "      <td>1555</td>\n",
       "      <td>4.1M</td>\n",
       "      <td>100000</td>\n",
       "      <td>Free</td>\n",
       "      <td>0.00</td>\n",
       "      <td>Everyone</td>\n",
       "      <td>3.0 and up</td>\n",
       "      <td>Tools</td>\n",
       "    </tr>\n",
       "    <tr>\n",
       "      <th>7735</th>\n",
       "      <td>Remote for Samsung TV &amp; BluRay Players (Read D...</td>\n",
       "      <td>Tools</td>\n",
       "      <td>3.3</td>\n",
       "      <td>1988</td>\n",
       "      <td>7.3M</td>\n",
       "      <td>500000</td>\n",
       "      <td>Free</td>\n",
       "      <td>0.00</td>\n",
       "      <td>Everyone</td>\n",
       "      <td>4.3 and up</td>\n",
       "      <td>Tools</td>\n",
       "    </tr>\n",
       "    <tr>\n",
       "      <th>8182</th>\n",
       "      <td>Smart Air Conditioner</td>\n",
       "      <td>Tools</td>\n",
       "      <td>3.3</td>\n",
       "      <td>4786</td>\n",
       "      <td>13M</td>\n",
       "      <td>500000</td>\n",
       "      <td>Free</td>\n",
       "      <td>0.00</td>\n",
       "      <td>Everyone</td>\n",
       "      <td>2.2 and up</td>\n",
       "      <td>Tools</td>\n",
       "    </tr>\n",
       "    <tr>\n",
       "      <th>9896</th>\n",
       "      <td>iWnn IME for Nexus</td>\n",
       "      <td>Tools</td>\n",
       "      <td>3.2</td>\n",
       "      <td>2394</td>\n",
       "      <td>Varies with device</td>\n",
       "      <td>5000000</td>\n",
       "      <td>Free</td>\n",
       "      <td>0.00</td>\n",
       "      <td>Everyone</td>\n",
       "      <td>Varies with device</td>\n",
       "      <td>Tools</td>\n",
       "    </tr>\n",
       "    <tr>\n",
       "      <th>3121</th>\n",
       "      <td>DS cloud</td>\n",
       "      <td>Tools</td>\n",
       "      <td>3.2</td>\n",
       "      <td>4908</td>\n",
       "      <td>38M</td>\n",
       "      <td>500000</td>\n",
       "      <td>Free</td>\n",
       "      <td>0.00</td>\n",
       "      <td>Everyone</td>\n",
       "      <td>4.0 and up</td>\n",
       "      <td>Tools</td>\n",
       "    </tr>\n",
       "    <tr>\n",
       "      <th>6684</th>\n",
       "      <td>My Telcel</td>\n",
       "      <td>Tools</td>\n",
       "      <td>3.1</td>\n",
       "      <td>45838</td>\n",
       "      <td>16M</td>\n",
       "      <td>50000000</td>\n",
       "      <td>Free</td>\n",
       "      <td>0.00</td>\n",
       "      <td>Everyone</td>\n",
       "      <td>4.1 and up</td>\n",
       "      <td>Tools</td>\n",
       "    </tr>\n",
       "    <tr>\n",
       "      <th>2650</th>\n",
       "      <td>Clear</td>\n",
       "      <td>Tools</td>\n",
       "      <td>3.1</td>\n",
       "      <td>24151</td>\n",
       "      <td>15M</td>\n",
       "      <td>10000000</td>\n",
       "      <td>Free</td>\n",
       "      <td>0.00</td>\n",
       "      <td>Everyone</td>\n",
       "      <td>4.1 and up</td>\n",
       "      <td>Tools</td>\n",
       "    </tr>\n",
       "    <tr>\n",
       "      <th>129</th>\n",
       "      <td>A/C Universal Remote Control</td>\n",
       "      <td>Tools</td>\n",
       "      <td>3.1</td>\n",
       "      <td>3263</td>\n",
       "      <td>3.0M</td>\n",
       "      <td>1000000</td>\n",
       "      <td>Free</td>\n",
       "      <td>0.00</td>\n",
       "      <td>Everyone</td>\n",
       "      <td>3.0 and up</td>\n",
       "      <td>Tools</td>\n",
       "    </tr>\n",
       "    <tr>\n",
       "      <th>164</th>\n",
       "      <td>AC Remote For LG</td>\n",
       "      <td>Tools</td>\n",
       "      <td>3.0</td>\n",
       "      <td>1298</td>\n",
       "      <td>3.4M</td>\n",
       "      <td>100000</td>\n",
       "      <td>Free</td>\n",
       "      <td>0.00</td>\n",
       "      <td>Everyone</td>\n",
       "      <td>4.0 and up</td>\n",
       "      <td>Tools</td>\n",
       "    </tr>\n",
       "    <tr>\n",
       "      <th>1289</th>\n",
       "      <td>BT Notifier</td>\n",
       "      <td>Tools</td>\n",
       "      <td>2.5</td>\n",
       "      <td>2794</td>\n",
       "      <td>3.8M</td>\n",
       "      <td>1000000</td>\n",
       "      <td>Free</td>\n",
       "      <td>0.00</td>\n",
       "      <td>Everyone</td>\n",
       "      <td>4.3 and up</td>\n",
       "      <td>Tools</td>\n",
       "    </tr>\n",
       "    <tr>\n",
       "      <th>797</th>\n",
       "      <td>AppFinder by AppTap</td>\n",
       "      <td>Tools</td>\n",
       "      <td>2.0</td>\n",
       "      <td>2221</td>\n",
       "      <td>4.9M</td>\n",
       "      <td>5000000</td>\n",
       "      <td>Free</td>\n",
       "      <td>0.00</td>\n",
       "      <td>Everyone</td>\n",
       "      <td>5.0 and up</td>\n",
       "      <td>Tools</td>\n",
       "    </tr>\n",
       "  </tbody>\n",
       "</table>\n",
       "<p>361 rows × 11 columns</p>\n",
       "</div>"
      ],
      "text/plain": [
       "                                                    App Category  Rating  \\\n",
       "4572  File Manager by Xiaomi: release file storage s...    Tools     4.8   \n",
       "2359                     Calculator with Percent (Free)    Tools     4.8   \n",
       "2360                                           Calcy IV    Tools     4.8   \n",
       "5684                               K keyboard - Myanmar    Tools     4.8   \n",
       "5729                 Kernel Manager for Franco Kernel ✨    Tools     4.8   \n",
       "4343                              FK Crvena Zvezda Izzy    Tools     4.8   \n",
       "9640                                   ZArchiver Donate    Tools     4.8   \n",
       "2647            Clean Master- Space Cleaner & Antivirus    Tools     4.7   \n",
       "8037  Security Master - Antivirus, VPN, AppLock, Boo...    Tools     4.7   \n",
       "1815                        Brightest Flashlight Free ®    Tools     4.7   \n",
       "5714  Kaspersky Mobile Antivirus: AppLock & Web Secu...    Tools     4.7   \n",
       "4641                                         Flashlight    Tools     4.7   \n",
       "4914            GO Security－AntiVirus, AppLock, Booster    Tools     4.7   \n",
       "8261                                        Sound Meter    Tools     4.7   \n",
       "1939                     CALCU™ Stylish Calculator Free    Tools     4.7   \n",
       "5538   Inf VPN - Global Proxy & Unlimited Free WIFI VPN    Tools     4.7   \n",
       "7367                    Poke Genie - Safe IV Calculator    Tools     4.7   \n",
       "8287  Speed Booster - Ram, Battery & Game Speed Booster    Tools     4.7   \n",
       "8768                                 The Zueira's Voice    Tools     4.7   \n",
       "8890                     TorrDroid - Torrent Downloader    Tools     4.7   \n",
       "9892                                     iSwipe Phone X    Tools     4.7   \n",
       "9098                                              UniFi    Tools     4.7   \n",
       "9420                      WhatsVPN - Unlimited Free VPN    Tools     4.7   \n",
       "1496                                     Battery HD Pro    Tools     4.7   \n",
       "1882                                        BusyBox Pro    Tools     4.7   \n",
       "532                       Advanced Download Manager Pro    Tools     4.7   \n",
       "3364                                      Digital Falak    Tools     4.7   \n",
       "3966                              EZ-GUI Ground Station    Tools     4.7   \n",
       "4640                              FlashLight HD LED Pro    Tools     4.7   \n",
       "886                              Automagic * Automation    Tools     4.7   \n",
       "...                                                 ...      ...     ...   \n",
       "8032                           Secret Codes For Android    Tools     3.6   \n",
       "6399                            Metal Detector Pro 2015    Tools     3.6   \n",
       "7519                                      Q-See QT View    Tools     3.6   \n",
       "9946                                                myQ    Tools     3.6   \n",
       "5083                                Google Korean Input    Tools     3.5   \n",
       "390                                     AT&T FamilyMap®    Tools     3.5   \n",
       "6701                                            My love    Tools     3.5   \n",
       "8190                                    Smart TV Remote    Tools     3.5   \n",
       "1742                                     Bluetooth Pair    Tools     3.5   \n",
       "7727                           Remote CT - Smart Remote    Tools     3.5   \n",
       "9642                                   ZERO Lock Screen    Tools     3.5   \n",
       "794                                           App vault    Tools     3.4   \n",
       "5233                                    HTC Sense Input    Tools     3.4   \n",
       "3124                                             DS get    Tools     3.4   \n",
       "127                          A/C Air Conditioner Remote    Tools     3.4   \n",
       "590                      Air conditioner remote control    Tools     3.4   \n",
       "5846                                       LG AV REMOTE    Tools     3.4   \n",
       "7736     Remote for Sony TV & Sony Blu-Ray Players MyAV    Tools     3.4   \n",
       "7839                                    Ruler(cm, inch)    Tools     3.4   \n",
       "4083                            Emo Ads Blocker Browser    Tools     3.4   \n",
       "7735  Remote for Samsung TV & BluRay Players (Read D...    Tools     3.3   \n",
       "8182                              Smart Air Conditioner    Tools     3.3   \n",
       "9896                                 iWnn IME for Nexus    Tools     3.2   \n",
       "3121                                           DS cloud    Tools     3.2   \n",
       "6684                                          My Telcel    Tools     3.1   \n",
       "2650                                              Clear    Tools     3.1   \n",
       "129                        A/C Universal Remote Control    Tools     3.1   \n",
       "164                                    AC Remote For LG    Tools     3.0   \n",
       "1289                                        BT Notifier    Tools     2.5   \n",
       "797                                 AppFinder by AppTap    Tools     2.0   \n",
       "\n",
       "       Reviews                Size   Installs  Type  Price Content Rating  \\\n",
       "4572    337532                 15M   10000000  Free   0.00       Everyone   \n",
       "2359     48211                7.4M    1000000  Free   0.00       Everyone   \n",
       "2360     36557                 14M    1000000  Free   0.00       Everyone   \n",
       "5684      1955                 14M     100000  Free   0.00       Everyone   \n",
       "5729     12700                 10M     100000  Paid   3.49       Everyone   \n",
       "4343      1456                 15M      50000  Free   0.00       Everyone   \n",
       "9640      1721  Varies with device      10000  Paid   2.50       Everyone   \n",
       "2647  42916526  Varies with device  500000000  Free   0.00       Everyone   \n",
       "8037  24900999  Varies with device  500000000  Free   0.00       Everyone   \n",
       "1815   1335799                3.8M   50000000  Free   0.00       Everyone   \n",
       "5714   2598579                 49M   50000000  Free   0.00       Everyone   \n",
       "4641    115409  Varies with device   10000000  Free   0.00       Everyone   \n",
       "4914   1251479  Varies with device   10000000  Free   0.00       Everyone   \n",
       "8261     88993                1.5M   10000000  Free   0.00       Everyone   \n",
       "1939    152692                 11M    5000000  Free   0.00       Everyone   \n",
       "5538     61445                7.8M    1000000  Free   0.00       Everyone   \n",
       "7367     92958                 36M    1000000  Free   0.00       Everyone   \n",
       "8287     85079                2.8M    1000000  Free   0.00       Everyone   \n",
       "8768    136540                3.1M    1000000  Free   0.00       Everyone   \n",
       "8890     59632                 10M    1000000  Free   0.00       Everyone   \n",
       "9892     58366                6.3M    1000000  Free   0.00       Everyone   \n",
       "9098     11018                 25M     500000  Free   0.00       Everyone   \n",
       "9420     24985                7.8M     500000  Free   0.00       Everyone   \n",
       "1496     17861  Varies with device     100000  Paid   3.99       Everyone   \n",
       "1882      8114  Varies with device     100000  Paid   2.49       Everyone   \n",
       "532       6505                2.0M      50000  Paid   2.99       Everyone   \n",
       "3364      3408                 15M      50000  Free   0.00       Everyone   \n",
       "3966      3696                 29M      50000  Free   0.00       Everyone   \n",
       "4640      4928  Varies with device      50000  Paid   2.99       Everyone   \n",
       "886       1947  Varies with device      10000  Paid   3.90       Everyone   \n",
       "...        ...                 ...        ...   ...    ...            ...   \n",
       "8032      6060                592k     500000  Free   0.00       Everyone   \n",
       "6399      1166                350k     100000  Free   0.00       Everyone   \n",
       "7519      7357                 19M     100000  Free   0.00       Everyone   \n",
       "9946      3642                 29M     100000  Free   0.00       Everyone   \n",
       "5083     74819  Varies with device  100000000  Free   0.00       Everyone   \n",
       "390      21592                 25M   10000000  Free   0.00       Everyone   \n",
       "6701    163997                 16M   10000000  Free   0.00       Everyone   \n",
       "8190     81747                9.1M   10000000  Free   0.00       Everyone   \n",
       "1742      1960                2.7M    1000000  Free   0.00       Everyone   \n",
       "7727      3988                 11M    1000000  Free   0.00       Everyone   \n",
       "9642     75336                544k    1000000  Free   0.00       Everyone   \n",
       "794      25094  Varies with device   10000000  Free   0.00       Everyone   \n",
       "5233     17030  Varies with device   10000000  Free   0.00       Everyone   \n",
       "3124     71852                 22M    5000000  Free   0.00       Everyone   \n",
       "127       7816                5.1M    1000000  Free   0.00       Everyone   \n",
       "590      29854                5.0M    1000000  Free   0.00       Everyone   \n",
       "5846      2420                1.8M    1000000  Free   0.00       Everyone   \n",
       "7736      3491                7.3M    1000000  Free   0.00       Everyone   \n",
       "7839      2889                2.5M     500000  Free   0.00       Everyone   \n",
       "4083      1555                4.1M     100000  Free   0.00       Everyone   \n",
       "7735      1988                7.3M     500000  Free   0.00       Everyone   \n",
       "8182      4786                 13M     500000  Free   0.00       Everyone   \n",
       "9896      2394  Varies with device    5000000  Free   0.00       Everyone   \n",
       "3121      4908                 38M     500000  Free   0.00       Everyone   \n",
       "6684     45838                 16M   50000000  Free   0.00       Everyone   \n",
       "2650     24151                 15M   10000000  Free   0.00       Everyone   \n",
       "129       3263                3.0M    1000000  Free   0.00       Everyone   \n",
       "164       1298                3.4M     100000  Free   0.00       Everyone   \n",
       "1289      2794                3.8M    1000000  Free   0.00       Everyone   \n",
       "797       2221                4.9M    5000000  Free   0.00       Everyone   \n",
       "\n",
       "             Android Ver Genres  \n",
       "4572          4.4 and up  Tools  \n",
       "2359          4.1 and up  Tools  \n",
       "2360          5.0 and up  Tools  \n",
       "5684          4.1 and up  Tools  \n",
       "5729          5.0 and up  Tools  \n",
       "4343          4.4 and up  Tools  \n",
       "9640  Varies with device  Tools  \n",
       "2647  Varies with device  Tools  \n",
       "8037  Varies with device  Tools  \n",
       "1815          4.2 and up  Tools  \n",
       "5714          4.1 and up  Tools  \n",
       "4641  Varies with device  Tools  \n",
       "4914  Varies with device  Tools  \n",
       "8261          2.3 and up  Tools  \n",
       "1939          4.1 and up  Tools  \n",
       "5538          4.1 and up  Tools  \n",
       "7367          5.0 and up  Tools  \n",
       "8287          2.3 and up  Tools  \n",
       "8768        4.0.3 and up  Tools  \n",
       "8890          4.1 and up  Tools  \n",
       "9892          4.1 and up  Tools  \n",
       "9098          4.1 and up  Tools  \n",
       "9420          4.1 and up  Tools  \n",
       "1496  Varies with device  Tools  \n",
       "1882  Varies with device  Tools  \n",
       "532           4.0 and up  Tools  \n",
       "3364          4.1 and up  Tools  \n",
       "3966          4.3 and up  Tools  \n",
       "4640  Varies with device  Tools  \n",
       "886   Varies with device  Tools  \n",
       "...                  ...    ...  \n",
       "8032          2.1 and up  Tools  \n",
       "6399          4.0 and up  Tools  \n",
       "7519          5.0 and up  Tools  \n",
       "9946        4.0.3 and up  Tools  \n",
       "5083          7.1 and up  Tools  \n",
       "390         4.0.3 and up  Tools  \n",
       "6701          4.2 and up  Tools  \n",
       "8190          4.1 and up  Tools  \n",
       "1742          4.1 and up  Tools  \n",
       "7727          4.4 and up  Tools  \n",
       "9642          4.0 and up  Tools  \n",
       "794   Varies with device  Tools  \n",
       "5233  Varies with device  Tools  \n",
       "3124          4.1 and up  Tools  \n",
       "127           3.0 and up  Tools  \n",
       "590           2.3 and up  Tools  \n",
       "5846        2.3.3 and up  Tools  \n",
       "7736          4.3 and up  Tools  \n",
       "7839          2.3 and up  Tools  \n",
       "4083          3.0 and up  Tools  \n",
       "7735          4.3 and up  Tools  \n",
       "8182          2.2 and up  Tools  \n",
       "9896  Varies with device  Tools  \n",
       "3121          4.0 and up  Tools  \n",
       "6684          4.1 and up  Tools  \n",
       "2650          4.1 and up  Tools  \n",
       "129           3.0 and up  Tools  \n",
       "164           4.0 and up  Tools  \n",
       "1289          4.3 and up  Tools  \n",
       "797           5.0 and up  Tools  \n",
       "\n",
       "[361 rows x 11 columns]"
      ]
     },
     "execution_count": 25,
     "metadata": {},
     "output_type": "execute_result"
    }
   ],
   "source": [
    "# excluding apps with no rating and app with less than 1000 review\n",
    "#(This approach helps me to have more reliable results)\n",
    "group = google_store_clean.query(' Rating != \"NaN\" and Reviews >= 1000')\n",
    "# sorting apps with the highest ratings\n",
    "group = group.sort_values(by = ['Rating','Installs'],ascending = False)\n",
    "group = group.groupby('Category')\n",
    "# replace this category with any category you want to view data !\n",
    "group.get_group('Tools')"
   ]
  },
  {
   "cell_type": "markdown",
   "metadata": {},
   "source": [
    "The above table will help apps developers to view the common features for succuessful apps in the market under each app category."
   ]
  },
  {
   "cell_type": "markdown",
   "metadata": {},
   "source": [
    "#### What are the top 10 apps genres under each app category?"
   ]
  },
  {
   "cell_type": "code",
   "execution_count": 143,
   "metadata": {
    "scrolled": true
   },
   "outputs": [
    {
     "data": {
      "text/plain": [
       "Category        Genres            \n",
       "Art And Design  Art & Design          64\n",
       "                Creativity             5\n",
       "                Pretend Play           1\n",
       "                Action & Adventure     1\n",
       "Name: App, dtype: int64"
      ]
     },
     "execution_count": 143,
     "metadata": {},
     "output_type": "execute_result"
    }
   ],
   "source": [
    "# displaying the number of each genre under each App category\n",
    "query = google_store_clean.query('Category ==\"Art And Design\"')\n",
    "query.groupby(['Category','Genres'])['App'].count().sort_values(ascending = False)"
   ]
  },
  {
   "cell_type": "code",
   "execution_count": 145,
   "metadata": {},
   "outputs": [
    {
     "data": {
      "text/plain": [
       "Category  Genres\n",
       "Sports    Sports    325\n",
       "Name: App, dtype: int64"
      ]
     },
     "execution_count": 145,
     "metadata": {},
     "output_type": "execute_result"
    }
   ],
   "source": [
    "# displaying the number of each genre under each App category\n",
    "query = google_store_clean.query('Category ==\"Sports\"')\n",
    "query.groupby(['Category','Genres'])['App'].count().sort_values(ascending = False)"
   ]
  },
  {
   "cell_type": "code",
   "execution_count": 146,
   "metadata": {},
   "outputs": [
    {
     "data": {
      "text/plain": [
       "Category  Genres\n",
       "Social    Social    239\n",
       "Name: App, dtype: int64"
      ]
     },
     "execution_count": 146,
     "metadata": {},
     "output_type": "execute_result"
    }
   ],
   "source": [
    "# displaying the number of each genre under each App category\n",
    "query = google_store_clean.query('Category ==\"Social\"')\n",
    "query.groupby(['Category','Genres'])['App'].count().sort_values(ascending = False)"
   ]
  },
  {
   "cell_type": "code",
   "execution_count": 147,
   "metadata": {
    "scrolled": true
   },
   "outputs": [
    {
     "data": {
      "text/plain": [
       "Category  Genres    \n",
       "Comics    Comics        56\n",
       "          Creativity     1\n",
       "Name: App, dtype: int64"
      ]
     },
     "execution_count": 147,
     "metadata": {},
     "output_type": "execute_result"
    }
   ],
   "source": [
    "# displaying the number of each genre under each App category\n",
    "query = google_store_clean.query('Category ==\"Comics\"')\n",
    "query.groupby(['Category','Genres'])['App'].count().sort_values(ascending = False)"
   ]
  },
  {
   "cell_type": "code",
   "execution_count": 148,
   "metadata": {},
   "outputs": [
    {
     "data": {
      "text/plain": [
       "Category  Genres   \n",
       "Tools     Tools        827\n",
       "          Education      1\n",
       "Name: App, dtype: int64"
      ]
     },
     "execution_count": 148,
     "metadata": {},
     "output_type": "execute_result"
    }
   ],
   "source": [
    "# displaying the number of each genre under each App category\n",
    "query = google_store_clean.query('Category ==\"Tools\"')\n",
    "query.groupby(['Category','Genres'])['App'].count().sort_values(ascending = False)"
   ]
  },
  {
   "cell_type": "code",
   "execution_count": 149,
   "metadata": {},
   "outputs": [
    {
     "data": {
      "text/plain": [
       "Category       Genres       \n",
       "Communication  Communication    315\n",
       "Name: App, dtype: int64"
      ]
     },
     "execution_count": 149,
     "metadata": {},
     "output_type": "execute_result"
    }
   ],
   "source": [
    "# displaying the number of each genre under each App category\n",
    "query = google_store_clean.query('Category ==\"Communication\"')\n",
    "query.groupby(['Category','Genres'])['App'].count().sort_values(ascending = False)"
   ]
  },
  {
   "cell_type": "code",
   "execution_count": 150,
   "metadata": {},
   "outputs": [
    {
     "data": {
      "text/plain": [
       "Category            Genres          \n",
       "News And Magazines  News & Magazines    254\n",
       "Name: App, dtype: int64"
      ]
     },
     "execution_count": 150,
     "metadata": {},
     "output_type": "execute_result"
    }
   ],
   "source": [
    "# displaying the number of each genre under each App category\n",
    "query = google_store_clean.query('Category ==\"News And Magazines\"')\n",
    "query.groupby(['Category','Genres'])['App'].count().sort_values(ascending = False)"
   ]
  },
  {
   "cell_type": "code",
   "execution_count": 151,
   "metadata": {},
   "outputs": [
    {
     "data": {
      "text/plain": [
       "Category            Genres          \n",
       "Health And Fitness  Health & Fitness    288\n",
       "Name: App, dtype: int64"
      ]
     },
     "execution_count": 151,
     "metadata": {},
     "output_type": "execute_result"
    }
   ],
   "source": [
    "# displaying the number of each genre under each App category\n",
    "query = google_store_clean.query('Category ==\"Health And Fitness\"')\n",
    "query.groupby(['Category','Genres'])['App'].count().sort_values(ascending = False)"
   ]
  },
  {
   "cell_type": "code",
   "execution_count": 152,
   "metadata": {},
   "outputs": [
    {
     "data": {
      "text/plain": [
       "Category  Genres                 \n",
       "Family    Education                  542\n",
       "          Entertainment              490\n",
       "          Casual                     198\n",
       "          Simulation                 194\n",
       "          Puzzle                     118\n",
       "          Educational                102\n",
       "          Role Playing               100\n",
       "          Action & Adventure          89\n",
       "          Strategy                    82\n",
       "          Pretend Play                62\n",
       "          Brain Games                 57\n",
       "          Creativity                  22\n",
       "          Board                       19\n",
       "          Racing                      17\n",
       "          Music & Video               16\n",
       "          Arcade                      15\n",
       "          Action                       9\n",
       "          Adventure                    6\n",
       "          Sports                       4\n",
       "          Books & Reference            3\n",
       "          Music                        3\n",
       "          Health & Fitness             2\n",
       "          Card                         2\n",
       "          Video Players & Editors      2\n",
       "          Trivia                       1\n",
       "          Communication                1\n",
       "          Lifestyle                    1\n",
       "          Art & Design                 1\n",
       "          Music & Audio                1\n",
       "Name: App, dtype: int64"
      ]
     },
     "execution_count": 152,
     "metadata": {},
     "output_type": "execute_result"
    }
   ],
   "source": [
    "# displaying the number of each genre under each App category\n",
    "query = google_store_clean.query('Category ==\"Family\"')\n",
    "query.groupby(['Category','Genres'])['App'].count().sort_values(ascending = False)"
   ]
  },
  {
   "cell_type": "code",
   "execution_count": 153,
   "metadata": {},
   "outputs": [
    {
     "data": {
      "text/plain": [
       "Category             Genres           \n",
       "Books And Reference  Books & Reference    222\n",
       "Name: App, dtype: int64"
      ]
     },
     "execution_count": 153,
     "metadata": {},
     "output_type": "execute_result"
    }
   ],
   "source": [
    "# displaying the number of each genre under each App category\n",
    "query = google_store_clean.query('Category ==\"Books And Reference\"')\n",
    "query.groupby(['Category','Genres'])['App'].count().sort_values(ascending = False)"
   ]
  },
  {
   "cell_type": "code",
   "execution_count": 154,
   "metadata": {},
   "outputs": [
    {
     "data": {
      "text/plain": [
       "Category   Genres      \n",
       "Lifestyle  Lifestyle       369\n",
       "           Pretend Play      1\n",
       "Name: App, dtype: int64"
      ]
     },
     "execution_count": 154,
     "metadata": {},
     "output_type": "execute_result"
    }
   ],
   "source": [
    "# displaying the number of each genre under each App category\n",
    "query = google_store_clean.query('Category ==\"Lifestyle\"')\n",
    "query.groupby(['Category','Genres'])['App'].count().sort_values(ascending = False)"
   ]
  },
  {
   "cell_type": "code",
   "execution_count": 155,
   "metadata": {
    "scrolled": true
   },
   "outputs": [
    {
     "data": {
      "text/plain": [
       "Category  Genres  \n",
       "Business  Business    420\n",
       "Name: App, dtype: int64"
      ]
     },
     "execution_count": 155,
     "metadata": {},
     "output_type": "execute_result"
    }
   ],
   "source": [
    "# displaying the number of each genre under each App category\n",
    "query = google_store_clean.query('Category ==\"Business\"')\n",
    "query.groupby(['Category','Genres'])['App'].count().sort_values(ascending = False)"
   ]
  },
  {
   "cell_type": "code",
   "execution_count": 156,
   "metadata": {},
   "outputs": [
    {
     "data": {
      "text/plain": [
       "Category  Genres  \n",
       "Shopping  Shopping    202\n",
       "Name: App, dtype: int64"
      ]
     },
     "execution_count": 156,
     "metadata": {},
     "output_type": "execute_result"
    }
   ],
   "source": [
    "# displaying the number of each genre under each App category\n",
    "query = google_store_clean.query('Category ==\"Shopping\"')\n",
    "query.groupby(['Category','Genres'])['App'].count().sort_values(ascending = False)"
   ]
  },
  {
   "cell_type": "code",
   "execution_count": 157,
   "metadata": {},
   "outputs": [
    {
     "data": {
      "text/plain": [
       "Category  Genres \n",
       "Medical   Medical    395\n",
       "Name: App, dtype: int64"
      ]
     },
     "execution_count": 157,
     "metadata": {},
     "output_type": "execute_result"
    }
   ],
   "source": [
    "# displaying the number of each genre under each App category\n",
    "query = google_store_clean.query('Category ==\"Medical\"')\n",
    "query.groupby(['Category','Genres'])['App'].count().sort_values(ascending = False)"
   ]
  },
  {
   "cell_type": "code",
   "execution_count": 158,
   "metadata": {},
   "outputs": [
    {
     "data": {
      "text/plain": [
       "Category  Genres            \n",
       "Game      Action                302\n",
       "          Arcade                184\n",
       "          Racing                 91\n",
       "          Adventure              74\n",
       "          Card                   47\n",
       "          Board                  41\n",
       "          Casino                 39\n",
       "          Trivia                 38\n",
       "          Casual                 27\n",
       "          Puzzle                 24\n",
       "          Word                   23\n",
       "          Music                  19\n",
       "          Strategy               17\n",
       "          Role Playing           15\n",
       "          Simulation             12\n",
       "          Sports                  6\n",
       "          Action & Adventure      6\n",
       "          Creativity              1\n",
       "          Pretend Play            1\n",
       "          Brain Games             1\n",
       "          Education               1\n",
       "Name: App, dtype: int64"
      ]
     },
     "execution_count": 158,
     "metadata": {},
     "output_type": "execute_result"
    }
   ],
   "source": [
    "# displaying the number of each genre under each App category\n",
    "query = google_store_clean.query('Category ==\"Game\"')\n",
    "query.groupby(['Category','Genres'])['App'].count().sort_values(ascending = False)"
   ]
  },
  {
   "cell_type": "code",
   "execution_count": 159,
   "metadata": {},
   "outputs": [
    {
     "data": {
      "text/plain": [
       "Category  Genres \n",
       "Finance   Finance    345\n",
       "Name: App, dtype: int64"
      ]
     },
     "execution_count": 159,
     "metadata": {},
     "output_type": "execute_result"
    }
   ],
   "source": [
    "# displaying the number of each genre under each App category\n",
    "query = google_store_clean.query('Category ==\"Finance\"')\n",
    "query.groupby(['Category','Genres'])['App'].count().sort_values(ascending = False)"
   ]
  },
  {
   "cell_type": "code",
   "execution_count": 160,
   "metadata": {},
   "outputs": [
    {
     "data": {
      "text/plain": [
       "Category         Genres         \n",
       "Personalization  Personalization    376\n",
       "Name: App, dtype: int64"
      ]
     },
     "execution_count": 160,
     "metadata": {},
     "output_type": "execute_result"
    }
   ],
   "source": [
    "# displaying the number of each genre under each App category\n",
    "query = google_store_clean.query('Category ==\"Personalization\"')\n",
    "query.groupby(['Category','Genres'])['App'].count().sort_values(ascending = False)"
   ]
  },
  {
   "cell_type": "code",
   "execution_count": 161,
   "metadata": {},
   "outputs": [
    {
     "data": {
      "text/plain": [
       "Category     Genres     \n",
       "Photography  Photography    281\n",
       "Name: App, dtype: int64"
      ]
     },
     "execution_count": 161,
     "metadata": {},
     "output_type": "execute_result"
    }
   ],
   "source": [
    "# displaying the number of each genre under each App category\n",
    "query = google_store_clean.query('Category ==\"Photography\"')\n",
    "query.groupby(['Category','Genres'])['App'].count().sort_values(ascending = False)"
   ]
  },
  {
   "cell_type": "code",
   "execution_count": 162,
   "metadata": {},
   "outputs": [
    {
     "data": {
      "text/plain": [
       "Category          Genres            \n",
       "Travel And Local  Travel & Local        219\n",
       "                  Action & Adventure      1\n",
       "Name: App, dtype: int64"
      ]
     },
     "execution_count": 162,
     "metadata": {},
     "output_type": "execute_result"
    }
   ],
   "source": [
    "# displaying the number of each genre under each App category\n",
    "query = google_store_clean.query('Category ==\"Travel And Local\"')\n",
    "query.groupby(['Category','Genres'])['App'].count().sort_values(ascending = False)"
   ]
  },
  {
   "cell_type": "code",
   "execution_count": 163,
   "metadata": {
    "scrolled": true
   },
   "outputs": [
    {
     "data": {
      "text/plain": [
       "Category  Genres\n",
       "Dating    Dating    171\n",
       "Name: App, dtype: int64"
      ]
     },
     "execution_count": 163,
     "metadata": {},
     "output_type": "execute_result"
    }
   ],
   "source": [
    "# displaying the number of each genre under each App category\n",
    "query = google_store_clean.query('Category ==\"Dating\"')\n",
    "query.groupby(['Category','Genres'])['App'].count().sort_values(ascending = False)"
   ]
  },
  {
   "cell_type": "code",
   "execution_count": 164,
   "metadata": {},
   "outputs": [
    {
     "data": {
      "text/plain": [
       "Category      Genres      \n",
       "Productivity  Productivity    374\n",
       "Name: App, dtype: int64"
      ]
     },
     "execution_count": 164,
     "metadata": {},
     "output_type": "execute_result"
    }
   ],
   "source": [
    "# displaying the number of each genre under each App category\n",
    "query = google_store_clean.query('Category ==\"Productivity\"')\n",
    "query.groupby(['Category','Genres'])['App'].count().sort_values(ascending = False)"
   ]
  },
  {
   "cell_type": "code",
   "execution_count": 165,
   "metadata": {},
   "outputs": [
    {
     "data": {
      "text/plain": [
       "Category        Genres      \n",
       "Food And Drink  Food & Drink    112\n",
       "Name: App, dtype: int64"
      ]
     },
     "execution_count": 165,
     "metadata": {},
     "output_type": "execute_result"
    }
   ],
   "source": [
    "# displaying the number of each genre under each App category\n",
    "query = google_store_clean.query('Category ==\"Food And Drink\"')\n",
    "query.groupby(['Category','Genres'])['App'].count().sort_values(ascending = False)"
   ]
  },
  {
   "cell_type": "code",
   "execution_count": 167,
   "metadata": {},
   "outputs": [
    {
     "data": {
      "text/plain": [
       "Category       Genres                 \n",
       "Video Players  Video Players & Editors    163\n",
       "               Music & Video                1\n",
       "Name: App, dtype: int64"
      ]
     },
     "execution_count": 167,
     "metadata": {},
     "output_type": "execute_result"
    }
   ],
   "source": [
    "# displaying the number of each genre under each App category\n",
    "query = google_store_clean.query('Category ==\"Video Players\"')\n",
    "query.groupby(['Category','Genres'])['App'].count().sort_values(ascending = False)"
   ]
  },
  {
   "cell_type": "code",
   "execution_count": 168,
   "metadata": {},
   "outputs": [
    {
     "data": {
      "text/plain": [
       "Category        Genres      \n",
       "House And Home  House & Home    74\n",
       "Name: App, dtype: int64"
      ]
     },
     "execution_count": 168,
     "metadata": {},
     "output_type": "execute_result"
    }
   ],
   "source": [
    "# displaying the number of each genre under each App category\n",
    "query = google_store_clean.query('Category ==\"House And Home\"')\n",
    "query.groupby(['Category','Genres'])['App'].count().sort_values(ascending = False)"
   ]
  },
  {
   "cell_type": "code",
   "execution_count": 169,
   "metadata": {},
   "outputs": [
    {
     "data": {
      "text/plain": [
       "Category             Genres           \n",
       "Maps And Navigation  Maps & Navigation    131\n",
       "Name: App, dtype: int64"
      ]
     },
     "execution_count": 169,
     "metadata": {},
     "output_type": "execute_result"
    }
   ],
   "source": [
    "# displaying the number of each genre under each App category\n",
    "query = google_store_clean.query('Category ==\"Maps And Navigation\"')\n",
    "query.groupby(['Category','Genres'])['App'].count().sort_values(ascending = False)"
   ]
  },
  {
   "cell_type": "code",
   "execution_count": 170,
   "metadata": {
    "scrolled": true
   },
   "outputs": [
    {
     "data": {
      "text/plain": [
       "Category       Genres       \n",
       "Entertainment  Entertainment    102\n",
       "               Music & Video      7\n",
       "               Brain Games        2\n",
       "               Creativity         1\n",
       "Name: App, dtype: int64"
      ]
     },
     "execution_count": 170,
     "metadata": {},
     "output_type": "execute_result"
    }
   ],
   "source": [
    "# displaying the number of each genre under each App category\n",
    "query = google_store_clean.query('Category ==\"Entertainment\"')\n",
    "query.groupby(['Category','Genres'])['App'].count().sort_values(ascending = False)"
   ]
  },
  {
   "cell_type": "code",
   "execution_count": 171,
   "metadata": {},
   "outputs": [
    {
     "data": {
      "text/plain": [
       "Category  Genres\n",
       "Events    Events    64\n",
       "Name: App, dtype: int64"
      ]
     },
     "execution_count": 171,
     "metadata": {},
     "output_type": "execute_result"
    }
   ],
   "source": [
    "# displaying the number of each genre under each App category\n",
    "query = google_store_clean.query('Category ==\"Events\"')\n",
    "query.groupby(['Category','Genres'])['App'].count().sort_values(ascending = False)"
   ]
  },
  {
   "cell_type": "code",
   "execution_count": 172,
   "metadata": {},
   "outputs": [
    {
     "data": {
      "text/plain": [
       "Category   Genres            \n",
       "Education  Education             127\n",
       "           Pretend Play            4\n",
       "           Creativity              3\n",
       "           Brain Games             3\n",
       "           Music & Video           1\n",
       "           Action & Adventure      1\n",
       "Name: App, dtype: int64"
      ]
     },
     "execution_count": 172,
     "metadata": {},
     "output_type": "execute_result"
    }
   ],
   "source": [
    "# displaying the number of each genre under each App category\n",
    "query = google_store_clean.query('Category ==\"Education\"')\n",
    "query.groupby(['Category','Genres'])['App'].count().sort_values(ascending = False)"
   ]
  },
  {
   "cell_type": "code",
   "execution_count": 173,
   "metadata": {},
   "outputs": [
    {
     "data": {
      "text/plain": [
       "Category           Genres         \n",
       "Auto And Vehicles  Auto & Vehicles    85\n",
       "Name: App, dtype: int64"
      ]
     },
     "execution_count": 173,
     "metadata": {},
     "output_type": "execute_result"
    }
   ],
   "source": [
    "# displaying the number of each genre under each App category\n",
    "query = google_store_clean.query('Category ==\"Auto And Vehicles\"')\n",
    "query.groupby(['Category','Genres'])['App'].count().sort_values(ascending = False)"
   ]
  },
  {
   "cell_type": "code",
   "execution_count": 174,
   "metadata": {},
   "outputs": [
    {
     "data": {
      "text/plain": [
       "Category  Genres \n",
       "Weather   Weather    79\n",
       "Name: App, dtype: int64"
      ]
     },
     "execution_count": 174,
     "metadata": {},
     "output_type": "execute_result"
    }
   ],
   "source": [
    "# displaying the number of each genre under each App category\n",
    "query = google_store_clean.query('Category ==\"Weather\"')\n",
    "query.groupby(['Category','Genres'])['App'].count().sort_values(ascending = False)"
   ]
  },
  {
   "cell_type": "code",
   "execution_count": 175,
   "metadata": {},
   "outputs": [
    {
     "data": {
      "text/plain": [
       "Category  Genres\n",
       "Beauty    Beauty    53\n",
       "Name: App, dtype: int64"
      ]
     },
     "execution_count": 175,
     "metadata": {},
     "output_type": "execute_result"
    }
   ],
   "source": [
    "# displaying the number of each genre under each App category\n",
    "query = google_store_clean.query('Category ==\"Beauty\"')\n",
    "query.groupby(['Category','Genres'])['App'].count().sort_values(ascending = False)"
   ]
  },
  {
   "cell_type": "code",
   "execution_count": 176,
   "metadata": {},
   "outputs": [
    {
     "data": {
      "text/plain": [
       "Category            Genres          \n",
       "Libraries And Demo  Libraries & Demo    84\n",
       "Name: App, dtype: int64"
      ]
     },
     "execution_count": 176,
     "metadata": {},
     "output_type": "execute_result"
    }
   ],
   "source": [
    "# displaying the number of each genre under each App category\n",
    "query = google_store_clean.query('Category ==\"Libraries And Demo\"')\n",
    "query.groupby(['Category','Genres'])['App'].count().sort_values(ascending = False)"
   ]
  },
  {
   "cell_type": "code",
   "execution_count": 177,
   "metadata": {
    "scrolled": true
   },
   "outputs": [
    {
     "data": {
      "text/plain": [
       "Category   Genres       \n",
       "Parenting  Parenting        60\n",
       "           Education         7\n",
       "           Music & Video     6\n",
       "           Brain Games       1\n",
       "Name: App, dtype: int64"
      ]
     },
     "execution_count": 177,
     "metadata": {},
     "output_type": "execute_result"
    }
   ],
   "source": [
    "# displaying the number of each genre under each App category\n",
    "query = google_store_clean.query('Category ==\"Parenting\"')\n",
    "query.groupby(['Category','Genres'])['App'].count().sort_values(ascending = False)"
   ]
  },
  {
   "cell_type": "markdown",
   "metadata": {},
   "source": [
    "The apps developers can benefit from the results above to develop an app under a rare genre and category to fufill the market needs."
   ]
  },
  {
   "cell_type": "markdown",
   "metadata": {},
   "source": [
    "#### What are the top 10 app genres ?"
   ]
  },
  {
   "cell_type": "code",
   "execution_count": 28,
   "metadata": {},
   "outputs": [
    {
     "data": {
      "text/plain": [
       "Text(0.5, 1.0, 'Number of Apps Under Each Genre')"
      ]
     },
     "execution_count": 28,
     "metadata": {},
     "output_type": "execute_result"
    },
    {
     "data": {
      "image/png": "[encoded data removed]",
      "text/plain": [
       "<Figure size 648x648 with 1 Axes>"
      ]
     },
     "metadata": {
      "needs_background": "light"
     },
     "output_type": "display_data"
    }
   ],
   "source": [
    "# checking the count of Apps produced genres\n",
    "app_cats = google_store_clean.groupby('Genres')['App'].count().sort_values()\n",
    "fig, ax = plt.subplots(figsize=(9,9))\n",
    "app_cats.plot(ax=ax,kind=\"barh\",colormap='summer')\n",
    "ax.set_xlabel('Number of Apps')\n",
    "ax.set_ylabel('Apps Genres')\n",
    "ax.set_title('Number of Apps Under Each Genre')"
   ]
  },
  {
   "cell_type": "markdown",
   "metadata": {},
   "source": [
    "The top 10 genres for Android mobile applications currently are :\n",
    "\n",
    "1. Tools. \n",
    "2. Education. \n",
    "3. Entertainment. \n",
    "4. Business.\n",
    "5. Medical.\n",
    "6. Personalization. \n",
    "7. Productivity.\n",
    "8. Lifestyle.\n",
    "9. Finance.\n",
    "10. Sports. "
   ]
  },
  {
   "cell_type": "markdown",
   "metadata": {},
   "source": [
    "#### Which is more produced : free apps or paid apps ?"
   ]
  },
  {
   "cell_type": "code",
   "execution_count": 18,
   "metadata": {},
   "outputs": [
    {
     "data": {
      "image/png": "[encoded data removed]",
      "text/plain": [
       "<Figure size 432x288 with 1 Axes>"
      ]
     },
     "metadata": {
      "needs_background": "light"
     },
     "output_type": "display_data"
    }
   ],
   "source": [
    "# drawing the plot\n",
    "ax = sns.countplot(y=\"Type\", data=google_store_clean)\n",
    "# setting the plot title\n",
    "plt.title('Types of Apps')\n",
    "# setting the x label title on the plot\n",
    "plt.xlabel('Number of Apps')\n",
    "\n",
    "# dispalying the precentage for each app type on the plot\n",
    "total = len(google_store_clean['Type'])\n",
    "for p in ax.patches:\n",
    "        percentage = '{:.1f}%'.format(100 * p.get_width()/total)\n",
    "        x = p.get_x() + p.get_width() + 0.02\n",
    "        y = p.get_y() + p.get_height()/2\n",
    "        ax.annotate(percentage, (x, y))\n",
    "# showing the plot\n",
    "plt.show()"
   ]
  },
  {
   "cell_type": "markdown",
   "metadata": {},
   "source": [
    "It can be seen from the above graph that free apps are more than paid apps. They account for 91.8% of total apps while the paid apps account for only 8.2%. "
   ]
  },
  {
   "cell_type": "markdown",
   "metadata": {},
   "source": [
    "#### Is their a relationship between the price of the app and the number of app installs ?"
   ]
  },
  {
   "cell_type": "code",
   "execution_count": 188,
   "metadata": {},
   "outputs": [
    {
     "data": {
      "text/plain": [
       "Text(0.5, 1.0, 'The Relationship Between the App Rating and Price')"
      ]
     },
     "execution_count": 188,
     "metadata": {},
     "output_type": "execute_result"
    },
    {
     "data": {
      "image/png": "[encoded data removed]",
      "text/plain": [
       "<Figure size 648x648 with 1 Axes>"
      ]
     },
     "metadata": {
      "needs_background": "light"
     },
     "output_type": "display_data"
    }
   ],
   "source": [
    "# plotting the scatter plot to show the relationship between the app price and the number of installs\n",
    "plt.figure(figsize = (9,9))\n",
    "sns.regplot(x=\"Price\", y=\"Rating\", color = 'darkorange',data=google_store_clean)\n",
    "plt.title('The Relationship Between the App Rating and Price',size = 20)"
   ]
  },
  {
   "cell_type": "code",
   "execution_count": 183,
   "metadata": {},
   "outputs": [
    {
     "data": {
      "text/plain": [
       "-0.009416933693207025"
      ]
     },
     "execution_count": 183,
     "metadata": {},
     "output_type": "execute_result"
    }
   ],
   "source": [
    "# find the correlation coffient between the two variables\n",
    "google_store_clean['Price'].corr(google_store_clean['Installs'])"
   ]
  },
  {
   "cell_type": "markdown",
   "metadata": {},
   "source": [
    "There is no apparent relationship between the price of the app and the number of installs. Therefore, I believe that the apps developers must focus on providing well featured apps that benefit users to get a more positive rating and profits."
   ]
  },
  {
   "cell_type": "markdown",
   "metadata": {},
   "source": [
    "#### Is there a relationship between the app rating the number of installs ?"
   ]
  },
  {
   "cell_type": "code",
   "execution_count": 191,
   "metadata": {},
   "outputs": [
    {
     "data": {
      "text/plain": [
       "Text(0.5, 1.0, 'The Relationship Between the App Rating and Number of Installs')"
      ]
     },
     "execution_count": 191,
     "metadata": {},
     "output_type": "execute_result"
    },
    {
     "data": {
      "image/png": "[encoded data removed]",
      "text/plain": [
       "<Figure size 648x648 with 1 Axes>"
      ]
     },
     "metadata": {
      "needs_background": "light"
     },
     "output_type": "display_data"
    }
   ],
   "source": [
    "# plotting the scatter plot to show the relationship between the app price and the number of installs\n",
    "plt.figure(figsize = (9,9))\n",
    "sns.regplot(x=\"Installs\", y=\"Rating\", color = 'teal',data=google_store_clean)\n",
    "plt.title('The Relationship Between the App Rating and Number of Installs',size = 20)"
   ]
  },
  {
   "cell_type": "code",
   "execution_count": 192,
   "metadata": {},
   "outputs": [
    {
     "data": {
      "text/plain": [
       "0.03936064045150467"
      ]
     },
     "execution_count": 192,
     "metadata": {},
     "output_type": "execute_result"
    }
   ],
   "source": [
    "# find the correlation coffient between the two variables\n",
    "google_store_clean['Rating'].corr(google_store_clean['Installs'])"
   ]
  },
  {
   "cell_type": "markdown",
   "metadata": {},
   "source": [
    "It appears that there is no apparent relationship between the app rating and the number of installs of the app itself. Therefore, I believe that the apps developers must focus on providing well featured apps that benefit users to get a more positive rating and profits."
   ]
  },
  {
   "cell_type": "markdown",
   "metadata": {},
   "source": [
    "#### What is the average number of installs for apps that target a specific audience under each app category ?"
   ]
  },
  {
   "cell_type": "code",
   "execution_count": 56,
   "metadata": {},
   "outputs": [
    {
     "data": {
      "text/plain": [
       "Category  Content Rating \n",
       "Sports    Teen               9.754400e+06\n",
       "          Everyone 10+       3.651571e+06\n",
       "          Everyone           3.087840e+06\n",
       "          Mature 17+         2.333333e+06\n",
       "          Adults only 18+    1.000000e+06\n",
       "Name: Installs, dtype: float64"
      ]
     },
     "execution_count": 56,
     "metadata": {},
     "output_type": "execute_result"
    }
   ],
   "source": [
    "# selecting an app category \n",
    "# grouping by category and content rating with the average number of installs and then sorting dscendingly \n",
    "category = google_store_clean.query('Category ==\"Sports\"')\n",
    "category.groupby(['Category','Content Rating'])['Installs'].mean().sort_values(ascending = False)"
   ]
  },
  {
   "cell_type": "code",
   "execution_count": 57,
   "metadata": {},
   "outputs": [
    {
     "data": {
      "text/plain": [
       "Category  Content Rating\n",
       "Social    Teen              4.209964e+07\n",
       "          Mature 17+        1.565824e+07\n",
       "          Everyone          4.158332e+06\n",
       "          Everyone 10+      5.050000e+05\n",
       "Name: Installs, dtype: float64"
      ]
     },
     "execution_count": 57,
     "metadata": {},
     "output_type": "execute_result"
    }
   ],
   "source": [
    "# selecting an app category \n",
    "# grouping by category and content rating with the average number of installs and then sorting dscendingly \n",
    "category = google_store_clean.query('Category ==\"Social\"')\n",
    "category.groupby(['Category','Content Rating'])['Installs'].mean().sort_values(ascending = False)"
   ]
  },
  {
   "cell_type": "code",
   "execution_count": 58,
   "metadata": {},
   "outputs": [
    {
     "data": {
      "text/plain": [
       "Category  Content Rating \n",
       "Comics    Teen               1.515000e+06\n",
       "          Adults only 18+    5.000000e+05\n",
       "          Everyone           4.639296e+05\n",
       "          Mature 17+         3.683333e+05\n",
       "          Everyone 10+       1.700167e+05\n",
       "Name: Installs, dtype: float64"
      ]
     },
     "execution_count": 58,
     "metadata": {},
     "output_type": "execute_result"
    }
   ],
   "source": [
    "# selecting an app category \n",
    "# grouping by category and content rating with the average number of installs and then sorting dscendingly \n",
    "category = google_store_clean.query('Category ==\"Comics\"')\n",
    "category.groupby(['Category','Content Rating'])['Installs'].mean().sort_values(ascending = False)"
   ]
  },
  {
   "cell_type": "code",
   "execution_count": 59,
   "metadata": {},
   "outputs": [
    {
     "data": {
      "text/plain": [
       "Category  Content Rating\n",
       "Tools     Teen              1.200402e+07\n",
       "          Everyone          9.697191e+06\n",
       "          Unrated           5.000000e+04\n",
       "          Mature 17+        2.550000e+03\n",
       "Name: Installs, dtype: float64"
      ]
     },
     "execution_count": 59,
     "metadata": {},
     "output_type": "execute_result"
    }
   ],
   "source": [
    "# selecting an app category \n",
    "# grouping by category and content rating with the average number of installs and then sorting dscendingly \n",
    "category = google_store_clean.query('Category ==\"Tools\"')\n",
    "category.groupby(['Category','Content Rating'])['Installs'].mean().sort_values(ascending = False)"
   ]
  },
  {
   "cell_type": "code",
   "execution_count": 60,
   "metadata": {
    "scrolled": true
   },
   "outputs": [
    {
     "data": {
      "text/plain": [
       "Category       Content Rating\n",
       "Communication  Everyone          3.579839e+07\n",
       "               Teen              3.091173e+07\n",
       "               Mature 17+        2.251375e+07\n",
       "Name: Installs, dtype: float64"
      ]
     },
     "execution_count": 60,
     "metadata": {},
     "output_type": "execute_result"
    }
   ],
   "source": [
    "# selecting an app category \n",
    "# grouping by category and content rating with the average number of installs and then sorting dscendingly \n",
    "category = google_store_clean.query('Category ==\"Communication\"')\n",
    "category.groupby(['Category','Content Rating'])['Installs'].mean().sort_values(ascending = False)"
   ]
  },
  {
   "cell_type": "code",
   "execution_count": 62,
   "metadata": {
    "scrolled": true
   },
   "outputs": [
    {
     "data": {
      "text/plain": [
       "Category            Content Rating\n",
       "News And Magazines  Mature 17+        4.850136e+07\n",
       "                    Teen              3.916242e+07\n",
       "                    Everyone 10+      1.291211e+07\n",
       "                    Everyone          6.311639e+05\n",
       "Name: Installs, dtype: float64"
      ]
     },
     "execution_count": 62,
     "metadata": {},
     "output_type": "execute_result"
    }
   ],
   "source": [
    "# selecting an app category \n",
    "# grouping by category and content rating with the average number of installs and then sorting dscendingly \n",
    "category = google_store_clean.query('Category ==\"News And Magazines\"')\n",
    "category.groupby(['Category','Content Rating'])['Installs'].mean().sort_values(ascending = False)"
   ]
  },
  {
   "cell_type": "code",
   "execution_count": 63,
   "metadata": {},
   "outputs": [
    {
     "data": {
      "text/plain": [
       "Category            Content Rating\n",
       "Health And Fitness  Everyone          4.310933e+06\n",
       "                    Teen              1.428989e+06\n",
       "                    Mature 17+        6.202000e+05\n",
       "                    Everyone 10+      2.583517e+05\n",
       "Name: Installs, dtype: float64"
      ]
     },
     "execution_count": 63,
     "metadata": {},
     "output_type": "execute_result"
    }
   ],
   "source": [
    "# selecting an app category \n",
    "# grouping by category and content rating with the average number of installs and then sorting dscendingly \n",
    "category = google_store_clean.query('Category ==\"Health And Fitness\"')\n",
    "category.groupby(['Category','Content Rating'])['Installs'].mean().sort_values(ascending = False)"
   ]
  },
  {
   "cell_type": "code",
   "execution_count": 64,
   "metadata": {},
   "outputs": [
    {
     "data": {
      "text/plain": [
       "Category  Content Rating\n",
       "Family    Everyone 10+      5.251043e+06\n",
       "          Teen              3.626739e+06\n",
       "          Everyone          2.232681e+06\n",
       "          Mature 17+        1.278601e+06\n",
       "          Unrated           5.000000e+02\n",
       "Name: Installs, dtype: float64"
      ]
     },
     "execution_count": 64,
     "metadata": {},
     "output_type": "execute_result"
    }
   ],
   "source": [
    "# selecting an app category \n",
    "# grouping by category and content rating with the average number of installs and then sorting dscendingly \n",
    "category = google_store_clean.query('Category ==\"Family\"')\n",
    "category.groupby(['Category','Content Rating'])['Installs'].mean().sort_values(ascending = False)"
   ]
  },
  {
   "cell_type": "code",
   "execution_count": 65,
   "metadata": {},
   "outputs": [
    {
     "data": {
      "text/plain": [
       "Category             Content Rating\n",
       "Books And Reference  Teen              8.433029e+07\n",
       "                     Everyone 10+      2.777500e+06\n",
       "                     Mature 17+        1.833667e+06\n",
       "                     Everyone          1.089614e+06\n",
       "Name: Installs, dtype: float64"
      ]
     },
     "execution_count": 65,
     "metadata": {},
     "output_type": "execute_result"
    }
   ],
   "source": [
    "# selecting an app category \n",
    "# grouping by category and content rating with the average number of installs and then sorting dscendingly \n",
    "category = google_store_clean.query('Category ==\"Books And Reference\"')\n",
    "category.groupby(['Category','Content Rating'])['Installs'].mean().sort_values(ascending = False)"
   ]
  },
  {
   "cell_type": "code",
   "execution_count": 66,
   "metadata": {},
   "outputs": [
    {
     "data": {
      "text/plain": [
       "Category   Content Rating\n",
       "Lifestyle  Mature 17+        1.251289e+07\n",
       "           Everyone 10+      2.040200e+06\n",
       "           Everyone          1.145595e+06\n",
       "           Teen              3.808100e+05\n",
       "Name: Installs, dtype: float64"
      ]
     },
     "execution_count": 66,
     "metadata": {},
     "output_type": "execute_result"
    }
   ],
   "source": [
    "# selecting an app category \n",
    "# grouping by category and content rating with the average number of installs and then sorting dscendingly \n",
    "category = google_store_clean.query('Category ==\"Lifestyle\"')\n",
    "category.groupby(['Category','Content Rating'])['Installs'].mean().sort_values(ascending = False)"
   ]
  },
  {
   "cell_type": "code",
   "execution_count": 67,
   "metadata": {
    "scrolled": true
   },
   "outputs": [
    {
     "data": {
      "text/plain": [
       "Category  Content Rating\n",
       "Business  Everyone          1.721140e+06\n",
       "          Teen              7.917692e+03\n",
       "          Everyone 10+      1.000000e+02\n",
       "          Mature 17+        5.000000e+00\n",
       "Name: Installs, dtype: float64"
      ]
     },
     "execution_count": 67,
     "metadata": {},
     "output_type": "execute_result"
    }
   ],
   "source": [
    "# selecting an app category \n",
    "# grouping by category and content rating with the average number of installs and then sorting dscendingly \n",
    "category = google_store_clean.query('Category ==\"Business\"')\n",
    "category.groupby(['Category','Content Rating'])['Installs'].mean().sort_values(ascending = False)"
   ]
  },
  {
   "cell_type": "code",
   "execution_count": 68,
   "metadata": {},
   "outputs": [
    {
     "data": {
      "text/plain": [
       "Category  Content Rating\n",
       "Shopping  Teen              2.307593e+07\n",
       "          Mature 17+        5.033333e+06\n",
       "          Everyone          4.431387e+06\n",
       "Name: Installs, dtype: float64"
      ]
     },
     "execution_count": 68,
     "metadata": {},
     "output_type": "execute_result"
    }
   ],
   "source": [
    "# selecting an app category \n",
    "# grouping by category and content rating with the average number of installs and then sorting dscendingly \n",
    "category = google_store_clean.query('Category ==\"Shopping\"')\n",
    "category.groupby(['Category','Content Rating'])['Installs'].mean().sort_values(ascending = False)"
   ]
  },
  {
   "cell_type": "code",
   "execution_count": 69,
   "metadata": {},
   "outputs": [
    {
     "data": {
      "text/plain": [
       "Category  Content Rating\n",
       "Medical   Everyone          100541.795756\n",
       "          Everyone 10+       21513.750000\n",
       "          Teen               12222.000000\n",
       "          Mature 17+         11140.000000\n",
       "Name: Installs, dtype: float64"
      ]
     },
     "execution_count": 69,
     "metadata": {},
     "output_type": "execute_result"
    }
   ],
   "source": [
    "# selecting an app category \n",
    "# grouping by category and content rating with the average number of installs and then sorting dscendingly \n",
    "category = google_store_clean.query('Category ==\"Medical\"')\n",
    "category.groupby(['Category','Content Rating'])['Installs'].mean().sort_values(ascending = False)"
   ]
  },
  {
   "cell_type": "code",
   "execution_count": 70,
   "metadata": {},
   "outputs": [
    {
     "data": {
      "text/plain": [
       "Category  Content Rating\n",
       "Game      Everyone 10+      2.652648e+07\n",
       "          Everyone          1.708689e+07\n",
       "          Mature 17+        7.871111e+06\n",
       "          Teen              7.616992e+06\n",
       "Name: Installs, dtype: float64"
      ]
     },
     "execution_count": 70,
     "metadata": {},
     "output_type": "execute_result"
    }
   ],
   "source": [
    "# selecting an app category \n",
    "# grouping by category and content rating with the average number of installs and then sorting dscendingly \n",
    "category = google_store_clean.query('Category ==\"Game\"')\n",
    "category.groupby(['Category','Content Rating'])['Installs'].mean().sort_values(ascending = False)"
   ]
  },
  {
   "cell_type": "code",
   "execution_count": 71,
   "metadata": {},
   "outputs": [
    {
     "data": {
      "text/plain": [
       "Category  Content Rating\n",
       "Finance   Everyone          1.335990e+06\n",
       "          Teen              2.224000e+05\n",
       "Name: Installs, dtype: float64"
      ]
     },
     "execution_count": 71,
     "metadata": {},
     "output_type": "execute_result"
    }
   ],
   "source": [
    "# selecting an app category \n",
    "# grouping by category and content rating with the average number of installs and then sorting dscendingly \n",
    "category = google_store_clean.query('Category ==\"Finance\"')\n",
    "category.groupby(['Category','Content Rating'])['Installs'].mean().sort_values(ascending = False)"
   ]
  },
  {
   "cell_type": "code",
   "execution_count": 72,
   "metadata": {},
   "outputs": [
    {
     "data": {
      "text/plain": [
       "Category         Content Rating\n",
       "Personalization  Teen              6.680516e+06\n",
       "                 Everyone          3.786358e+06\n",
       "                 Everyone 10+      2.502000e+06\n",
       "                 Mature 17+        1.912233e+05\n",
       "Name: Installs, dtype: float64"
      ]
     },
     "execution_count": 72,
     "metadata": {},
     "output_type": "execute_result"
    }
   ],
   "source": [
    "# selecting an app category \n",
    "# grouping by category and content rating with the average number of installs and then sorting dscendingly \n",
    "category = google_store_clean.query('Category ==\"Personalization\"')\n",
    "category.groupby(['Category','Content Rating'])['Installs'].mean().sort_values(ascending = False)"
   ]
  },
  {
   "cell_type": "code",
   "execution_count": 73,
   "metadata": {},
   "outputs": [
    {
     "data": {
      "text/plain": [
       "Category     Content Rating\n",
       "Photography  Mature 17+        3.700000e+07\n",
       "             Everyone          1.633075e+07\n",
       "             Teen              1.615070e+07\n",
       "Name: Installs, dtype: float64"
      ]
     },
     "execution_count": 73,
     "metadata": {},
     "output_type": "execute_result"
    }
   ],
   "source": [
    "# selecting an app category \n",
    "# grouping by category and content rating with the average number of installs and then sorting dscendingly \n",
    "category = google_store_clean.query('Category ==\"Photography\"')\n",
    "category.groupby(['Category','Content Rating'])['Installs'].mean().sort_values(ascending = False)"
   ]
  },
  {
   "cell_type": "code",
   "execution_count": 74,
   "metadata": {
    "scrolled": true
   },
   "outputs": [
    {
     "data": {
      "text/plain": [
       "Category          Content Rating\n",
       "Travel And Local  Everyone          1.344313e+07\n",
       "                  Mature 17+        1.000000e+07\n",
       "                  Teen              3.600008e+06\n",
       "Name: Installs, dtype: float64"
      ]
     },
     "execution_count": 74,
     "metadata": {},
     "output_type": "execute_result"
    }
   ],
   "source": [
    "# selecting an app category \n",
    "# grouping by category and content rating with the average number of installs and then sorting dscendingly \n",
    "category = google_store_clean.query('Category ==\"Travel And Local\"')\n",
    "category.groupby(['Category','Content Rating'])['Installs'].mean().sort_values(ascending = False)"
   ]
  },
  {
   "cell_type": "code",
   "execution_count": 75,
   "metadata": {},
   "outputs": [
    {
     "data": {
      "text/plain": [
       "Category  Content Rating\n",
       "Dating    Mature 17+        957915.868966\n",
       "          Teen              112323.333333\n",
       "          Everyone           59846.823529\n",
       "Name: Installs, dtype: float64"
      ]
     },
     "execution_count": 75,
     "metadata": {},
     "output_type": "execute_result"
    }
   ],
   "source": [
    "# selecting an app category \n",
    "# grouping by category and content rating with the average number of installs and then sorting dscendingly \n",
    "category = google_store_clean.query('Category ==\"Dating\"')\n",
    "category.groupby(['Category','Content Rating'])['Installs'].mean().sort_values(ascending = False)"
   ]
  },
  {
   "cell_type": "code",
   "execution_count": 76,
   "metadata": {},
   "outputs": [
    {
     "data": {
      "text/plain": [
       "Category      Content Rating\n",
       "Productivity  Everyone          1.593136e+07\n",
       "              Teen              1.111347e+06\n",
       "              Everyone 10+      5.000000e+03\n",
       "              Mature 17+        1.000000e+03\n",
       "Name: Installs, dtype: float64"
      ]
     },
     "execution_count": 76,
     "metadata": {},
     "output_type": "execute_result"
    }
   ],
   "source": [
    "# selecting an app category \n",
    "# grouping by category and content rating with the average number of installs and then sorting dscendingly \n",
    "category = google_store_clean.query('Category ==\"Productivity\"')\n",
    "category.groupby(['Category','Content Rating'])['Installs'].mean().sort_values(ascending = False)"
   ]
  },
  {
   "cell_type": "code",
   "execution_count": 77,
   "metadata": {},
   "outputs": [
    {
     "data": {
      "text/plain": [
       "Category        Content Rating\n",
       "Art And Design  Teen              2.000333e+07\n",
       "                Everyone          8.304194e+05\n",
       "                Everyone 10+      5.000000e+05\n",
       "Name: Installs, dtype: float64"
      ]
     },
     "execution_count": 77,
     "metadata": {},
     "output_type": "execute_result"
    }
   ],
   "source": [
    "# selecting an app category \n",
    "# grouping by category and content rating with the average number of installs and then sorting dscendingly \n",
    "category = google_store_clean.query('Category ==\"Art And Design\"')\n",
    "category.groupby(['Category','Content Rating'])['Installs'].mean().sort_values(ascending = False)"
   ]
  },
  {
   "cell_type": "code",
   "execution_count": 78,
   "metadata": {
    "scrolled": true
   },
   "outputs": [
    {
     "data": {
      "text/plain": [
       "Category        Content Rating\n",
       "Food And Drink  Teen              2.137576e+06\n",
       "                Everyone          1.907727e+06\n",
       "                Everyone 10+      5.500000e+04\n",
       "Name: Installs, dtype: float64"
      ]
     },
     "execution_count": 78,
     "metadata": {},
     "output_type": "execute_result"
    }
   ],
   "source": [
    "# selecting an app category \n",
    "# grouping by category and content rating with the average number of installs and then sorting dscendingly \n",
    "category = google_store_clean.query('Category ==\"Food And Drink\"')\n",
    "category.groupby(['Category','Content Rating'])['Installs'].mean().sort_values(ascending = False)"
   ]
  },
  {
   "cell_type": "code",
   "execution_count": 79,
   "metadata": {},
   "outputs": [
    {
     "data": {
      "text/plain": [
       "Category       Content Rating\n",
       "Video Players  Teen              1.160074e+08\n",
       "               Everyone          1.073027e+07\n",
       "               Everyone 10+      6.700000e+06\n",
       "               Mature 17+        3.533333e+06\n",
       "Name: Installs, dtype: float64"
      ]
     },
     "execution_count": 79,
     "metadata": {},
     "output_type": "execute_result"
    }
   ],
   "source": [
    "# selecting an app category \n",
    "# grouping by category and content rating with the average number of installs and then sorting dscendingly \n",
    "category = google_store_clean.query('Category ==\"Video Players\"')\n",
    "category.groupby(['Category','Content Rating'])['Installs'].mean().sort_values(ascending = False)"
   ]
  },
  {
   "cell_type": "code",
   "execution_count": 80,
   "metadata": {},
   "outputs": [
    {
     "data": {
      "text/plain": [
       "Category        Content Rating\n",
       "House And Home  Everyone          1.343090e+06\n",
       "                Teen              2.550000e+05\n",
       "Name: Installs, dtype: float64"
      ]
     },
     "execution_count": 80,
     "metadata": {},
     "output_type": "execute_result"
    }
   ],
   "source": [
    "# selecting an app category \n",
    "# grouping by category and content rating with the average number of installs and then sorting dscendingly \n",
    "category = google_store_clean.query('Category ==\"House And Home\"')\n",
    "category.groupby(['Category','Content Rating'])['Installs'].mean().sort_values(ascending = False)"
   ]
  },
  {
   "cell_type": "code",
   "execution_count": 81,
   "metadata": {},
   "outputs": [
    {
     "data": {
      "text/plain": [
       "Category             Content Rating\n",
       "Maps And Navigation  Everyone          3.922613e+06\n",
       "                     Teen              2.550000e+06\n",
       "                     Mature 17+        1.000000e+04\n",
       "                     Everyone 10+      1.000000e+02\n",
       "Name: Installs, dtype: float64"
      ]
     },
     "execution_count": 81,
     "metadata": {},
     "output_type": "execute_result"
    }
   ],
   "source": [
    "# selecting an app category \n",
    "# grouping by category and content rating with the average number of installs and then sorting dscendingly \n",
    "category = google_store_clean.query('Category ==\"Maps And Navigation\"')\n",
    "category.groupby(['Category','Content Rating'])['Installs'].mean().sort_values(ascending = False)"
   ]
  },
  {
   "cell_type": "code",
   "execution_count": 82,
   "metadata": {
    "scrolled": true
   },
   "outputs": [
    {
     "data": {
      "text/plain": [
       "Category       Content Rating\n",
       "Entertainment  Teen              2.795632e+07\n",
       "               Everyone          1.243667e+07\n",
       "               Everyone 10+      5.500000e+06\n",
       "               Mature 17+        3.850000e+06\n",
       "Name: Installs, dtype: float64"
      ]
     },
     "execution_count": 82,
     "metadata": {},
     "output_type": "execute_result"
    }
   ],
   "source": [
    "# selecting an app category \n",
    "# grouping by category and content rating with the average number of installs and then sorting dscendingly \n",
    "category = google_store_clean.query('Category ==\"Entertainment\"')\n",
    "category.groupby(['Category','Content Rating'])['Installs'].mean().sort_values(ascending = False)"
   ]
  },
  {
   "cell_type": "code",
   "execution_count": 83,
   "metadata": {},
   "outputs": [
    {
     "data": {
      "text/plain": [
       "Category  Content Rating\n",
       "Events    Everyone          278583.981132\n",
       "          Teen              138388.750000\n",
       "          Everyone 10+       33700.000000\n",
       "Name: Installs, dtype: float64"
      ]
     },
     "execution_count": 83,
     "metadata": {},
     "output_type": "execute_result"
    }
   ],
   "source": [
    "# selecting an app category \n",
    "# grouping by category and content rating with the average number of installs and then sorting dscendingly \n",
    "category = google_store_clean.query('Category ==\"Events\"')\n",
    "category.groupby(['Category','Content Rating'])['Installs'].mean().sort_values(ascending = False)"
   ]
  },
  {
   "cell_type": "code",
   "execution_count": 84,
   "metadata": {},
   "outputs": [
    {
     "data": {
      "text/plain": [
       "Category   Content Rating\n",
       "Education  Everyone 10+      7.000000e+06\n",
       "           Everyone          3.675030e+06\n",
       "           Teen              1.000000e+06\n",
       "           Mature 17+        6.833333e+05\n",
       "Name: Installs, dtype: float64"
      ]
     },
     "execution_count": 84,
     "metadata": {},
     "output_type": "execute_result"
    }
   ],
   "source": [
    "# selecting an app category \n",
    "# grouping by category and content rating with the average number of installs and then sorting dscendingly \n",
    "category = google_store_clean.query('Category ==\"Education\"')\n",
    "category.groupby(['Category','Content Rating'])['Installs'].mean().sort_values(ascending = False)"
   ]
  },
  {
   "cell_type": "code",
   "execution_count": 85,
   "metadata": {},
   "outputs": [
    {
     "data": {
      "text/plain": [
       "Category           Content Rating\n",
       "Auto And Vehicles  Teen              1.000000e+07\n",
       "                   Everyone 10+      1.000000e+06\n",
       "                   Everyone          5.075929e+05\n",
       "Name: Installs, dtype: float64"
      ]
     },
     "execution_count": 85,
     "metadata": {},
     "output_type": "execute_result"
    }
   ],
   "source": [
    "# selecting an app category \n",
    "# grouping by category and content rating with the average number of installs and then sorting dscendingly \n",
    "category = google_store_clean.query('Category ==\"Auto And Vehicles\"')\n",
    "category.groupby(['Category','Content Rating'])['Installs'].mean().sort_values(ascending = False)"
   ]
  },
  {
   "cell_type": "code",
   "execution_count": 86,
   "metadata": {},
   "outputs": [
    {
     "data": {
      "text/plain": [
       "Category  Content Rating\n",
       "Weather   Everyone 10+      1.000000e+07\n",
       "          Everyone          4.660007e+06\n",
       "          Mature 17+        1.000000e+06\n",
       "          Teen              3.000000e+05\n",
       "Name: Installs, dtype: float64"
      ]
     },
     "execution_count": 86,
     "metadata": {},
     "output_type": "execute_result"
    }
   ],
   "source": [
    "# selecting an app category \n",
    "# grouping by category and content rating with the average number of installs and then sorting dscendingly \n",
    "category = google_store_clean.query('Category ==\"Weather\"')\n",
    "category.groupby(['Category','Content Rating'])['Installs'].mean().sort_values(ascending = False)"
   ]
  },
  {
   "cell_type": "code",
   "execution_count": 87,
   "metadata": {},
   "outputs": [
    {
     "data": {
      "text/plain": [
       "Category  Content Rating\n",
       "Beauty    Everyone          593712.222222\n",
       "          Teen               83333.333333\n",
       "          Everyone 10+       55000.000000\n",
       "          Mature 17+         40000.000000\n",
       "Name: Installs, dtype: float64"
      ]
     },
     "execution_count": 87,
     "metadata": {},
     "output_type": "execute_result"
    }
   ],
   "source": [
    "# selecting an app category \n",
    "# grouping by category and content rating with the average number of installs and then sorting dscendingly \n",
    "category = google_store_clean.query('Category ==\"Beauty\"')\n",
    "category.groupby(['Category','Content Rating'])['Installs'].mean().sort_values(ascending = False)"
   ]
  },
  {
   "cell_type": "code",
   "execution_count": 88,
   "metadata": {},
   "outputs": [
    {
     "data": {
      "text/plain": [
       "Category            Content Rating\n",
       "Libraries And Demo  Everyone          630903.690476\n",
       "Name: Installs, dtype: float64"
      ]
     },
     "execution_count": 88,
     "metadata": {},
     "output_type": "execute_result"
    }
   ],
   "source": [
    "# selecting an app category \n",
    "# grouping by category and content rating with the average number of installs and then sorting dscendingly \n",
    "category = google_store_clean.query('Category ==\"Libraries And Demo\"')\n",
    "category.groupby(['Category','Content Rating'])['Installs'].mean().sort_values(ascending = False)"
   ]
  },
  {
   "cell_type": "code",
   "execution_count": 91,
   "metadata": {
    "scrolled": true
   },
   "outputs": [
    {
     "data": {
      "text/plain": [
       "Category   Content Rating\n",
       "Parenting  Everyone          586820.972222\n",
       "           Mature 17+        100000.000000\n",
       "           Teen               50000.000000\n",
       "Name: Installs, dtype: float64"
      ]
     },
     "execution_count": 91,
     "metadata": {},
     "output_type": "execute_result"
    }
   ],
   "source": [
    "# selecting an app category \n",
    "# grouping by category and content rating with the average number of installs and then sorting dscendingly \n",
    "category = google_store_clean.query('Category ==\"Parenting\"')\n",
    "category.groupby(['Category','Content Rating'])['Installs'].mean().sort_values(ascending = False)"
   ]
  },
  {
   "cell_type": "markdown",
   "metadata": {},
   "source": [
    "#### What is the average rating for apps that target specific audience under each app category ?"
   ]
  },
  {
   "cell_type": "code",
   "execution_count": 95,
   "metadata": {
    "scrolled": true
   },
   "outputs": [
    {
     "data": {
      "text/plain": [
       "Category  Content Rating \n",
       "Sports    Adults only 18+    4.500000\n",
       "          Mature 17+         4.400000\n",
       "          Everyone 10+       4.366667\n",
       "          Everyone           4.211814\n",
       "          Teen               4.161538\n",
       "Name: Rating, dtype: float64"
      ]
     },
     "execution_count": 95,
     "metadata": {},
     "output_type": "execute_result"
    }
   ],
   "source": [
    "# selecting an app category \n",
    "# grouping by category and content rating with the rating average and then sorting dscendingly \n",
    "category = google_store_clean.query('Category ==\"Sports\"')\n",
    "category.groupby(['Category','Content Rating'])['Rating'].mean().sort_values(ascending = False)"
   ]
  },
  {
   "cell_type": "code",
   "execution_count": 96,
   "metadata": {},
   "outputs": [
    {
     "data": {
      "text/plain": [
       "Category  Content Rating\n",
       "Social    Everyone          4.307042\n",
       "          Teen              4.289535\n",
       "          Everyone 10+      4.100000\n",
       "          Mature 17+        4.075000\n",
       "Name: Rating, dtype: float64"
      ]
     },
     "execution_count": 96,
     "metadata": {},
     "output_type": "execute_result"
    }
   ],
   "source": [
    "# selecting an app category \n",
    "# grouping by category and content rating with the rating average and then sorting dscendingly \n",
    "category = google_store_clean.query('Category ==\"Social\"')\n",
    "category.groupby(['Category','Content Rating'])['Rating'].mean().sort_values(ascending = False)"
   ]
  },
  {
   "cell_type": "code",
   "execution_count": 97,
   "metadata": {},
   "outputs": [
    {
     "data": {
      "text/plain": [
       "Category  Content Rating \n",
       "Comics    Everyone 10+       4.450000\n",
       "          Everyone           4.361538\n",
       "          Adults only 18+    4.200000\n",
       "          Teen               4.036842\n",
       "          Mature 17+         3.866667\n",
       "Name: Rating, dtype: float64"
      ]
     },
     "execution_count": 97,
     "metadata": {},
     "output_type": "execute_result"
    }
   ],
   "source": [
    "# selecting an app category \n",
    "# grouping by category and content rating with the rating average and then sorting dscendingly \n",
    "category = google_store_clean.query('Category ==\"Comics\"')\n",
    "category.groupby(['Category','Content Rating'])['Rating'].mean().sort_values(ascending = False)"
   ]
  },
  {
   "cell_type": "code",
   "execution_count": 98,
   "metadata": {},
   "outputs": [
    {
     "data": {
      "text/plain": [
       "Category  Content Rating\n",
       "Tools     Teen              4.50000\n",
       "          Unrated           4.10000\n",
       "          Everyone          4.03736\n",
       "          Mature 17+        3.70000\n",
       "Name: Rating, dtype: float64"
      ]
     },
     "execution_count": 98,
     "metadata": {},
     "output_type": "execute_result"
    }
   ],
   "source": [
    "# selecting an app category \n",
    "# grouping by category and content rating with the rating average and then sorting dscendingly \n",
    "category = google_store_clean.query('Category ==\"Tools\"')\n",
    "category.groupby(['Category','Content Rating'])['Rating'].mean().sort_values(ascending = False)"
   ]
  },
  {
   "cell_type": "code",
   "execution_count": 99,
   "metadata": {},
   "outputs": [
    {
     "data": {
      "text/plain": [
       "Category       Content Rating\n",
       "Communication  Teen              4.294737\n",
       "               Mature 17+        4.285714\n",
       "               Everyone          4.102174\n",
       "Name: Rating, dtype: float64"
      ]
     },
     "execution_count": 99,
     "metadata": {},
     "output_type": "execute_result"
    }
   ],
   "source": [
    "# selecting an app category \n",
    "# grouping by category and content rating with the rating average and then sorting dscendingly \n",
    "category = google_store_clean.query('Category ==\"Communication\"')\n",
    "category.groupby(['Category','Content Rating'])['Rating'].mean().sort_values(ascending = False)"
   ]
  },
  {
   "cell_type": "code",
   "execution_count": 100,
   "metadata": {},
   "outputs": [
    {
     "data": {
      "text/plain": [
       "Category            Content Rating\n",
       "News And Magazines  Mature 17+        4.270000\n",
       "                    Teen              4.234615\n",
       "                    Everyone          4.120968\n",
       "                    Everyone 10+      4.022727\n",
       "Name: Rating, dtype: float64"
      ]
     },
     "execution_count": 100,
     "metadata": {},
     "output_type": "execute_result"
    }
   ],
   "source": [
    "# selecting an app category \n",
    "# grouping by category and content rating with the rating average and then sorting dscendingly \n",
    "category = google_store_clean.query('Category ==\"News And Magazines\"')\n",
    "category.groupby(['Category','Content Rating'])['Rating'].mean().sort_values(ascending = False)"
   ]
  },
  {
   "cell_type": "code",
   "execution_count": 101,
   "metadata": {},
   "outputs": [
    {
     "data": {
      "text/plain": [
       "Category            Content Rating\n",
       "Health And Fitness  Mature 17+        4.340000\n",
       "                    Teen              4.325000\n",
       "                    Everyone          4.240826\n",
       "                    Everyone 10+      3.980000\n",
       "Name: Rating, dtype: float64"
      ]
     },
     "execution_count": 101,
     "metadata": {},
     "output_type": "execute_result"
    }
   ],
   "source": [
    "# selecting an app category \n",
    "# grouping by category and content rating with the rating average and then sorting dscendingly \n",
    "category = google_store_clean.query('Category ==\"Health And Fitness\"')\n",
    "category.groupby(['Category','Content Rating'])['Rating'].mean().sort_values(ascending = False)"
   ]
  },
  {
   "cell_type": "code",
   "execution_count": 102,
   "metadata": {},
   "outputs": [
    {
     "data": {
      "text/plain": [
       "Category  Content Rating\n",
       "Family    Everyone 10+      4.234677\n",
       "          Everyone          4.198764\n",
       "          Mature 17+        4.193182\n",
       "          Teen              4.148869\n",
       "          Unrated                NaN\n",
       "Name: Rating, dtype: float64"
      ]
     },
     "execution_count": 102,
     "metadata": {},
     "output_type": "execute_result"
    }
   ],
   "source": [
    "# selecting an app category \n",
    "# grouping by category and content rating with the rating average and then sorting dscendingly \n",
    "category = google_store_clean.query('Category ==\"Family\"')\n",
    "category.groupby(['Category','Content Rating'])['Rating'].mean().sort_values(ascending = False)"
   ]
  },
  {
   "cell_type": "code",
   "execution_count": 103,
   "metadata": {},
   "outputs": [
    {
     "data": {
      "text/plain": [
       "Category             Content Rating\n",
       "Books And Reference  Everyone 10+      4.475000\n",
       "                     Everyone          4.351370\n",
       "                     Teen              4.287500\n",
       "                     Mature 17+        4.166667\n",
       "Name: Rating, dtype: float64"
      ]
     },
     "execution_count": 103,
     "metadata": {},
     "output_type": "execute_result"
    }
   ],
   "source": [
    "# selecting an app category \n",
    "# grouping by category and content rating with the rating average and then sorting dscendingly \n",
    "category = google_store_clean.query('Category ==\"Books And Reference\"')\n",
    "category.groupby(['Category','Content Rating'])['Rating'].mean().sort_values(ascending = False)"
   ]
  },
  {
   "cell_type": "code",
   "execution_count": 104,
   "metadata": {},
   "outputs": [
    {
     "data": {
      "text/plain": [
       "Category   Content Rating\n",
       "Lifestyle  Teen              4.435294\n",
       "           Mature 17+        4.255556\n",
       "           Everyone          4.070849\n",
       "           Everyone 10+      3.840000\n",
       "Name: Rating, dtype: float64"
      ]
     },
     "execution_count": 104,
     "metadata": {},
     "output_type": "execute_result"
    }
   ],
   "source": [
    "# selecting an app category \n",
    "# grouping by category and content rating with the rating average and then sorting dscendingly \n",
    "category = google_store_clean.query('Category ==\"Lifestyle\"')\n",
    "category.groupby(['Category','Content Rating'])['Rating'].mean().sort_values(ascending = False)"
   ]
  },
  {
   "cell_type": "code",
   "execution_count": 105,
   "metadata": {},
   "outputs": [
    {
     "data": {
      "text/plain": [
       "Category  Content Rating\n",
       "Business  Teen              4.300000\n",
       "          Everyone          4.095367\n",
       "          Everyone 10+           NaN\n",
       "          Mature 17+             NaN\n",
       "Name: Rating, dtype: float64"
      ]
     },
     "execution_count": 105,
     "metadata": {},
     "output_type": "execute_result"
    }
   ],
   "source": [
    "# selecting an app category \n",
    "# grouping by category and content rating with the rating average and then sorting dscendingly \n",
    "category = google_store_clean.query('Category ==\"Business\"')\n",
    "category.groupby(['Category','Content Rating'])['Rating'].mean().sort_values(ascending = False)"
   ]
  },
  {
   "cell_type": "code",
   "execution_count": 106,
   "metadata": {},
   "outputs": [
    {
     "data": {
      "text/plain": [
       "Category  Content Rating\n",
       "Shopping  Teen              4.315385\n",
       "          Mature 17+        4.266667\n",
       "          Everyone          4.214570\n",
       "Name: Rating, dtype: float64"
      ]
     },
     "execution_count": 106,
     "metadata": {},
     "output_type": "execute_result"
    }
   ],
   "source": [
    "# selecting an app category \n",
    "# grouping by category and content rating with the rating average and then sorting dscendingly \n",
    "category = google_store_clean.query('Category ==\"Shopping\"')\n",
    "category.groupby(['Category','Content Rating'])['Rating'].mean().sort_values(ascending = False)"
   ]
  },
  {
   "cell_type": "code",
   "execution_count": 107,
   "metadata": {},
   "outputs": [
    {
     "data": {
      "text/plain": [
       "Category  Content Rating\n",
       "Medical   Teen              4.533333\n",
       "          Mature 17+        4.425000\n",
       "          Everyone 10+      4.371429\n",
       "          Everyone          4.153623\n",
       "Name: Rating, dtype: float64"
      ]
     },
     "execution_count": 107,
     "metadata": {},
     "output_type": "execute_result"
    }
   ],
   "source": [
    "# selecting an app category \n",
    "# grouping by category and content rating with the rating average and then sorting dscendingly \n",
    "category = google_store_clean.query('Category ==\"Medical\"')\n",
    "category.groupby(['Category','Content Rating'])['Rating'].mean().sort_values(ascending = False)"
   ]
  },
  {
   "cell_type": "code",
   "execution_count": 108,
   "metadata": {},
   "outputs": [
    {
     "data": {
      "text/plain": [
       "Category  Content Rating\n",
       "Game      Everyone 10+      4.316822\n",
       "          Teen              4.245833\n",
       "          Everyone          4.237879\n",
       "          Mature 17+        4.230769\n",
       "Name: Rating, dtype: float64"
      ]
     },
     "execution_count": 108,
     "metadata": {},
     "output_type": "execute_result"
    }
   ],
   "source": [
    "# selecting an app category \n",
    "# grouping by category and content rating with the rating average and then sorting dscendingly \n",
    "category = google_store_clean.query('Category ==\"Game\"')\n",
    "category.groupby(['Category','Content Rating'])['Rating'].mean().sort_values(ascending = False)"
   ]
  },
  {
   "cell_type": "code",
   "execution_count": 109,
   "metadata": {
    "scrolled": true
   },
   "outputs": [
    {
     "data": {
      "text/plain": [
       "Category  Content Rating\n",
       "Finance   Everyone          4.116107\n",
       "          Teen              4.075000\n",
       "Name: Rating, dtype: float64"
      ]
     },
     "execution_count": 109,
     "metadata": {},
     "output_type": "execute_result"
    }
   ],
   "source": [
    "# selecting an app category \n",
    "# grouping by category and content rating with the rating average and then sorting dscendingly \n",
    "category = google_store_clean.query('Category ==\"Finance\"')\n",
    "category.groupby(['Category','Content Rating'])['Rating'].mean().sort_values(ascending = False)"
   ]
  },
  {
   "cell_type": "code",
   "execution_count": 110,
   "metadata": {},
   "outputs": [
    {
     "data": {
      "text/plain": [
       "Category         Content Rating\n",
       "Personalization  Mature 17+        4.500000\n",
       "                 Everyone 10+      4.380000\n",
       "                 Teen              4.360870\n",
       "                 Everyone          4.323664\n",
       "Name: Rating, dtype: float64"
      ]
     },
     "execution_count": 110,
     "metadata": {},
     "output_type": "execute_result"
    }
   ],
   "source": [
    "# selecting an app category \n",
    "# grouping by category and content rating with the rating average and then sorting dscendingly \n",
    "category = google_store_clean.query('Category ==\"Personalization\"')\n",
    "category.groupby(['Category','Content Rating'])['Rating'].mean().sort_values(ascending = False)"
   ]
  },
  {
   "cell_type": "code",
   "execution_count": 111,
   "metadata": {},
   "outputs": [
    {
     "data": {
      "text/plain": [
       "Category     Content Rating\n",
       "Photography  Mature 17+        4.4000\n",
       "             Teen              4.2600\n",
       "             Everyone          4.1504\n",
       "Name: Rating, dtype: float64"
      ]
     },
     "execution_count": 111,
     "metadata": {},
     "output_type": "execute_result"
    }
   ],
   "source": [
    "# selecting an app category \n",
    "# grouping by category and content rating with the rating average and then sorting dscendingly \n",
    "category = google_store_clean.query('Category ==\"Photography\"')\n",
    "category.groupby(['Category','Content Rating'])['Rating'].mean().sort_values(ascending = False)"
   ]
  },
  {
   "cell_type": "code",
   "execution_count": 112,
   "metadata": {},
   "outputs": [
    {
     "data": {
      "text/plain": [
       "Category          Content Rating\n",
       "Travel And Local  Mature 17+        4.600000\n",
       "                  Everyone          4.067033\n",
       "                  Teen              4.060000\n",
       "Name: Rating, dtype: float64"
      ]
     },
     "execution_count": 112,
     "metadata": {},
     "output_type": "execute_result"
    }
   ],
   "source": [
    "# selecting an app category \n",
    "# grouping by category and content rating with the rating average and then sorting dscendingly \n",
    "category = google_store_clean.query('Category ==\"Travel And Local\"')\n",
    "category.groupby(['Category','Content Rating'])['Rating'].mean().sort_values(ascending = False)"
   ]
  },
  {
   "cell_type": "code",
   "execution_count": 113,
   "metadata": {},
   "outputs": [
    {
     "data": {
      "text/plain": [
       "Category  Content Rating\n",
       "Dating    Mature 17+        3.973600\n",
       "          Teen              3.966667\n",
       "          Everyone          3.900000\n",
       "Name: Rating, dtype: float64"
      ]
     },
     "execution_count": 113,
     "metadata": {},
     "output_type": "execute_result"
    }
   ],
   "source": [
    "# selecting an app category \n",
    "# grouping by category and content rating with the rating average and then sorting dscendingly \n",
    "category = google_store_clean.query('Category ==\"Dating\"')\n",
    "category.groupby(['Category','Content Rating'])['Rating'].mean().sort_values(ascending = False)"
   ]
  },
  {
   "cell_type": "code",
   "execution_count": 114,
   "metadata": {},
   "outputs": [
    {
     "data": {
      "text/plain": [
       "Category      Content Rating\n",
       "Productivity  Mature 17+        4.600000\n",
       "              Everyone          4.184848\n",
       "              Teen              4.050000\n",
       "              Everyone 10+      3.600000\n",
       "Name: Rating, dtype: float64"
      ]
     },
     "execution_count": 114,
     "metadata": {},
     "output_type": "execute_result"
    }
   ],
   "source": [
    "# selecting an app category \n",
    "# grouping by category and content rating with the rating average and then sorting dscendingly \n",
    "category = google_store_clean.query('Category ==\"Productivity\"')\n",
    "category.groupby(['Category','Content Rating'])['Rating'].mean().sort_values(ascending = False)"
   ]
  },
  {
   "cell_type": "code",
   "execution_count": 115,
   "metadata": {},
   "outputs": [
    {
     "data": {
      "text/plain": [
       "Category        Content Rating\n",
       "Art And Design  Everyone 10+      4.700000\n",
       "                Teen              4.466667\n",
       "                Everyone          4.346032\n",
       "Name: Rating, dtype: float64"
      ]
     },
     "execution_count": 115,
     "metadata": {},
     "output_type": "execute_result"
    }
   ],
   "source": [
    "# selecting an app category \n",
    "# grouping by category and content rating with the rating average and then sorting dscendingly \n",
    "category = google_store_clean.query('Category ==\"Art And Design\"')\n",
    "category.groupby(['Category','Content Rating'])['Rating'].mean().sort_values(ascending = False)"
   ]
  },
  {
   "cell_type": "code",
   "execution_count": 116,
   "metadata": {},
   "outputs": [
    {
     "data": {
      "text/plain": [
       "Category        Content Rating\n",
       "Food And Drink  Teen              4.414286\n",
       "                Everyone 10+      4.300000\n",
       "                Everyone          4.149412\n",
       "Name: Rating, dtype: float64"
      ]
     },
     "execution_count": 116,
     "metadata": {},
     "output_type": "execute_result"
    }
   ],
   "source": [
    "# selecting an app category \n",
    "# grouping by category and content rating with the rating average and then sorting dscendingly \n",
    "category = google_store_clean.query('Category ==\"Food And Drink\"')\n",
    "category.groupby(['Category','Content Rating'])['Rating'].mean().sort_values(ascending = False)"
   ]
  },
  {
   "cell_type": "code",
   "execution_count": 117,
   "metadata": {},
   "outputs": [
    {
     "data": {
      "text/plain": [
       "Category       Content Rating\n",
       "Video Players  Everyone 10+      4.100000\n",
       "               Teen              4.057143\n",
       "               Everyone          4.047154\n",
       "               Mature 17+        3.650000\n",
       "Name: Rating, dtype: float64"
      ]
     },
     "execution_count": 117,
     "metadata": {},
     "output_type": "execute_result"
    }
   ],
   "source": [
    "# selecting an app category \n",
    "# grouping by category and content rating with the rating average and then sorting dscendingly \n",
    "category = google_store_clean.query('Category ==\"Video Players\"')\n",
    "category.groupby(['Category','Content Rating'])['Rating'].mean().sort_values(ascending = False)"
   ]
  },
  {
   "cell_type": "code",
   "execution_count": 118,
   "metadata": {
    "scrolled": true
   },
   "outputs": [
    {
     "data": {
      "text/plain": [
       "Category        Content Rating\n",
       "House And Home  Teen              4.650000\n",
       "                Everyone          4.133333\n",
       "Name: Rating, dtype: float64"
      ]
     },
     "execution_count": 118,
     "metadata": {},
     "output_type": "execute_result"
    }
   ],
   "source": [
    "# selecting an app category \n",
    "# grouping by category and content rating with the rating average and then sorting dscendingly \n",
    "category = google_store_clean.query('Category ==\"House And Home\"')\n",
    "category.groupby(['Category','Content Rating'])['Rating'].mean().sort_values(ascending = False)"
   ]
  },
  {
   "cell_type": "code",
   "execution_count": 119,
   "metadata": {},
   "outputs": [
    {
     "data": {
      "text/plain": [
       "Category             Content Rating\n",
       "Maps And Navigation  Teen              4.400000\n",
       "                     Everyone          4.041739\n",
       "                     Mature 17+        2.700000\n",
       "                     Everyone 10+           NaN\n",
       "Name: Rating, dtype: float64"
      ]
     },
     "execution_count": 119,
     "metadata": {},
     "output_type": "execute_result"
    }
   ],
   "source": [
    "# selecting an app category \n",
    "# grouping by category and content rating with the rating average and then sorting dscendingly \n",
    "category = google_store_clean.query('Category ==\"Maps And Navigation\"')\n",
    "category.groupby(['Category','Content Rating'])['Rating'].mean().sort_values(ascending = False)"
   ]
  },
  {
   "cell_type": "code",
   "execution_count": 120,
   "metadata": {},
   "outputs": [
    {
     "data": {
      "text/plain": [
       "Category       Content Rating\n",
       "Entertainment  Mature 17+        4.250000\n",
       "               Everyone          4.182222\n",
       "               Teen              4.114035\n",
       "               Everyone 10+      3.950000\n",
       "Name: Rating, dtype: float64"
      ]
     },
     "execution_count": 120,
     "metadata": {},
     "output_type": "execute_result"
    }
   ],
   "source": [
    "# selecting an app category \n",
    "# grouping by category and content rating with the rating average and then sorting dscendingly \n",
    "category = google_store_clean.query('Category ==\"Entertainment\"')\n",
    "category.groupby(['Category','Content Rating'])['Rating'].mean().sort_values(ascending = False)"
   ]
  },
  {
   "cell_type": "code",
   "execution_count": 121,
   "metadata": {},
   "outputs": [
    {
     "data": {
      "text/plain": [
       "Category  Content Rating\n",
       "Events    Teen              4.542857\n",
       "          Everyone 10+      4.500000\n",
       "          Everyone          4.411111\n",
       "Name: Rating, dtype: float64"
      ]
     },
     "execution_count": 121,
     "metadata": {},
     "output_type": "execute_result"
    }
   ],
   "source": [
    "# selecting an app category \n",
    "# grouping by category and content rating with the rating average and then sorting dscendingly \n",
    "category = google_store_clean.query('Category ==\"Events\"')\n",
    "category.groupby(['Category','Content Rating'])['Rating'].mean().sort_values(ascending = False)"
   ]
  },
  {
   "cell_type": "code",
   "execution_count": 122,
   "metadata": {},
   "outputs": [
    {
     "data": {
      "text/plain": [
       "Category   Content Rating\n",
       "Education  Teen              4.800000\n",
       "           Everyone 10+      4.500000\n",
       "           Everyone          4.377863\n",
       "           Mature 17+        4.166667\n",
       "Name: Rating, dtype: float64"
      ]
     },
     "execution_count": 122,
     "metadata": {},
     "output_type": "execute_result"
    }
   ],
   "source": [
    "# selecting an app category \n",
    "# grouping by category and content rating with the rating average and then sorting dscendingly \n",
    "category = google_store_clean.query('Category ==\"Education\"')\n",
    "category.groupby(['Category','Content Rating'])['Rating'].mean().sort_values(ascending = False)"
   ]
  },
  {
   "cell_type": "code",
   "execution_count": 123,
   "metadata": {},
   "outputs": [
    {
     "data": {
      "text/plain": [
       "Category           Content Rating\n",
       "Auto And Vehicles  Everyone 10+      4.300000\n",
       "                   Teen              4.200000\n",
       "                   Everyone          4.188732\n",
       "Name: Rating, dtype: float64"
      ]
     },
     "execution_count": 123,
     "metadata": {},
     "output_type": "execute_result"
    }
   ],
   "source": [
    "# selecting an app category \n",
    "# grouping by category and content rating with the rating average and then sorting dscendingly \n",
    "category = google_store_clean.query('Category ==\"Auto And Vehicles\"')\n",
    "category.groupby(['Category','Content Rating'])['Rating'].mean().sort_values(ascending = False)"
   ]
  },
  {
   "cell_type": "code",
   "execution_count": 124,
   "metadata": {},
   "outputs": [
    {
     "data": {
      "text/plain": [
       "Category  Content Rating\n",
       "Weather   Mature 17+        4.700000\n",
       "          Teen              4.450000\n",
       "          Everyone 10+      4.400000\n",
       "          Everyone          4.227941\n",
       "Name: Rating, dtype: float64"
      ]
     },
     "execution_count": 124,
     "metadata": {},
     "output_type": "execute_result"
    }
   ],
   "source": [
    "# selecting an app category \n",
    "# grouping by category and content rating with the rating average and then sorting dscendingly \n",
    "category = google_store_clean.query('Category ==\"Weather\"')\n",
    "category.groupby(['Category','Content Rating'])['Rating'].mean().sort_values(ascending = False)"
   ]
  },
  {
   "cell_type": "code",
   "execution_count": 125,
   "metadata": {},
   "outputs": [
    {
     "data": {
      "text/plain": [
       "Category  Content Rating\n",
       "Beauty    Mature 17+        4.500000\n",
       "          Everyone          4.287179\n",
       "          Teen              4.000000\n",
       "          Everyone 10+           NaN\n",
       "Name: Rating, dtype: float64"
      ]
     },
     "execution_count": 125,
     "metadata": {},
     "output_type": "execute_result"
    }
   ],
   "source": [
    "# selecting an app category \n",
    "# grouping by category and content rating with the rating average and then sorting dscendingly \n",
    "category = google_store_clean.query('Category ==\"Beauty\"')\n",
    "category.groupby(['Category','Content Rating'])['Rating'].mean().sort_values(ascending = False)"
   ]
  },
  {
   "cell_type": "code",
   "execution_count": 126,
   "metadata": {
    "scrolled": true
   },
   "outputs": [
    {
     "data": {
      "text/plain": [
       "Category            Content Rating\n",
       "Libraries And Demo  Everyone          4.178125\n",
       "Name: Rating, dtype: float64"
      ]
     },
     "execution_count": 126,
     "metadata": {},
     "output_type": "execute_result"
    }
   ],
   "source": [
    "# selecting an app category \n",
    "# grouping by category and content rating with the rating average and then sorting dscendingly \n",
    "category = google_store_clean.query('Category ==\"Libraries And Demo\"')\n",
    "category.groupby(['Category','Content Rating'])['Rating'].mean().sort_values(ascending = False)"
   ]
  },
  {
   "cell_type": "code",
   "execution_count": 127,
   "metadata": {
    "scrolled": true
   },
   "outputs": [
    {
     "data": {
      "text/plain": [
       "Category   Content Rating\n",
       "Parenting  Teen              4.700000\n",
       "           Mature 17+        4.600000\n",
       "           Everyone          4.260345\n",
       "Name: Rating, dtype: float64"
      ]
     },
     "execution_count": 127,
     "metadata": {},
     "output_type": "execute_result"
    }
   ],
   "source": [
    "# selecting an app category \n",
    "# grouping by category and content rating with the rating average and then sorting dscendingly \n",
    "category = google_store_clean.query('Category ==\"Parenting\"')\n",
    "category.groupby(['Category','Content Rating'])['Rating'].mean().sort_values(ascending = False)"
   ]
  },
  {
   "cell_type": "markdown",
   "metadata": {},
   "source": [
    "The above results can help developers estimate the expected average rating for their newly developed apps in the market."
   ]
  },
  {
   "cell_type": "markdown",
   "metadata": {},
   "source": [
    "### Conclusion "
   ]
  },
  {
   "cell_type": "markdown",
   "metadata": {},
   "source": [
    "The apps development field is very a competitive field. Thus, apps developers need to develop apps that are unique that offer beneficial features for users in a way that fulfill their needs in the best way. App developers must understand their audience very well and be updated to the new trend in the market. The project will help defentiyl apps developers to have some insight before developing any kind of mobile apps. "
   ]
  }
 ],
 "metadata": {
  "kernelspec": {
   "display_name": "Python 3",
   "language": "python",
   "name": "python3"
  },
  "language_info": {
   "codemirror_mode": {
    "name": "ipython",
    "version": 3
   },
   "file_extension": ".py",
   "mimetype": "text/x-python",
   "name": "python",
   "nbconvert_exporter": "python",
   "pygments_lexer": "ipython3",
   "version": "3.7.2rc1"
  }
 },
 "nbformat": 4,
 "nbformat_minor": 2
}
